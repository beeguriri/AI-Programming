{
 "cells": [
  {
   "cell_type": "markdown",
   "source": [
    "## Classes and Objects\n",
    "+ abstraction\n",
    "+ encapsulation\n",
    "+ Inheritance\n",
    "+ Polymorphism"
   ],
   "metadata": {
    "collapsed": false
   }
  },
  {
   "cell_type": "markdown",
   "source": [
    "### 1. User-Defined Classes"
   ],
   "metadata": {
    "collapsed": false
   }
  },
  {
   "cell_type": "code",
   "execution_count": 6,
   "metadata": {
    "collapsed": true
   },
   "outputs": [],
   "source": [
    "class Rectangle:\n",
    "  def __init__(self, width=1, height=1): # default parameter\n",
    "    self._width = width                  # 언더바 하나 : 외부에서 값 변경할 수 있음\n",
    "    self._height = height\n",
    "    self.__width = width                 # 언더바 두개 : encapsulation강제\n",
    "    self.__height = height\n",
    "\n",
    "  def setWidth(self, width):\n",
    "    self._width = width\n",
    "\n",
    "  def setHeight(self, height):\n",
    "    self._height = height\n",
    "\n",
    "  def getWidth(self):\n",
    "    return self._width\n",
    "\n",
    "  def getHeight(self):\n",
    "    return self._height\n",
    "\n",
    "  def area(self):\n",
    "    return self._width * self._height\n",
    "\n",
    "  def perimeter(self):\n",
    "    return 2 * (self._width + self._height)\n",
    "\n",
    "  def __area(self):\n",
    "      return self.__width * self.__height\n",
    "\n",
    "  def __perimeter(self):\n",
    "      return 2 * (self.__width + self.__height)\n",
    "\n",
    "  def __str__(self):\n",
    "    return (\"Width: \" + str(self._width) + \", Height: \" + str(self._height))\n"
   ]
  },
  {
   "cell_type": "code",
   "execution_count": 7,
   "outputs": [
    {
     "name": "stdout",
     "output_type": "stream",
     "text": [
      "Width: 1, Height: 1\n",
      "1\n",
      "Width: 4, Height: 5\n",
      "20\n"
     ]
    }
   ],
   "source": [
    "# default parameter\n",
    "print(Rectangle())\n",
    "print(Rectangle().area())\n",
    "\n",
    "# Create a rectangle of width 4 and height 5\n",
    "print(Rectangle(4, 5))\n",
    "print(Rectangle(4, 5).area())"
   ],
   "metadata": {
    "collapsed": false
   }
  },
  {
   "cell_type": "code",
   "execution_count": 12,
   "outputs": [
    {
     "name": "stdout",
     "output_type": "stream",
     "text": [
      "5\n"
     ]
    },
    {
     "ename": "AttributeError",
     "evalue": "'Rectangle' object has no attribute '__width'",
     "output_type": "error",
     "traceback": [
      "\u001B[1;31m---------------------------------------------------------------------------\u001B[0m",
      "\u001B[1;31mAttributeError\u001B[0m                            Traceback (most recent call last)",
      "Cell \u001B[1;32mIn[12], line 2\u001B[0m\n\u001B[0;32m      1\u001B[0m \u001B[38;5;28mprint\u001B[39m(Rectangle(\u001B[38;5;241m5\u001B[39m)\u001B[38;5;241m.\u001B[39m_width)\n\u001B[1;32m----> 2\u001B[0m \u001B[38;5;28mprint\u001B[39m(\u001B[43mRectangle\u001B[49m\u001B[43m(\u001B[49m\u001B[38;5;241;43m5\u001B[39;49m\u001B[43m)\u001B[49m\u001B[38;5;241;43m.\u001B[39;49m\u001B[43m__width\u001B[49m)\n",
      "\u001B[1;31mAttributeError\u001B[0m: 'Rectangle' object has no attribute '__width'"
     ]
    }
   ],
   "source": [
    "# 언더바 개수 차이 => encaplsulation\n",
    "print(Rectangle(5)._width)\n",
    "print(Rectangle(5).__width)"
   ],
   "metadata": {
    "collapsed": false
   }
  },
  {
   "cell_type": "code",
   "execution_count": 17,
   "outputs": [],
   "source": [
    "class LGstudent:\n",
    "  def __init__(self, name=\"\", midterm=0, final=0):\n",
    "    self.__name = name\n",
    "    self.__midterm = midterm\n",
    "    self.__final = final\n",
    "\n",
    "  # def setName(self, name):\n",
    "  #   self.__name = name\n",
    "  #\n",
    "  # def setMidterm(self, midterm):\n",
    "  #   self.__midterm = midterm\n",
    "  #\n",
    "  # def setFinal(self, final):\n",
    "  #   self.__final = final\n",
    "\n",
    "  def calcSemGrade(self):\n",
    "    grade = (self.__midterm + self.__final) / 2\n",
    "    grade = round(grade)\n",
    "    if grade >= 90: return \"A\"\n",
    "    elif grade >= 80: return \"B\"\n",
    "    elif grade >= 70: return \"C\"\n",
    "    elif grade >= 60: return \"D\"\n",
    "    else: return \"F\"\n",
    "\n",
    "  def __str__(self):\n",
    "    return self.__name + \"\\t\\t\" + self.calcSemGrade()"
   ],
   "metadata": {
    "collapsed": false
   }
  },
  {
   "cell_type": "code",
   "execution_count": 18,
   "outputs": [
    {
     "name": "stdout",
     "output_type": "stream",
     "text": [
      "\n",
      "NAME\tGRADE\n",
      "kim\t\tA\n"
     ]
    }
   ],
   "source": [
    "def main():\n",
    "  ## Calculate and display a student's semester letter grade.\n",
    "  name = input(\"Enter student's name: \")\n",
    "  midterm = float(input(\"Enter grade on midterm exam: \"))\n",
    "  final = float(input(\"Enter grade on final exam: \"))\n",
    "  # Create an instance of an LGstudent object.\n",
    "  st = LGstudent(name, midterm, final)\n",
    "  print(\"\\nNAME\\tGRADE\")\n",
    "  # Display student's name and semester letter grade.\n",
    "  print(st)\n",
    "\n",
    "main()"
   ],
   "metadata": {
    "collapsed": false
   }
  },
  {
   "cell_type": "code",
   "execution_count": 19,
   "outputs": [
    {
     "name": "stdout",
     "output_type": "stream",
     "text": [
      "\n",
      "NAME\tGRADE\n",
      "kim\t\tB\n"
     ]
    }
   ],
   "source": [
    "def main():\n",
    "  ## Calculate and display students' semester letter grades.\n",
    "  listOfStudents = [] # To holds objects each for a student\n",
    "  carryOn = 'Y'\n",
    "  while carryOn == 'Y': # Repeat until user says 'N'\n",
    "    st = LGstudent()\n",
    "    # Obtain student's name and grades.\n",
    "    name = input(\"Enter student's name: \")\n",
    "    midterm = float(input(\"Enter student's grade on midterm exam: \"))\n",
    "    final = float(input(\"Enter student's grade on final exam: \"))\n",
    "    # Create an instance of an LGstudent object.\n",
    "    st = LGstudent(name, midterm, final)\n",
    "    listOfStudents.append(st)\n",
    "    # Insert object into list.\n",
    "    carryOn = input(\"Do you want to continue (Y/N)? \")\n",
    "    carryOn = carryOn.upper()\n",
    "  print(\"\\nNAME\\tGRADE\")\n",
    "  # Display students, names and semester letter grades.\n",
    "  for pupil in listOfStudents:\n",
    "    print(pupil)\n",
    "\n",
    "main()"
   ],
   "metadata": {
    "collapsed": false
   }
  },
  {
   "cell_type": "markdown",
   "source": [
    "### 2. Inheritance\n",
    "+ SuperClass -> SubClass\n",
    "+ Overriding"
   ],
   "metadata": {
    "collapsed": false
   }
  },
  {
   "cell_type": "code",
   "execution_count": 53,
   "outputs": [
    {
     "name": "stdout",
     "output_type": "stream",
     "text": [
      "None\n"
     ]
    }
   ],
   "source": [
    "# Superclass\n",
    "# underbar 두개 사용하면 상속이 안됨...ㅋ\n",
    "class Student:\n",
    "  def __init__(self, name=\"\", midterm=0, final=0):\n",
    "    self._name = name\n",
    "    self._midterm = midterm\n",
    "    self._final = final\n",
    "\n",
    "  def setName(self, name):\n",
    "    self._name = name\n",
    "\n",
    "  def setMidterm(self, midterm):\n",
    "    self._midterm = midterm\n",
    "\n",
    "  def setFinal(self, final):\n",
    "    self._final = final\n",
    "\n",
    "  def getName(self):\n",
    "    return self._name\n",
    "\n",
    "  def calcSemGrade(self):\n",
    "    pass\n",
    "\n",
    "  def __str__(self):\n",
    "    return self._name + \"\\t\" + self.calcSemGrade()\n",
    "\n",
    "s = Student()\n",
    "s.__dict__.keys()\n",
    "print(s.calcSemGrade())"
   ],
   "metadata": {
    "collapsed": false
   }
  },
  {
   "cell_type": "code",
   "execution_count": 54,
   "outputs": [],
   "source": [
    "class LGstudent(Student): # Subclass of Student\n",
    "  def calcSemGrade(self): # Override\n",
    "    average = round((self._midterm + self._final) / 2)\n",
    "    if average >= 90: return \"A\"\n",
    "    elif average >= 80: return \"B\"\n",
    "    elif average >= 70: return \"C\"\n",
    "    elif average >= 60: return \"D\"\n",
    "    else: return \"F\"\n",
    "\n",
    "# pass-fail students\n",
    "class PFstudent(Student): # Subclass of Student\n",
    "  def calcSemGrade(self): # Override\n",
    "    average = round((self._midterm + self._final) / 2)\n",
    "    if average >= 60: return \"Pass\"\n",
    "    else: return \"Fail\""
   ],
   "metadata": {
    "collapsed": false
   }
  },
  {
   "cell_type": "code",
   "execution_count": 45,
   "outputs": [
    {
     "name": "stdout",
     "output_type": "stream",
     "text": [
      "dict_keys(['_name', '_midterm', '_final'])\n",
      "dict_keys(['_name', '_midterm', '_final'])\n",
      "F\n",
      "Fail\n"
     ]
    }
   ],
   "source": [
    "# 기본생성자 (default : name=\"\", midterm=0, final=0)\n",
    "lg = LGstudent()\n",
    "pf = PFstudent()\n",
    "\n",
    "print(lg.__dict__.keys())\n",
    "print(pf.__dict__.keys())\n",
    "print(lg.calcSemGrade())\n",
    "print(pf.calcSemGrade())"
   ],
   "metadata": {
    "collapsed": false
   }
  },
  {
   "cell_type": "code",
   "execution_count": 46,
   "outputs": [
    {
     "name": "stdout",
     "output_type": "stream",
     "text": [
      "C\n",
      "Pass\n"
     ]
    }
   ],
   "source": [
    "lg = LGstudent('kim', 70, 70)\n",
    "pf = PFstudent('lee', 90, 90)\n",
    "\n",
    "print(lg.calcSemGrade())\n",
    "print(pf.calcSemGrade())"
   ],
   "metadata": {
    "collapsed": false
   }
  },
  {
   "cell_type": "code",
   "execution_count": 55,
   "outputs": [],
   "source": [
    "def obtainListOfStudents():\n",
    "  listOfStudents = []\n",
    "  carryOn = 'Y'\n",
    "  while carryOn == 'Y':\n",
    "    name = input(\"Enter student's name: \")\n",
    "    midterm = float(input(\"Enter grade on midterm: \"))\n",
    "    final = float(input(\"Enter grade on final: \"))\n",
    "    category = input(\"Enter category (LG or PF): \")\n",
    "    if category.upper() == \"LG\":\n",
    "      st = LGstudent(name, midterm, final)\n",
    "    else:\n",
    "      st = PFstudent(name, midterm, final)\n",
    "    listOfStudents.append(st)\n",
    "    carryOn = input(\"Do you want to continue (Y/N)? \")\n",
    "    carryOn = carryOn.upper()\n",
    "  return listOfStudents\n",
    "\n",
    "def displayResults(listOfStudents):\n",
    "  print(\"\\nNAME\\tGRADE\")\n",
    "  # Sort students by name.\n",
    "  listOfStudents.sort(key = lambda x: x.getName())\n",
    "  for pupil in listOfStudents:\n",
    "    print(pupil)"
   ],
   "metadata": {
    "collapsed": false
   }
  },
  {
   "cell_type": "code",
   "execution_count": 50,
   "outputs": [
    {
     "name": "stdout",
     "output_type": "stream",
     "text": [
      "\n",
      "NAME\tGRADE\n",
      "kim\tB\n",
      "lee\tPass\n"
     ]
    }
   ],
   "source": [
    "def main():\n",
    "  # students and grades\n",
    "  listOfStudents = obtainListOfStudents()\n",
    "  displayResults(listOfStudents)\n",
    "\n",
    "main()"
   ],
   "metadata": {
    "collapsed": false
   }
  },
  {
   "cell_type": "code",
   "execution_count": 56,
   "outputs": [],
   "source": [
    "class PFstudent(Student):\n",
    "  # A new Boolean parameter fullTime is added\n",
    "  def __init__(self, name=\"\", midterm=0, final=0, fullTime=True): # 매개변수 추가\n",
    "    super().__init__(name, midterm, final) # 부모생성자 초기화\n",
    "    self._fullTime = fullTime # 추가 된 자기매개변수 초기화\n",
    "\n",
    "  def setFullTime(self, fullTime):\n",
    "    self._fullTime = fullTime\n",
    "\n",
    "  def getFullTime(self):\n",
    "    return self._fullTime\n",
    "\n",
    "  def calcSemGrade(self):\n",
    "    average = round((self._midterm + self._final) / 2)\n",
    "    if average >= 60: return \"Pass\"\n",
    "    else: return \"Fail\"\n",
    "\n",
    "  def __str__(self):\n",
    "    if self._fullTime:\n",
    "      status = \"Full-time student\"\n",
    "    else:\n",
    "      status = \"Part-time student\"\n",
    "    return (self._name + \"\\t\" + self.calcSemGrade() + \"\\t\" + status)"
   ],
   "metadata": {
    "collapsed": false
   }
  },
  {
   "cell_type": "code",
   "execution_count": 57,
   "outputs": [
    {
     "name": "stdout",
     "output_type": "stream",
     "text": [
      "\n",
      "NAME\tGRADE\tSTATUS\n",
      "kim\tPass\tFull-time student\n"
     ]
    }
   ],
   "source": [
    "def main():\n",
    "  ## Calculate and display a student's semester letter grade\n",
    "  ## and status. Obtain student's name, grade on midterm\n",
    "  ## exam, and grade on final.\n",
    "  name = input(\"Enter student's name: \")\n",
    "  midterm = float(input(\"Enter grade on midterm: \"))\n",
    "  final = float(input(\"Enter grade on final: \"))\n",
    "  category = input(\"Enter category (LG or PF): \")\n",
    "  if category.upper() == \"LG\":\n",
    "    st = LGstudent(name, midterm, final)\n",
    "  else:\n",
    "    question = input(\"Is \" + name + \" a full time student (Y/N)? \")\n",
    "    if question.upper() == 'Y': fullTime = True\n",
    "    else: fullTime = False\n",
    "\n",
    "    st = PFstudent(name, midterm, final, fullTime)\n",
    "    # Display student's name, semester letter grade, and status.\n",
    "  print(\"\\nNAME\\tGRADE\\tSTATUS\")\n",
    "  print(st)\n",
    "\n",
    "main()"
   ],
   "metadata": {
    "collapsed": false
   }
  },
  {
   "cell_type": "markdown",
   "source": [
    "### 3. Polymorphism"
   ],
   "metadata": {
    "collapsed": false
   }
  },
  {
   "cell_type": "markdown",
   "source": [
    "### 4. Annotation"
   ],
   "metadata": {
    "collapsed": false
   }
  },
  {
   "cell_type": "code",
   "execution_count": 61,
   "outputs": [],
   "source": [
    "# Immutable Object\n",
    "class PNUStudent():\n",
    "  def __init__(self, name, major):\n",
    "    self._name = name\n",
    "    self._major = major\n",
    "\n",
    "  @staticmethod\n",
    "  def university():\n",
    "    return \"Pusan National University\"\n",
    "\n",
    "  # getter\n",
    "  @property\n",
    "  def name(self):\n",
    "    return self._name\n",
    "\n",
    "  # setter\n",
    "  @name.setter\n",
    "  def name(self, name):\n",
    "    self._name = name.upper();\n",
    "\n",
    "  @property\n",
    "  def major(self):\n",
    "    return self._major\n",
    "\n",
    "  @major.setter\n",
    "  def major(self, major):\n",
    "    self._major = major.upper()\n",
    "\n",
    "  def __str__(self):\n",
    "    return f\"name: {self._name}, major: {self._major}\""
   ],
   "metadata": {
    "collapsed": false
   }
  },
  {
   "cell_type": "code",
   "execution_count": 63,
   "outputs": [
    {
     "name": "stdout",
     "output_type": "stream",
     "text": [
      "Pusan National University\n",
      "Pusan National University\n",
      "dict_keys(['_name', '_major'])\n",
      "Kim\n",
      "CS\n",
      "name: hello, major: math\n"
     ]
    }
   ],
   "source": [
    "print(PNUStudent.university())\n",
    "\n",
    "ps = PNUStudent('Kim', 'CS')\n",
    "print(ps.university())\n",
    "print(ps.__dict__.keys())\n",
    "print(ps.name)\n",
    "print(ps.major)\n",
    "\n",
    "# the leading underscore (_) in names\n",
    "# setter가 없으면 에러\n",
    "ps._name = 'hello'\n",
    "ps._major = 'math'\n",
    "print(str(ps))"
   ],
   "metadata": {
    "collapsed": false
   }
  }
 ],
 "metadata": {
  "kernelspec": {
   "display_name": "Python 3",
   "language": "python",
   "name": "python3"
  },
  "language_info": {
   "codemirror_mode": {
    "name": "ipython",
    "version": 2
   },
   "file_extension": ".py",
   "mimetype": "text/x-python",
   "name": "python",
   "nbconvert_exporter": "python",
   "pygments_lexer": "ipython2",
   "version": "2.7.6"
  }
 },
 "nbformat": 4,
 "nbformat_minor": 0
}
