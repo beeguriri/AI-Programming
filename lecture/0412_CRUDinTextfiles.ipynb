{
 "cells": [
  {
   "cell_type": "markdown",
   "source": [
    "### Reading Text Files\n",
    "+ file open 하면 반드시 close 해주기\n",
    "+ with 사용해서 open시 자동으로 close 함"
   ],
   "metadata": {
    "collapsed": false
   }
  },
  {
   "cell_type": "code",
   "execution_count": 16,
   "outputs": [
    {
     "name": "stdout",
     "output_type": "stream",
     "text": [
      "George Washington\n",
      "John Adams\n",
      "Thomas Jefferson\n",
      "\n",
      "['George Washington', 'John Adams', 'Thomas Jefferson']\n",
      "\n",
      "George Washington\n",
      "John Adams\n",
      "Thomas Jefferson\n"
     ]
    }
   ],
   "source": [
    "def main():\n",
    "    file = \"../data/FirstPresidents.txt\"\n",
    "    displayWithForLoop(file)\n",
    "    print()\n",
    "    displayWithListComprehension(file)\n",
    "    print()\n",
    "    displayWithReadline(file)\n",
    "\n",
    "def displayWithForLoop(file):\n",
    "    # infile = open(file, 'r')\n",
    "    # for line in infile:\n",
    "    #     print(line.rstrip())\n",
    "    # infile.close()\n",
    "\n",
    "    # with open(file, 'r') as f_read:\n",
    "    #     print(f_read.readlines())\n",
    "\n",
    "    with open(file, 'r') as f_read:\n",
    "        for line in f_read:\n",
    "            print(line.strip())\n",
    "\n",
    "def displayWithListComprehension(file):\n",
    "    infile = open(file, 'r')\n",
    "    listPres = [line.rstrip() for line in infile]\n",
    "    infile.close()\n",
    "    print(listPres)\n",
    "\n",
    "def displayWithReadline(file):\n",
    "    infile = open(file, 'r')\n",
    "    line = infile.readline()\n",
    "    while line != \"\":\n",
    "        print(line.rstrip())\n",
    "        line = infile.readline()\n",
    "    infile.close()\n",
    "\n",
    "main()"
   ],
   "metadata": {
    "collapsed": false
   }
  },
  {
   "cell_type": "markdown",
   "source": [
    "### Creating Text File"
   ],
   "metadata": {
    "collapsed": false
   }
  },
  {
   "cell_type": "code",
   "execution_count": 20,
   "outputs": [],
   "source": [
    "def main():\n",
    "    L = ['George Washington', 'John Adams', 'Thomas Jefferson']\n",
    "    outfile = open('../data/FirstPresidents2.txt', 'w')\n",
    "    createWithWrite(L, outfile)\n",
    "    outfile = open('../data/FirstPresidents3.txt', 'w')\n",
    "    createWithWritelines(L, outfile)\n",
    "\n",
    "def createWithWrite(L, outfile):\n",
    "    for i in L:\n",
    "        outfile.write(i + \"\\n\")\n",
    "    outfile.close()\n",
    "\n",
    "def createWithWritelines(L, outfile):\n",
    "    for i in L:\n",
    "        i = i + \"\\n\"\n",
    "    outfile.writelines(L)\n",
    "    outfile.close()"
   ],
   "metadata": {
    "collapsed": false
   }
  },
  {
   "cell_type": "code",
   "execution_count": 21,
   "outputs": [],
   "source": [
    "main()"
   ],
   "metadata": {
    "collapsed": false
   }
  },
  {
   "cell_type": "code",
   "execution_count": 23,
   "outputs": [],
   "source": [
    "def main():\n",
    "  fileName = '../data/States.txt'\n",
    "  sortedFileName = '../data/StatesAlpha.txt'\n",
    "  statesList = createListFromFile(fileName)\n",
    "  print('statesList', statesList)\n",
    "  createSortedFile(statesList, sortedFileName)\n",
    "  sortedStatesList = createListFromFile(sortedFileName)\n",
    "  print('sortedStatesList', sortedStatesList)\n",
    "\n",
    "def createListFromFile(fileName):\n",
    "  infile = open(fileName, 'r')\n",
    "  desiredList = [line.rstrip() for line in infile]\n",
    "  infile.close()\n",
    "  return desiredList\n",
    "\n",
    "def createSortedFile(listName, fileName):\n",
    "  listName.sort()\n",
    "  for i in range(len(listName)):\n",
    "    listName[i] = listName[i] + \"\\n\"\n",
    "  outfile = open(fileName, 'w')\n",
    "  outfile.writelines(listName)\n",
    "  outfile.close()"
   ],
   "metadata": {
    "collapsed": false
   }
  },
  {
   "cell_type": "code",
   "execution_count": 24,
   "outputs": [
    {
     "name": "stdout",
     "output_type": "stream",
     "text": [
      "statesList ['Delaware', 'Pennsylvania', 'New Jersey', 'Georgia', 'Connecticut', 'Massachusetts', 'Maryland', 'South Carolina', 'New Hampshire', 'Virginia', 'New York', 'North Carolina', 'Rhode Island', 'Vermont', 'Kentucky', 'Tennessee', 'Ohio', 'Louisiana', 'Indiana', 'Mississippi', 'Illinois', 'Alabama', 'Maine', 'Missouri', 'Arkansas', 'Michigan', 'Florida', 'Texas', 'Iowa', 'Wisconsin', 'California', 'Minnesota', 'Oregon', 'Kansas', 'West Virginia', 'Nevada', 'Nebraska', 'Colorado', 'North Dakota', 'South Dakota', 'Montana', 'Washington', 'Idaho', 'Wyoming', 'Utah', 'Oklahoma', 'New Mexico', 'Arizona', 'Alaska', 'Hawaii']\n",
      "sortedStatesList ['Alabama', 'Alaska', 'Arizona', 'Arkansas', 'California', 'Colorado', 'Connecticut', 'Delaware', 'Florida', 'Georgia', 'Hawaii', 'Idaho', 'Illinois', 'Indiana', 'Iowa', 'Kansas', 'Kentucky', 'Louisiana', 'Maine', 'Maryland', 'Massachusetts', 'Michigan', 'Minnesota', 'Mississippi', 'Missouri', 'Montana', 'Nebraska', 'Nevada', 'New Hampshire', 'New Jersey', 'New Mexico', 'New York', 'North Carolina', 'North Dakota', 'Ohio', 'Oklahoma', 'Oregon', 'Pennsylvania', 'Rhode Island', 'South Carolina', 'South Dakota', 'Tennessee', 'Texas', 'Utah', 'Vermont', 'Virginia', 'Washington', 'West Virginia', 'Wisconsin', 'Wyoming']\n"
     ]
    }
   ],
   "source": [
    "main()"
   ],
   "metadata": {
    "collapsed": false
   }
  },
  {
   "cell_type": "code",
   "execution_count": null,
   "outputs": [],
   "source": [
    "    # with open(oldFileName, 'r') as f_read,\\\n",
    "    #     open(newFileName, 'w') as f_write:"
   ],
   "metadata": {
    "collapsed": false
   }
  },
  {
   "cell_type": "markdown",
   "source": [
    "### Adding Lines to an Existing Test File"
   ],
   "metadata": {
    "collapsed": false
   }
  },
  {
   "cell_type": "code",
   "execution_count": 25,
   "outputs": [],
   "source": [
    "def main():\n",
    "    outfile = open('../data/FirstPresidents2.txt', 'a')\n",
    "    list1 = ['James Madison\\n', 'James Monroe\\n']\n",
    "    outfile.writelines(list1)\n",
    "    outfile.write('John Q. Adams\\n')\n",
    "    outfile.close()\n",
    "\n",
    "main()"
   ],
   "metadata": {
    "collapsed": false
   }
  },
  {
   "cell_type": "code",
   "execution_count": 27,
   "outputs": [
    {
     "name": "stdout",
     "output_type": "stream",
     "text": [
      "File already exists\n"
     ]
    }
   ],
   "source": [
    "import os.path\n",
    "\n",
    "if os.path.isfile('../data/ABC.txt'):\n",
    "    print(\"File already exists\")\n",
    "else:\n",
    "    infile = open('../data/ABC.txt', 'w')\n",
    "    infile.write('a\\nb\\nc\\n')\n",
    "    infile.close()"
   ],
   "metadata": {
    "collapsed": false
   }
  },
  {
   "cell_type": "markdown",
   "source": [
    "### CSV Files"
   ],
   "metadata": {
    "collapsed": false
   }
  },
  {
   "cell_type": "code",
   "execution_count": 29,
   "outputs": [
    {
     "data": {
      "text/plain": "{'Africa',\n 'Asia',\n 'Australia/Oceania',\n 'Europe',\n 'North America',\n 'South America'}"
     },
     "execution_count": 29,
     "metadata": {},
     "output_type": "execute_result"
    }
   ],
   "source": [
    "import csv\n",
    "from itertools import groupby\n",
    "first = lambda x: x[0]\n",
    "fileName = '../data/UN.txt'\n",
    "\n",
    "def getContinentList():\n",
    "  contents = list()\n",
    "  with open(fileName, 'r') as f_read:\n",
    "    reader = csv.reader(f_read)\n",
    "    for row in reader:\n",
    "      contents.append(row)\n",
    "\n",
    "  return set(map(first, groupby(contents, lambda x: x[1])))\n",
    "\n",
    "getContinentList()"
   ],
   "metadata": {
    "collapsed": false
   }
  },
  {
   "cell_type": "code",
   "execution_count": 30,
   "outputs": [
    {
     "name": "stdout",
     "output_type": "stream",
     "text": [
      "Albania\n",
      "Andorra\n",
      "Austria\n",
      "Belarus\n",
      "Belgium\n",
      "Bosnia and Herzegovina\n",
      "Bulgaria\n",
      "Croatia\n",
      "Czech Republic\n",
      "Denmark\n",
      "Estonia\n",
      "Finland\n",
      "France\n",
      "Germany\n",
      "Greece\n",
      "Hungary\n",
      "Iceland\n",
      "Ireland\n",
      "Italy\n",
      "Latvia\n",
      "Liechtenstein\n",
      "Lithuania\n",
      "Luxembourg\n",
      "Malta\n",
      "Monaco\n",
      "Montenegro\n",
      "Netherlands\n",
      "Norway\n",
      "Poland\n",
      "Portugal\n",
      "Republic of Moldova\n",
      "Romania\n",
      "Russian Federation\n",
      "San Marino\n",
      "Serbia\n",
      "Slovakia\n",
      "Slovenia\n",
      "Spain\n",
      "Sweden\n",
      "Switzerland\n",
      "The former Yugoslav Republic of Macedonia\n",
      "Ukraine\n",
      "United Kingdom\n"
     ]
    }
   ],
   "source": [
    "def main():\n",
    "  continent = input(f\"Enter the name of a continent: {*getContinentList(),} \")\n",
    "  continent = continent.title()\n",
    "  if continent != \"Antarctica\":\n",
    "    infile = open(fileName, 'r')\n",
    "    for line in infile:\n",
    "      data = line.split(',')\n",
    "      if data[1] == continent:\n",
    "        print(data[0])\n",
    "    infile.close()\n",
    "  else:\n",
    "    print(\"There are no countries in Antarctica.\")\n",
    "\n",
    "main()"
   ],
   "metadata": {
    "collapsed": false
   }
  },
  {
   "cell_type": "code",
   "execution_count": 41,
   "outputs": [],
   "source": [
    "fileName = '../data/UN.txt'\n",
    "outputFileName = '../data/UNbyArea.txt'\n",
    "\n",
    "from enum import Enum\n",
    "class Column(Enum):\n",
    "  COUNTRY = 0\n",
    "  CONTINENT = 1\n",
    "  POPULATION = 2\n",
    "  AREA = 3\n",
    "\n",
    "def main():\n",
    "  countries = placeRecordsIntoList(fileName)\n",
    "  countries.sort(key=lambda country: country[3], reverse=True) # sort by area (column3)\n",
    "  displayFiveLargestCountries(countries)\n",
    "  createNewFile(countries)\n",
    "\n",
    "def placeRecordsIntoList(fileName):\n",
    "  # infile = open(fileName, 'r')\n",
    "  # infile.close()\n",
    "  with open(fileName, 'r') as infile:\n",
    "      listOfRecords = [line.rstrip() for line in infile]\n",
    "\n",
    "  for i in range(len(listOfRecords)):\n",
    "    listOfRecords[i] = listOfRecords[i].split(',')\n",
    "    listOfRecords[i][Column.POPULATION.value] = eval(listOfRecords[i][Column.POPULATION.value]) # population\n",
    "    # listOfRecords[i][2] = eval(listOfRecords[i][2]) # population\n",
    "    listOfRecords[i][Column.AREA.value] = eval(listOfRecords[i][Column.AREA.value]) # area\n",
    "    # listOfRecords[i][3] = eval(listOfRecords[i][3]) # area\n",
    "\n",
    "  return listOfRecords\n",
    "\n",
    "def displayFiveLargestCountries(countries, n=5):\n",
    "  print(\"{0:20}{1:9}\".format(\"Country\", \"Area (sq. mi.)\"))\n",
    "  for i in range(n):\n",
    "    print(\"{0:20}{1:9,d}\".format(countries[i][0], countries[i][3]))\n",
    "\n",
    "def createNewFile(countries):\n",
    "  # outfile = open(outputFileName, 'w')\n",
    "  # outfile.close()\n",
    "  with open(outputFileName, 'w') as outfile:\n",
    "      for country in countries:\n",
    "        outfile.write(country[Column.COUNTRY.value] + ',' + str(country[Column.AREA.value])+ \"\\n\")"
   ],
   "metadata": {
    "collapsed": false
   }
  },
  {
   "cell_type": "code",
   "execution_count": 42,
   "outputs": [
    {
     "name": "stdout",
     "output_type": "stream",
     "text": [
      "Country             Area (sq. mi.)\n",
      "Russian Federation  6,592,800\n",
      "Canada              3,855,000\n",
      "United States       3,794,066\n",
      "China               3,696,100\n",
      "Brazil              3,287,597\n"
     ]
    }
   ],
   "source": [
    "main()"
   ],
   "metadata": {
    "collapsed": false
   }
  },
  {
   "cell_type": "markdown",
   "source": [
    "### Binary Files"
   ],
   "metadata": {
    "collapsed": false
   }
  },
  {
   "cell_type": "code",
   "execution_count": 54,
   "outputs": [],
   "source": [
    "import pickle\n",
    "\n",
    "def main():\n",
    "    fileName = '../data/UNDict.dat'\n",
    "    nations = getDictionry(fileName)\n",
    "    print(nations)\n",
    "    continent = input(\"other than Antarctica: ('Europe', 'Asia', 'North America', 'South America', 'Africa', 'Australia/Oceania') \")\n",
    "    continentDict = constructContinentNations(nations, continent)\n",
    "    # print(continentDict)\n",
    "    # displaySortedResults(continentDict)\n",
    "\n",
    "def getDictionry(fileName):\n",
    "    with open(fileName, 'rb') as infile:\n",
    "        countries = pickle.load(infile)\n",
    "    return countries\n",
    "\n",
    "def constructContinentNations(nations, continent):\n",
    "    continentDict = {}\n",
    "    for nation in nations:\n",
    "        if nations[nation][\"cont\"] == continent:\n",
    "            continentDict[nation] = nations[nation]\n",
    "    return continentDict\n",
    "\n",
    "def displaySortedResults(dictionaryName):\n",
    "    continentList = sorted(dictionaryName.items(), key=lambda k: k[1][\"popl\"], reverse=True)\n",
    "    for k in continentList:\n",
    "        print(\" {0:s}: {1:,.2f}\".format(k[0], k[1][\"popl\"]))"
   ],
   "metadata": {
    "collapsed": false
   }
  },
  {
   "cell_type": "code",
   "execution_count": 55,
   "outputs": [
    {
     "name": "stdout",
     "output_type": "stream",
     "text": [
      "{'Peru': {'popl': 30.1, 'cont': 'South America', 'area': 496226}, 'Czech Republic': {'popl': 10.6, 'cont': 'Europe', 'area': 30450}, 'Panama': {'popl': 3.6, 'cont': 'North America', 'area': 29157}, 'Namibia': {'popl': 2.2, 'cont': 'Africa', 'area': 318696}, 'Qatar': {'popl': 2.1, 'cont': 'Asia', 'area': 4416}, 'Slovenia': {'popl': 2.0, 'cont': 'Europe', 'area': 7827}, 'France': {'popl': 66.3, 'cont': 'Europe', 'area': 211209}, 'Fiji': {'popl': 0.9, 'cont': 'Australia/Oceania', 'area': 7056}, 'Azerbaijan': {'popl': 9.7, 'cont': 'Asia', 'area': 33436}, 'Sweden': {'popl': 9.7, 'cont': 'Europe', 'area': 173732}, 'Jordan': {'popl': 7.9, 'cont': 'Asia', 'area': 45495}, 'Paraguay': {'popl': 6.7, 'cont': 'South America', 'area': 157048}, 'Algeria': {'popl': 38.3, 'cont': 'Africa', 'area': 919595}, 'United Republic of Tanzania': {'popl': 50.0, 'cont': 'Africa', 'area': 364898}, 'Sudan': {'popl': 35.5, 'cont': 'Africa', 'area': 967495}, 'Argentina': {'popl': 44.0, 'cont': 'South America', 'area': 1068302}, 'Mauritania': {'popl': 3.5, 'cont': 'Africa', 'area': 397954}, 'Vietnam': {'popl': 93.4, 'cont': 'Asia', 'area': 128527}, 'Kuwait': {'popl': 2.7, 'cont': 'Asia', 'area': 6880}, 'Papua New Guinea': {'popl': 6.6, 'cont': 'Australia/Oceania', 'area': 178703}, 'Nicaragua': {'popl': 6.1, 'cont': 'North America', 'area': 50193}, 'Comoros': {'popl': 0.77, 'cont': 'Africa', 'area': 863}, 'Jamaica': {'popl': 2.9, 'cont': 'North America', 'area': 4444}, 'Palau': {'popl': 0.021, 'cont': 'Australia/Oceania', 'area': 177}, 'Norway': {'popl': 5.1, 'cont': 'Europe', 'area': 148746}, 'Australia': {'popl': 22.5, 'cont': 'Australia/Oceania', 'area': 2967909}, 'Brazil': {'popl': 202.7, 'cont': 'South America', 'area': 3287597}, 'Cambodia': {'popl': 15.5, 'cont': 'Asia', 'area': 69898}, 'Senegal': {'popl': 13.6, 'cont': 'Africa', 'area': 76000}, 'Honduras': {'popl': 8.6, 'cont': 'North America', 'area': 43278}, 'Morocco': {'popl': 33.0, 'cont': 'Africa', 'area': 172414}, 'Maldives': {'popl': 0.39, 'cont': 'Asia', 'area': 115}, 'Togo': {'popl': 7.4, 'cont': 'Africa', 'area': 21925}, 'Bolivia': {'popl': 10.6, 'cont': 'South America', 'area': 424163}, 'Syrian Arab Republic': {'popl': 18.0, 'cont': 'Asia', 'area': 71479}, 'Eritrea': {'popl': 6.3, 'cont': 'Africa', 'area': 45405}, 'Swaziland': {'popl': 1.4, 'cont': 'Africa', 'area': 6704}, 'Djibouti': {'popl': 0.81, 'cont': 'Africa', 'area': 8958}, 'Russian Federation': {'popl': 142.5, 'cont': 'Europe', 'area': 6592800}, 'South Africa': {'popl': 48.4, 'cont': 'Africa', 'area': 471443}, 'Spain': {'popl': 47.7, 'cont': 'Europe', 'area': 195364}, 'Saint Kitts and Nevis': {'popl': 0.052, 'cont': 'North America', 'area': 101}, 'Romania': {'popl': 21.7, 'cont': 'Europe', 'area': 92043}, 'Chile': {'popl': 17.4, 'cont': 'South America', 'area': 292183}, 'Albania': {'popl': 3.0, 'cont': 'Europe', 'area': 11100}, 'Croatia': {'popl': 4.5, 'cont': 'Europe', 'area': 21831}, 'Republic of the Congo': {'popl': 4.7, 'cont': 'Africa', 'area': 132047}, 'Belize': {'popl': 0.34, 'cont': 'North America', 'area': 8867}, 'Micronesia': {'popl': 0.11, 'cont': 'Australia/Oceania', 'area': 271}, 'Somalia': {'popl': 10.4, 'cont': 'Africa', 'area': 246201}, 'Finland': {'popl': 5.3, 'cont': 'Europe', 'area': 130596}, 'Kiribati': {'popl': 0.1, 'cont': 'Australia/Oceania', 'area': 280}, 'Dominican Republic': {'popl': 10.4, 'cont': 'North America', 'area': 18704}, 'Cape Verde': {'popl': 0.54, 'cont': 'Africa', 'area': 1557}, 'Madagascar': {'popl': 23.2, 'cont': 'Africa', 'area': 226597}, 'Andorra': {'popl': 0.085, 'cont': 'Europe', 'area': 181}, 'Saint Vincent and the Grenadines': {'popl': 0.1, 'cont': 'North America', 'area': 150}, 'Benin': {'popl': 10.2, 'cont': 'Africa', 'area': 43484}, 'Tajikistan': {'popl': 8.1, 'cont': 'Asia', 'area': 55251}, 'Samoa': {'popl': 0.2, 'cont': 'Australia/Oceania', 'area': 1093}, 'Greece': {'popl': 11.8, 'cont': 'Europe', 'area': 50944}, 'Gabon': {'popl': 1.7, 'cont': 'Africa', 'area': 103347}, 'The former Yugoslav Republic of Macedonia': {'popl': 2.1, 'cont': 'Europe', 'area': 205}, 'Luxembourg': {'popl': 0.52, 'cont': 'Europe', 'area': 998}, 'Lebanon': {'popl': 5.9, 'cont': 'Asia', 'area': 4035}, 'Philippines': {'popl': 107.7, 'cont': 'Asia', 'area': 115831}, 'Venezuela': {'popl': 28.9, 'cont': 'South America', 'area': 353841}, 'Armenia': {'popl': 3.1, 'cont': 'Asia', 'area': 11506}, \"Lao People's Democratic Republic\": {'popl': 6.8, 'cont': 'Asia', 'area': 91429}, 'Netherlands': {'popl': 16.59, 'cont': 'Europe', 'area': 16033}, 'Liberia': {'popl': 4.1, 'cont': 'Africa', 'area': 43000}, 'Suriname': {'popl': 0.57, 'cont': 'South America', 'area': 63251}, 'Italy': {'popl': 61.7, 'cont': 'Europe', 'area': 116346}, 'Mauritius': {'popl': 1.3, 'cont': 'Africa', 'area': 787}, 'Tuvalu': {'popl': 0.011, 'cont': 'Australia/Oceania', 'area': 10}, 'El Salvador': {'popl': 6.2, 'cont': 'North America', 'area': 8124}, 'Vanuatu': {'popl': 0.27, 'cont': 'Australia/Oceania', 'area': 4706}, 'Bhutan': {'popl': 0.73, 'cont': 'Asia', 'area': 14824}, 'Ukraine': {'popl': 44.3, 'cont': 'Europe', 'area': 233090}, 'Ecuador': {'popl': 14.0, 'cont': 'South America', 'area': 98985}, 'Singapore': {'popl': 5.6, 'cont': 'Asia', 'area': 274.2}, 'Timor-Leste': {'popl': 1.2, 'cont': 'Asia', 'area': 5743}, 'Tonga': {'popl': 0.11, 'cont': 'Australia/Oceania', 'area': 289}, 'Democratic Republic of the Congo': {'popl': 77.4, 'cont': 'Africa', 'area': 905355}, 'Ireland': {'popl': 4.8, 'cont': 'Europe', 'area': 31520}, 'Zambia': {'popl': 14.7, 'cont': 'Africa', 'area': 290587}, 'Yemen': {'popl': 26.1, 'cont': 'Asia', 'area': 203849}, 'China': {'popl': 1355.7, 'cont': 'Asia', 'area': 3696100}, 'Malawi': {'popl': 17.4, 'cont': 'Africa', 'area': 45747}, 'Egypt': {'popl': 86.9, 'cont': 'Africa', 'area': 387048}, 'Mexico': {'popl': 120.3, 'cont': 'North America', 'area': 761606}, 'Cameroon': {'popl': 23.1, 'cont': 'Africa', 'area': 183568}, 'Turkmenistan': {'popl': 5.1, 'cont': 'Asia', 'area': 188456}, 'Mozambique': {'popl': 24.7, 'cont': 'Africa', 'area': 309496}, 'Barbados': {'popl': 0.29, 'cont': 'North America', 'area': 167}, 'Niger': {'popl': 17.5, 'cont': 'Africa', 'area': 489678}, 'Ghana': {'popl': 25.8, 'cont': 'Africa', 'area': 92098}, 'Colombia': {'popl': 46.2, 'cont': 'South America', 'area': 440839}, 'Myanmar': {'popl': 55.7, 'cont': 'Asia', 'area': 261227}, 'Kyrgyzstan': {'popl': 5.6, 'cont': 'Asia', 'area': 77181}, 'Thailand': {'popl': 67.7, 'cont': 'Asia', 'area': 198115}, 'Monaco': {'popl': 0.031, 'cont': 'Europe', 'area': 0.76}, 'Haiti': {'popl': 10.2, 'cont': 'North America', 'area': 10714}, 'Nepal': {'popl': 31.0, 'cont': 'Asia', 'area': 56827}, 'Malaysia': {'popl': 30.1, 'cont': 'Asia', 'area': 127355}, 'Malta': {'popl': 0.41, 'cont': 'Europe', 'area': 121}, 'Bulgaria': {'popl': 6.9, 'cont': 'Europe', 'area': 42823}, 'Seychelles': {'popl': 0.092, 'cont': 'Africa', 'area': 174}, 'Lesotho': {'popl': 1.9, 'cont': 'Africa', 'area': 12727}, 'Poland': {'popl': 38.3, 'cont': 'Europe', 'area': 120726}, 'Trinidad and Tobago': {'popl': 1.2, 'cont': 'North America', 'area': 1978}, 'Portugal': {'popl': 10.9, 'cont': 'Europe', 'area': 35645}, 'Bosnia and Herzegovina': {'popl': 3.9, 'cont': 'Europe', 'area': 19767}, 'Rwanda': {'popl': 12.3, 'cont': 'Africa', 'area': 10169}, 'Gambia': {'popl': 1.9, 'cont': 'Africa', 'area': 4007}, 'Montenegro': {'popl': 0.65, 'cont': 'Europe', 'area': 5019}, 'Equatorial Guinea': {'popl': 0.72, 'cont': 'Africa', 'area': 10828}, 'Saudi Arabia': {'popl': 27.3, 'cont': 'Asia', 'area': 829996}, 'Grenada': {'popl': 0.11, 'cont': 'North America', 'area': 132}, 'Serbia': {'popl': 7.2, 'cont': 'Europe', 'area': 34116}, 'Bangladesh': {'popl': 166.3, 'cont': 'Asia', 'area': 55599}, 'Libyan Arab Jamahiriya': {'popl': 6.2, 'cont': 'Africa', 'area': 679359}, 'Chad': {'popl': 11.4, 'cont': 'Africa', 'area': 495753}, 'Central African Republic': {'popl': 5.3, 'cont': 'Africa', 'area': 240534}, 'Uganda': {'popl': 35.9, 'cont': 'Africa', 'area': 91136}, 'Cyprus': {'popl': 1.2, 'cont': 'Asia', 'area': 3572}, 'Tunisia': {'popl': 10.9, 'cont': 'Africa', 'area': 63170}, 'Hungary': {'popl': 10.0, 'cont': 'Europe', 'area': 35919}, 'Israel': {'popl': 7.8, 'cont': 'Asia', 'area': 8019}, 'Burkina Faso': {'popl': 18.4, 'cont': 'Africa', 'area': 105792}, 'Zimbabwe': {'popl': 13.8, 'cont': 'Africa', 'area': 150871}, 'Liechtenstein': {'popl': 0.037, 'cont': 'Europe', 'area': 62}, 'Botswana': {'popl': 2.2, 'cont': 'Africa', 'area': 224606}, 'Saint Lucia': {'popl': 0.16, 'cont': 'North America', 'area': 239}, 'Bahamas': {'popl': 0.32, 'cont': 'North America', 'area': 5358}, 'Oman': {'popl': 3.2, 'cont': 'Asia', 'area': 119498}, 'Denmark': {'popl': 5.6, 'cont': 'Europe', 'area': 16640}, \"Cote D'Ivoire\": {'popl': 22.8, 'cont': 'Africa', 'area': 124502}, 'Latvia': {'popl': 2.2, 'cont': 'Europe', 'area': 24938}, 'Sao Tome and Principe': {'popl': 0.19, 'cont': 'Africa', 'area': 372}, 'Republic of Moldova': {'popl': 3.6, 'cont': 'Europe', 'area': 13067}, 'Antigua and Barbuda': {'popl': 0.091, 'cont': 'North America', 'area': 108}, 'Nigeria': {'popl': 177.2, 'cont': 'Africa', 'area': 356669}, 'Japan': {'popl': 127.1, 'cont': 'Asia', 'area': 145883}, 'Estonia': {'popl': 1.3, 'cont': 'Europe', 'area': 17413}, 'Guinea': {'popl': 11.5, 'cont': 'Africa', 'area': 94926}, 'Belarus': {'popl': 9.6, 'cont': 'Europe', 'area': 80155}, 'United Kingdom': {'popl': 66.7, 'cont': 'Europe', 'area': 94526}, 'Solomon Islands': {'popl': 0.61, 'cont': 'Australia/Oceania', 'area': 43}, 'Angola': {'popl': 19.1, 'cont': 'Africa', 'area': 481354}, 'Bahrain': {'popl': 1.3, 'cont': 'Asia', 'area': 253}, 'Ethiopia': {'popl': 96.6, 'cont': 'Africa', 'area': 426371}, 'Austria': {'popl': 8.2, 'cont': 'Europe', 'area': 32383}, 'Switzerland': {'popl': 8.1, 'cont': 'Europe', 'area': 15940}, 'Uruguay': {'popl': 3.3, 'cont': 'South America', 'area': 68037}, \"Democratic People's Republic of Korea\": {'popl': 24.9, 'cont': 'Asia', 'area': 46528}, 'New Zealand': {'popl': 4.4, 'cont': 'Australia/Oceania', 'area': 103738}, 'Lithuania': {'popl': 3.5, 'cont': 'Europe', 'area': 25173}, 'Burundi': {'popl': 10.4, 'cont': 'Africa', 'area': 10745}, 'San Marino': {'popl': 0.033, 'cont': 'Europe', 'area': 23.6}, 'Guinea Bissau': {'popl': 1.7, 'cont': 'Africa', 'area': 13948}, 'United States': {'popl': 318.9, 'cont': 'North America', 'area': 3794066}, 'Pakistan': {'popl': 196.2, 'cont': 'Asia', 'area': 310403}, 'Afghanistan': {'popl': 31.8, 'cont': 'Asia', 'area': 251772}, 'United Arab Emirates': {'popl': 5.6, 'cont': 'Asia', 'area': 32278}, 'Brunei Darussalam': {'popl': 0.42, 'cont': 'Asia', 'area': 2226}, 'Germany': {'popl': 81.0, 'cont': 'Europe', 'area': 137847}, 'Marshall Islands': {'popl': 0.071, 'cont': 'Australia/Oceania', 'area': 69}, 'Sierra Leone': {'popl': 5.7, 'cont': 'Africa', 'area': 27699}, 'Canada': {'popl': 34.8, 'cont': 'North America', 'area': 3855000}, 'Mongolia': {'popl': 3.0, 'cont': 'Asia', 'area': 603909}, 'India': {'popl': 1236.3, 'cont': 'Asia', 'area': 1269210}, 'Costa Rica': {'popl': 4.8, 'cont': 'North America', 'area': 19730}, 'Turkey': {'popl': 81.6, 'cont': 'Asia', 'area': 302535}, 'Mali': {'popl': 16.5, 'cont': 'Africa', 'area': 478839}, 'Cuba': {'popl': 11.0, 'cont': 'North America', 'area': 42803}, 'Indonesia': {'popl': 253.6, 'cont': 'Asia', 'area': 735355}, 'Dominica': {'popl': 0.073, 'cont': 'North America', 'area': 290}, 'Kazakhstan': {'popl': 18.0, 'cont': 'Asia', 'area': 1052085}, 'South Sudan': {'popl': 11.6, 'cont': 'Africa', 'area': 239285}, 'Georgia': {'popl': 4.9, 'cont': 'Asia', 'area': 26916}, 'Belgium': {'popl': 10.4, 'cont': 'Europe', 'area': 11787}, 'Guyana': {'popl': 0.74, 'cont': 'South America', 'area': 83000}, 'Slovakia': {'popl': 5.4, 'cont': 'Europe', 'area': 18932}, 'Iraq': {'popl': 32.6, 'cont': 'Asia', 'area': 169234}, 'Uzbekistan': {'popl': 28.9, 'cont': 'Asia', 'area': 172742}, 'Iceland': {'popl': 0.32, 'cont': 'Europe', 'area': 39770}, 'Nauru': {'popl': 0.0095, 'cont': 'Australia/Oceania', 'area': 8}, 'Sri Lanka': {'popl': 22.9, 'cont': 'Asia', 'area': 25332}, 'Iran': {'popl': 80.8, 'cont': 'Asia', 'area': 636372}, 'Kenya': {'popl': 45.0, 'cont': 'Africa', 'area': 224080}, 'Guatemala': {'popl': 14.7, 'cont': 'North America', 'area': 42042}, 'Republic of Korea': {'popl': 49.0, 'cont': 'Asia', 'area': 38622}}\n"
     ]
    }
   ],
   "source": [
    "main()"
   ],
   "metadata": {
    "collapsed": false
   }
  },
  {
   "cell_type": "markdown",
   "source": [
    "### Set 이용한 데이터 처리"
   ],
   "metadata": {
    "collapsed": false
   }
  },
  {
   "cell_type": "code",
   "execution_count": 57,
   "outputs": [],
   "source": [
    "vPresFileName = '../data/VPres.txt'\n",
    "usPresFileName = '../data/USPres.txt'\n",
    "writtenFileName = '../data/PresAndVPres.txt'\n",
    "\n",
    "def main():\n",
    "  vicePresSet = createSetFromFile(vPresFileName)\n",
    "  presSet = createSetFromFile(usPresFileName)\n",
    "  bothPresAndVPresSet = createIntersection(vicePresSet, presSet)\n",
    "  writeNamesToFile(bothPresAndVPresSet, writtenFileName)\n",
    "\n",
    "def createSetFromFile(fileName):\n",
    "  with open (fileName, 'r') as infile:\n",
    "    ## set연산!!\n",
    "    namesSet = {name for name in infile}\n",
    "\n",
    "  return namesSet\n",
    "\n",
    "def createIntersection(set1, set2):\n",
    "  return set1.intersection(set2)\n",
    "\n",
    "def writeNamesToFile(setName, fileName):\n",
    "  with open(fileName, 'w') as outfile:\n",
    "    outfile.writelines(setName)"
   ],
   "metadata": {
    "collapsed": false
   }
  },
  {
   "cell_type": "code",
   "execution_count": 58,
   "outputs": [],
   "source": [
    "main()"
   ],
   "metadata": {
    "collapsed": false
   }
  },
  {
   "cell_type": "code",
   "execution_count": 62,
   "outputs": [
    {
     "name": "stdout",
     "output_type": "stream",
     "text": [
      "['John Adams\\n', 'Thomas Jefferson\\n', 'Aaron Burr\\n', 'George Clinton\\n', 'Elbridge Gerry\\n', 'Daniel Tompkins\\n', 'John Calhoun\\n', 'Martin Van Buren\\n', 'Richard Johnson\\n', 'John Tyler\\n', 'George Dallas\\n', 'Millard Fillmore\\n', 'William King\\n', 'John Breckinridge\\n', 'Hannibal Hamlin\\n', 'Andrew Johnson\\n', 'Schuyler Colfax\\n', 'Henry Wilson\\n', 'William Wheeler\\n', 'Chester Arthur\\n', 'Thomas Hendricks\\n', 'Levi Morton\\n', 'Adlai Stevenson\\n', 'Garret Hobart\\n', 'Theodore Roosevelt\\n', 'Charles Fairbanks\\n', 'James Sherman\\n', 'Thomas Marshall\\n', 'Calvin Coolidge\\n', 'Charles Dawes\\n', 'Charles Curtis\\n', 'John Garner\\n', 'Henry Wallace\\n', 'Harry Truman\\n', 'Alben Barkley\\n', 'Richard Nixon\\n', 'Lyndon Johnson\\n', 'Hubert Humphrey\\n', 'Spiro Agnew\\n', 'Gerald Ford\\n', 'Nelson Rockefeller\\n', 'Walter Mondale\\n', 'George H. W. Bush\\n', 'Dan Quayle\\n', 'Al Gore\\n', 'Dick Cheney\\n', 'Joe Biden \\n']\n",
      "['George Washington\\n', 'John Adams\\n', 'Thomas Jefferson\\n', 'James Madison\\n', 'James Monroe\\n', 'John Q. Adams\\n', 'Andrew Jackson\\n', 'Martin Van Buren\\n', 'William Harrison\\n', 'John Tyler\\n', 'James Polk\\n', 'Zachary Taylor\\n', 'Millard Fillmore\\n', 'Franklin Pierce\\n', 'James Buchanan\\n', 'Abraham Lincoln\\n', 'Andrew Johnson\\n', 'Ulysses Grant\\n', 'Rutherford Hayes\\n', 'James Garfield\\n', 'Chester Arthur\\n', 'Grover Cleveland\\n', 'Benjamin Harrison\\n', 'Grover Cleveland\\n', 'William McKinley\\n', 'Theodore Roosevelt\\n', 'William Taft\\n', 'Woodrow Wilson\\n', 'Warren Harding\\n', 'Calvin Coolidge\\n', 'Herbert Hoover\\n', 'Franklin Roosevelt\\n', 'Harry Truman\\n', 'Dwight Eisenhower\\n', 'John Kennedy\\n', 'Lyndon Johnson\\n', 'Richard Nixon\\n', 'Gerald Ford\\n', 'James Carter\\n', 'Ronald Reagan\\n', 'George H. W. Bush\\n', 'Bill Clinton\\n', 'George W. Bush\\n', 'Barack Obama\\n']\n"
     ]
    }
   ],
   "source": [
    "with open('../data/VPres.txt', 'r') as r_file:\n",
    "    print(r_file.readlines())\n",
    "\n",
    "with open('../data/USPres.txt', 'r') as r_file:\n",
    "    print(r_file.readlines())"
   ],
   "metadata": {
    "collapsed": false
   }
  },
  {
   "cell_type": "code",
   "execution_count": 59,
   "outputs": [
    {
     "name": "stdout",
     "output_type": "stream",
     "text": [
      "['John Tyler\\n', 'Lyndon Johnson\\n', 'Calvin Coolidge\\n', 'Theodore Roosevelt\\n', 'John Adams\\n', 'Thomas Jefferson\\n', 'Andrew Johnson\\n', 'George H. W. Bush\\n', 'Richard Nixon\\n', 'Martin Van Buren\\n', 'Gerald Ford\\n', 'Chester Arthur\\n', 'Harry Truman\\n', 'Millard Fillmore\\n']\n"
     ]
    }
   ],
   "source": [
    "with open('../data/PresAndVPres.txt', 'r') as r_file:\n",
    "    print(r_file.readlines())"
   ],
   "metadata": {
    "collapsed": false
   }
  }
 ],
 "metadata": {
  "kernelspec": {
   "display_name": "Python 3",
   "language": "python",
   "name": "python3"
  },
  "language_info": {
   "codemirror_mode": {
    "name": "ipython",
    "version": 2
   },
   "file_extension": ".py",
   "mimetype": "text/x-python",
   "name": "python",
   "nbconvert_exporter": "python",
   "pygments_lexer": "ipython2",
   "version": "2.7.6"
  }
 },
 "nbformat": 4,
 "nbformat_minor": 0
}
