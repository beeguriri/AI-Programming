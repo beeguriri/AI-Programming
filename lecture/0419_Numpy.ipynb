{
 "cells": [
  {
   "cell_type": "markdown",
   "source": [
    "## Numpy"
   ],
   "metadata": {
    "collapsed": false
   }
  },
  {
   "cell_type": "markdown",
   "source": [
    "### Array Creation"
   ],
   "metadata": {
    "collapsed": false
   }
  },
  {
   "cell_type": "code",
   "execution_count": 6,
   "outputs": [
    {
     "name": "stdout",
     "output_type": "stream",
     "text": [
      "<class 'numpy.ndarray'> (5,) [0 1 2 3 4]\n",
      "<class 'numpy.ndarray'> (3,) [3 5 7]\n",
      "<class 'numpy.ndarray'> (5,) [0. 0. 0. 0. 0.]\n",
      "<class 'numpy.ndarray'> (5,) [1. 1. 1. 1. 1.]\n",
      "<class 'numpy.ndarray'> (3, 3) [[1. 0. 0.]\n",
      " [0. 1. 0.]\n",
      " [0. 0. 1.]]\n",
      "<class 'numpy.ndarray'> (3, 4) [[1. 0. 0. 0.]\n",
      " [0. 1. 0. 0.]\n",
      " [0. 0. 1. 0.]]\n",
      "<class 'numpy.ndarray'> (5,) [10.  12.5 15.  17.5 20. ]\n"
     ]
    }
   ],
   "source": [
    "import numpy as np\n",
    "\n",
    "a = np.arange(5) # Array of range(5)\n",
    "b = np.arange(3, 9, 2) # From 3 to 9 in increments of 2\n",
    "c = np.zeros(5) # Array of five zeros (default type is float)\n",
    "d = np.ones(5) # Array of five ones (default type is float)\n",
    "e = np.eye(3) # Produces square identity matrix\n",
    "f = np.eye(3, 4) # Identity matrix of size 3 × 4\n",
    "g = np.linspace(10, 20, 5)\n",
    "\n",
    "for d in [a, b, c, d, e, f, g]:\n",
    "  print(type(d), d.shape, d)"
   ],
   "metadata": {
    "collapsed": false
   }
  },
  {
   "cell_type": "code",
   "execution_count": 8,
   "outputs": [
    {
     "name": "stdout",
     "output_type": "stream",
     "text": [
      "type: <class 'numpy.ndarray'>, shape: (6,), size: 6, ndim: 1, [0 1 2 3 4 5]\n",
      "type: <class 'numpy.ndarray'>, shape: (3, 2), size: 6, ndim: 2, [[0 1]\n",
      " [2 3]\n",
      " [4 5]]\n",
      "type: <class 'numpy.int32'>, shape: (), size: 1, ndim: 0, 5\n",
      "type: <class 'numpy.ndarray'>, shape: (3,), size: 3, ndim: 1, [1 3 5]\n",
      "type: <class 'numpy.ndarray'>, shape: (2, 3), size: 6, ndim: 2, [[0 2 4]\n",
      " [1 3 5]]\n",
      "type: <class 'numpy.ndarray'>, shape: (3, 2), size: 6, ndim: 2, [[0 1]\n",
      " [2 3]\n",
      " [4 5]]\n",
      "type: <class 'numpy.ndarray'>, shape: (6,), size: 6, ndim: 1, [0 1 2 3 4 5]\n"
     ]
    }
   ],
   "source": [
    "a = np.arange(6)\n",
    "\n",
    "b = a.reshape(3, 2) # Reshaped to 3 × 2\n",
    "\n",
    "# Makes a deep copy\n",
    "c = np.copy(b)\n",
    "\n",
    "for d in [a, b, b[2, 1], b[:, 1], np.transpose(b),\\\n",
    "          c, np.ravel(c)]:\n",
    "  print('type: {}, shape: {}, size: {}, ndim: {}, {}' \\\n",
    "        .format(type(d), d.shape, d.size, d.ndim, d))"
   ],
   "metadata": {
    "collapsed": false
   }
  },
  {
   "cell_type": "markdown",
   "source": [
    "### Mathematical Functions"
   ],
   "metadata": {
    "collapsed": false
   }
  },
  {
   "cell_type": "code",
   "execution_count": 9,
   "outputs": [
    {
     "name": "stdout",
     "output_type": "stream",
     "text": [
      "a\n",
      "[[1 2]\n",
      " [3 4]]\n",
      "b\n",
      "[[11 12]\n",
      " [13 14]]\n",
      "a + b\n",
      "[[12 14]\n",
      " [16 18]]\n",
      "a * b\n",
      "[[11 24]\n",
      " [39 56]]\n",
      "np.dot(a, b)\n",
      "[[37 40]\n",
      " [85 92]]\n",
      "np.inner(a, b)\n",
      "[[35 41]\n",
      " [81 95]]\n"
     ]
    }
   ],
   "source": [
    "a = np.array([[1, 2], [3, 4]])\n",
    "b = np.array([[11, 12], [13, 14]])\n",
    "\n",
    "data = (a, b, a + b, a * b, np.dot(a, b), np.inner(a, b))\n",
    "labels = ('a', 'b', 'a + b', 'a * b', 'np.dot(a, b)', 'np.inner(a, b)')\n",
    "for name, d in list(zip(labels, data)):\n",
    "  print(name, d, sep='\\n')\n",
    "\n",
    "# np.dot(a, b) = a@b"
   ],
   "metadata": {
    "collapsed": false
   }
  },
  {
   "cell_type": "markdown",
   "source": [
    "## Statistical Functions"
   ],
   "metadata": {
    "collapsed": false
   }
  },
  {
   "cell_type": "code",
   "execution_count": 14,
   "outputs": [
    {
     "name": "stdout",
     "output_type": "stream",
     "text": [
      "a\n",
      "[[3 7 5]\n",
      " [8 4 3]\n",
      " [2 4 9]]\n",
      "b\n",
      "[3 3 2]\n",
      "c\n",
      "[2 4 3]\n",
      "d\n",
      "2\n",
      "e\n",
      "[7 8 9]\n",
      "f\n",
      "[8 7 9]\n"
     ]
    }
   ],
   "source": [
    "def print_list(lst, labels=None):\n",
    "  import string\n",
    "  labels = string.ascii_lowercase[:len(lst)+1] if labels is None else labels\n",
    "  for label, data in list(zip(labels, lst)):\n",
    "    print(label, data, sep='\\n')\n",
    "\n",
    "a = np.array([[3,7,5],[8,4,3],[2,4,9]])\n",
    "b = np.amin(a, 1) # Minimum element along the rows (axis=1)\n",
    "c = np.amin(a, 0) # Minimum element along the cols (axis=0)\n",
    "d = np.amin(a) # Minimum element in the given array\n",
    "e = np.amax(a, 1)\n",
    "f = np.amax(a, 0)\n",
    "\n",
    "print_list([a, b, c, d, e, f])"
   ],
   "metadata": {
    "collapsed": false
   }
  },
  {
   "cell_type": "code",
   "execution_count": 21,
   "outputs": [
    {
     "name": "stdout",
     "output_type": "stream",
     "text": [
      "8\n",
      "[5 8]\n",
      "[8 5 2]\n"
     ]
    }
   ],
   "source": [
    "data = np.array([[1, 8],\n",
    "                 [5, 3],\n",
    "                 [2, 1]])\n",
    "\n",
    "print(np.max(data))\n",
    "print(np.max(data, 0))\n",
    "print(np.max(data, 1))"
   ],
   "metadata": {
    "collapsed": false
   }
  },
  {
   "cell_type": "code",
   "execution_count": 15,
   "outputs": [
    {
     "name": "stdout",
     "output_type": "stream",
     "text": [
      "a\n",
      "[1 2 3 4]\n",
      "b\n",
      "2.5\n",
      "c\n",
      "1.118033988749895\n",
      "d\n",
      "1.25\n"
     ]
    }
   ],
   "source": [
    "a = np.array([1,2,3,4])\n",
    "b = np.average(a)\n",
    "c = np.std(a) # Standard deviation\n",
    "d = np.var(a) # Variance\n",
    "\n",
    "print_list([a, b, c, d])"
   ],
   "metadata": {
    "collapsed": false
   }
  },
  {
   "cell_type": "markdown",
   "source": [
    "### Linear Algebra"
   ],
   "metadata": {
    "collapsed": false
   }
  },
  {
   "cell_type": "code",
   "execution_count": 16,
   "outputs": [
    {
     "name": "stdout",
     "output_type": "stream",
     "text": [
      "a\n",
      "[[1 2]\n",
      " [3 4]]\n",
      "b\n",
      "[[-4]\n",
      " [ 1]]\n",
      "inv_a\n",
      "[[-2.   1. ]\n",
      " [ 1.5 -0.5]]\n",
      "c\n",
      "[[ 9. ]\n",
      " [-6.5]]\n",
      "d\n",
      "-2.0000000000000004\n",
      "e\n",
      "(array([-0.37228132,  5.37228132]), array([[-0.82456484, -0.41597356],\n",
      "       [ 0.56576746, -0.90937671]]))\n"
     ]
    }
   ],
   "source": [
    "def examples():\n",
    "  a = np.array([[1,2],[3,4]])\n",
    "  b = np.array([[-4],[1]])\n",
    "  inv_a = np.linalg.inv(a)  # inverse of a\n",
    "  c = np.linalg.solve(a, b) # compute x such that ax=b\n",
    "  d = np.linalg.det(a) # determinant of a\n",
    "  e = np.linalg.eig(a) # eigenvalues and eigenvectors of a\n",
    "  print_list([a, b, inv_a, c, d, e], locals().keys())\n",
    "\n",
    "examples()"
   ],
   "metadata": {
    "collapsed": false
   }
  },
  {
   "cell_type": "markdown",
   "source": [
    "## Normal distribution"
   ],
   "metadata": {
    "collapsed": false
   }
  },
  {
   "cell_type": "code",
   "execution_count": 22,
   "outputs": [
    {
     "data": {
      "text/plain": "array([[ 0.59170222, -0.66410221],\n       [ 0.96241258, -0.58055704],\n       [ 0.23367587, -0.96455119],\n       [ 0.71539137, -0.39821058],\n       [ 0.54104664,  1.95554007]])"
     },
     "execution_count": 22,
     "metadata": {},
     "output_type": "execute_result"
    }
   ],
   "source": [
    "# Return a sample (or samples) from the “standard normal” distribution.\n",
    "np.random.randn(5, 2)"
   ],
   "metadata": {
    "collapsed": false
   }
  },
  {
   "cell_type": "code",
   "execution_count": 31,
   "outputs": [
    {
     "data": {
      "text/plain": "array([[58.29550711, 63.3809972 ],\n       [67.50726589, 56.17687539],\n       [55.64280895, 66.69080905],\n       ...,\n       [60.04160805, 59.4336402 ],\n       [50.97644245, 55.58982275],\n       [58.22786186, 64.40926005]])"
     },
     "execution_count": 31,
     "metadata": {},
     "output_type": "execute_result"
    }
   ],
   "source": [
    "60 + np.random.randn(1000, 2)*5"
   ],
   "metadata": {
    "collapsed": false
   }
  },
  {
   "cell_type": "code",
   "execution_count": 33,
   "outputs": [
    {
     "data": {
      "text/plain": "<Figure size 640x480 with 1 Axes>",
      "image/png": "[encoded data removed]"
     },
     "metadata": {},
     "output_type": "display_data"
    }
   ],
   "source": [
    "import matplotlib.pyplot as plt\n",
    "\n",
    "mu, sigma = 0, 1\n",
    "\n",
    "s = 60 + np.random.randn(1000, 2)*5\n",
    "count, bins, ignored = plt.hist(s, bins=50, density=True)\n",
    "plt.plot(bins, 1/(sigma * np.sqrt(2 * np.pi)) *\n",
    "               np.exp( - (bins - mu)**2 / (2 * sigma**2) ))\n",
    "plt.show()"
   ],
   "metadata": {
    "collapsed": false
   }
  }
 ],
 "metadata": {
  "kernelspec": {
   "display_name": "Python 3",
   "language": "python",
   "name": "python3"
  },
  "language_info": {
   "codemirror_mode": {
    "name": "ipython",
    "version": 2
   },
   "file_extension": ".py",
   "mimetype": "text/x-python",
   "name": "python",
   "nbconvert_exporter": "python",
   "pygments_lexer": "ipython2",
   "version": "2.7.6"
  }
 },
 "nbformat": 4,
 "nbformat_minor": 0
}
