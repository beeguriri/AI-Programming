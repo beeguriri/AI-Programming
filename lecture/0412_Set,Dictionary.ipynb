{
 "cells": [
  {
   "cell_type": "markdown",
   "source": [
    "### Dictionary\n",
    "+ d= {key1: value1, key2: value2, ...}\n",
    "+ keys must be unique, immutable objects\n",
    "+ value1 == d[key1]"
   ],
   "metadata": {
    "collapsed": false
   }
  },
  {
   "cell_type": "code",
   "execution_count": 8,
   "metadata": {
    "collapsed": true
   },
   "outputs": [
    {
     "data": {
      "text/plain": "{'one': 1, 'two': 2, 'three': 3}"
     },
     "execution_count": 8,
     "metadata": {},
     "output_type": "execute_result"
    }
   ],
   "source": [
    "list1 = [['one', 1], ['two', 2], ['three', 3]]\n",
    "dic1 = dict(list1)\n",
    "dic1"
   ]
  },
  {
   "cell_type": "code",
   "execution_count": 14,
   "outputs": [
    {
     "name": "stdout",
     "output_type": "stream",
     "text": [
      "1\n",
      "4\n"
     ]
    }
   ],
   "source": [
    "print(dic1['one'])\n",
    "dic1['four'] = dic1.get('four', 0) + 1 #키 포함 여부 check!\n",
    "dic1['four'] = 4\n",
    "print(dic1['four'])"
   ],
   "metadata": {
    "collapsed": false
   }
  },
  {
   "cell_type": "code",
   "execution_count": 6,
   "outputs": [
    {
     "name": "stdout",
     "output_type": "stream",
     "text": [
      "one 1\n",
      "two 2\n",
      "three 3\n"
     ]
    }
   ],
   "source": [
    "for k, v in dic1.items():\n",
    "    print(k, v)"
   ],
   "metadata": {
    "collapsed": false
   }
  },
  {
   "cell_type": "code",
   "execution_count": 7,
   "outputs": [
    {
     "name": "stdout",
     "output_type": "stream",
     "text": [
      "one\n",
      "two\n",
      "three\n",
      "=======\n",
      "1\n",
      "2\n",
      "3\n"
     ]
    }
   ],
   "source": [
    "for k in dic1.keys():\n",
    "    print(k)\n",
    "\n",
    "print('=======')\n",
    "\n",
    "for v in dic1.values():\n",
    "    print(v)"
   ],
   "metadata": {
    "collapsed": false
   }
  },
  {
   "cell_type": "code",
   "execution_count": 15,
   "outputs": [
    {
     "name": "stdout",
     "output_type": "stream",
     "text": [
      "8 dollors\n"
     ]
    }
   ],
   "source": [
    "def main():\n",
    "    ageGroup = input('child, minor, adult, or senior')\n",
    "    print(determineAdmissionFee(ageGroup), 'dollors')\n",
    "\n",
    "def determineAdmissionFee(ageGroup):\n",
    "    dict = {'child': 0, 'minor':5, 'adult':10, 'senior':8}\n",
    "    return dict[ageGroup]\n",
    "\n",
    "main()"
   ],
   "metadata": {
    "collapsed": false
   }
  },
  {
   "cell_type": "code",
   "execution_count": 27,
   "outputs": [],
   "source": [
    "def main():\n",
    "    listOfWords = formListOfWords('../data/Gettysburg.txt')\n",
    "    # print(listOfWords)\n",
    "    freq = createFrequencyDictionary(listOfWords)\n",
    "    displayWordCount(listOfWords, freq)\n",
    "    displayMostCommonWords(freq)\n",
    "\n",
    "def formListOfWords(fileName):\n",
    "    infile = open(fileName)\n",
    "    originalLine = infile.readline().lower()\n",
    "    # print(originalLine)\n",
    "    line = \"\"\n",
    "    for ch in originalLine:\n",
    "        if ('a' <= ch <= 'z') or (ch == ' '):\n",
    "            line += ch\n",
    "    listOfWords = line.split()\n",
    "    return listOfWords\n",
    "\n",
    "def createFrequencyDictionary(listOfWords):\n",
    "    freq = {}\n",
    "    # for word in listOfWords:\n",
    "    #     freq[word] = 0\n",
    "    for word in listOfWords:\n",
    "        freq[word] = freq.get(word, 0) + 1\n",
    "        # freq[word] = freq[word] + 1\n",
    "    return freq\n",
    "\n",
    "def displayWordCount(listOfWords, freq):\n",
    "    print('listOfWords', len(listOfWords))\n",
    "    print('freq', len(freq))\n",
    "\n",
    "def displayMostCommonWords(freq):\n",
    "    listOfMostCommonWords = []\n",
    "    for word in freq.keys():\n",
    "        if freq[word] >= 6:\n",
    "            listOfMostCommonWords.append((word, freq[word]))\n",
    "\n",
    "    listOfMostCommonWords.sort(key=lambda x:x[1], reverse=True)\n",
    "    for item in listOfMostCommonWords:\n",
    "        print('   ', item[0] + ' : ', item[1])"
   ],
   "metadata": {
    "collapsed": false
   }
  },
  {
   "cell_type": "code",
   "execution_count": 28,
   "outputs": [
    {
     "name": "stdout",
     "output_type": "stream",
     "text": [
      "listOfWords 268\n",
      "freq 139\n",
      "    that :  13\n",
      "    the :  11\n",
      "    we :  10\n",
      "    to :  8\n",
      "    here :  8\n",
      "    a :  7\n",
      "    and :  6\n"
     ]
    }
   ],
   "source": [
    "main()"
   ],
   "metadata": {
    "collapsed": false
   }
  },
  {
   "cell_type": "code",
   "execution_count": 29,
   "outputs": [
    {
     "data": {
      "text/plain": "{1: 'hello', 2: 'world', 3: 'everyone'}"
     },
     "execution_count": 29,
     "metadata": {},
     "output_type": "execute_result"
    }
   ],
   "source": [
    "#key: idx, value: string\n",
    "idx_to_word = {\n",
    "\n",
    "    1: 'hello',\n",
    "    2: 'world',\n",
    "    3: 'everyone'\n",
    "}\n",
    "\n",
    "#key: string, value: idx\n",
    "word_to_idx = {\n",
    "    'hello':1,\n",
    "    'world':2,\n",
    "    'everyone':3\n",
    "}\n",
    "\n",
    "# key와 value change!\n",
    "{v:k for k,v in word_to_idx.items()}"
   ],
   "metadata": {
    "collapsed": false
   }
  },
  {
   "cell_type": "markdown",
   "source": [
    "### Set"
   ],
   "metadata": {
    "collapsed": false
   }
  },
  {
   "cell_type": "code",
   "execution_count": 31,
   "outputs": [
    {
     "name": "stdout",
     "output_type": "stream",
     "text": [
      "True\n",
      "False\n"
     ]
    }
   ],
   "source": [
    "bri = {'brazil', 'russia', 'india'}\n",
    "print('india' in bri)\n",
    "print('usa' in bri)"
   ],
   "metadata": {
    "collapsed": false
   }
  },
  {
   "cell_type": "code",
   "execution_count": 33,
   "outputs": [
    {
     "name": "stdout",
     "output_type": "stream",
     "text": [
      "{'india', 'brazil'}\n",
      "{'india', 'china', 'russia', 'brazil'}\n"
     ]
    }
   ],
   "source": [
    "bric = bri.copy()\n",
    "bric.add('china')\n",
    "bri.remove('russia')\n",
    "print(bri)\n",
    "print(bric)"
   ],
   "metadata": {
    "collapsed": false
   }
  },
  {
   "cell_type": "code",
   "execution_count": 35,
   "outputs": [
    {
     "name": "stdout",
     "output_type": "stream",
     "text": [
      "True\n",
      "{'india', 'brazil'}\n",
      "{'china', 'russia'}\n",
      "{'brazil', 'china', 'india', 'russia'}\n"
     ]
    }
   ],
   "source": [
    "print(bric.issuperset(bri))\n",
    "print(bri & bric)\n",
    "print(bric.difference(bri))\n",
    "print(bric.union(bri))"
   ],
   "metadata": {
    "collapsed": false
   }
  }
 ],
 "metadata": {
  "kernelspec": {
   "display_name": "Python 3",
   "language": "python",
   "name": "python3"
  },
  "language_info": {
   "codemirror_mode": {
    "name": "ipython",
    "version": 2
   },
   "file_extension": ".py",
   "mimetype": "text/x-python",
   "name": "python",
   "nbconvert_exporter": "python",
   "pygments_lexer": "ipython2",
   "version": "2.7.6"
  }
 },
 "nbformat": 4,
 "nbformat_minor": 0
}
