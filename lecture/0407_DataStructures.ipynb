{
 "cells": [
  {
   "cell_type": "markdown",
   "source": [
    "## Data Structure"
   ],
   "metadata": {
    "collapsed": false
   }
  },
  {
   "cell_type": "markdown",
   "source": [
    "### 1. List"
   ],
   "metadata": {
    "collapsed": false
   }
  },
  {
   "cell_type": "code",
   "execution_count": 15,
   "metadata": {
    "collapsed": true
   },
   "outputs": [
    {
     "name": "stdout",
     "output_type": "stream",
     "text": [
      "<class 'set'>\n",
      "<class 'list'>\n"
     ]
    }
   ],
   "source": [
    "s = {1, 2, 3}\n",
    "print(type(s))\n",
    "\n",
    "l = [1, 2, 3]\n",
    "print(type(l))"
   ]
  },
  {
   "cell_type": "code",
   "execution_count": 12,
   "outputs": [
    {
     "name": "stdout",
     "output_type": "stream",
     "text": [
      "[5, 2, 3]\n",
      "3\n"
     ]
    }
   ],
   "source": [
    "# mutable\n",
    "l = [1, 2, 3]\n",
    "l[0] = 5\n",
    "print(l)\n",
    "\n",
    "print(l[-1])"
   ],
   "metadata": {
    "collapsed": false
   }
  },
  {
   "cell_type": "code",
   "execution_count": 11,
   "outputs": [
    {
     "name": "stdout",
     "output_type": "stream",
     "text": [
      "[1, 2, 3, 4]\n",
      "1  2  3  4  \n",
      "[1, 7, 3, 4]\n",
      "[1, 7, 4]\n"
     ]
    }
   ],
   "source": [
    "# CRUD\n",
    "li = [1, 2, 3]\n",
    "\n",
    "# C\n",
    "li.append(4)\n",
    "print(li)\n",
    "\n",
    "# R\n",
    "for i in li:\n",
    "    print(i, ' ', end='')\n",
    "print()\n",
    "\n",
    "# U\n",
    "li[1] = 7\n",
    "print(li)\n",
    "\n",
    "# D\n",
    "li.remove(3)\n",
    "print(li)"
   ],
   "metadata": {
    "collapsed": false
   }
  },
  {
   "cell_type": "code",
   "execution_count": 26,
   "outputs": [
    {
     "name": "stdout",
     "output_type": "stream",
     "text": [
      "[1, 2, 3, 'abc', 3.14, [1, 2, 3]]\n",
      "15\n",
      "[1, 4, 3, 5, 2]\n",
      "[1, 2, 3, 4, 5]\n",
      "[1, 2, 3, 4, 5]\n"
     ]
    }
   ],
   "source": [
    "# Object\n",
    "a = [1, 2, 3, 'abc', 3.14, [1, 2, 3]]\n",
    "print(a)\n",
    "# print(sum(a)) 실행 안됨\n",
    "# print(a.sort()) 실행 안됨\n",
    "\n",
    "b = [1, 4, 3, 5, 2,]\n",
    "print(sum(b))\n",
    "\n",
    "b1 = sorted(b)\n",
    "print(b)\n",
    "print(b1)\n",
    "\n",
    "b.sort()\n",
    "print(b)"
   ],
   "metadata": {
    "collapsed": false
   }
  },
  {
   "cell_type": "markdown",
   "source": [
    "### 2. Tuple\n",
    "+ C,U,D 불가"
   ],
   "metadata": {
    "collapsed": false
   }
  },
  {
   "cell_type": "markdown",
   "source": [
    "### 3. Sequence\n",
    "+ 순서를 지닌 자료구조\n",
    "+ 문자열, 리스트, 튜플\n",
    "+ Indexing, Slicing, Concatenation, Repetition\n",
    "+ in 연산자 (포함여부 확인)"
   ],
   "metadata": {
    "collapsed": false
   }
  },
  {
   "cell_type": "code",
   "execution_count": 2,
   "outputs": [
    {
     "name": "stdout",
     "output_type": "stream",
     "text": [
      "True\n",
      "True\n"
     ]
    }
   ],
   "source": [
    "print(3 in [1,2,3])\n",
    "print('a' in 'beea')"
   ],
   "metadata": {
    "collapsed": false
   }
  },
  {
   "cell_type": "code",
   "execution_count": 8,
   "outputs": [
    {
     "name": "stdout",
     "output_type": "stream",
     "text": [
      "['a', 'b', 'c', 'd']\n",
      "['a', 'b', 'c', 'd']\n",
      "<class 'list'>\n"
     ]
    }
   ],
   "source": [
    "s = 'abcd'\n",
    "print(list(s))\n",
    "\n",
    "s1 = 'a b c d'\n",
    "print(s1.split())\n",
    "print(type(s1.split()))"
   ],
   "metadata": {
    "collapsed": false
   }
  },
  {
   "cell_type": "code",
   "execution_count": 14,
   "outputs": [
    {
     "name": "stdout",
     "output_type": "stream",
     "text": [
      "0  1  2  \n",
      "range(0, 3)\n",
      "[0, 1, 2]\n",
      "(0, 1, 2)\n"
     ]
    }
   ],
   "source": [
    "for i in range(3):\n",
    "    print(i, ' ', end='')\n",
    "print()\n",
    "print(range(3))\n",
    "print(list(range(3)))\n",
    "print(tuple(range(3)))"
   ],
   "metadata": {
    "collapsed": false
   }
  },
  {
   "cell_type": "markdown",
   "source": [
    "### 4. References\n",
    "+ 안전하게 사용하기 위한 Tuple"
   ],
   "metadata": {
    "collapsed": false
   }
  },
  {
   "cell_type": "code",
   "execution_count": 16,
   "outputs": [
    {
     "name": "stdout",
     "output_type": "stream",
     "text": [
      "[10, 20, 3]\n",
      "[10, 20, 3]\n"
     ]
    }
   ],
   "source": [
    "a = [1, 2, 3]\n",
    "b = a\n",
    "\n",
    "a[0] = 10\n",
    "b[1] = 20\n",
    "print(a)\n",
    "print(b)"
   ],
   "metadata": {
    "collapsed": false
   }
  },
  {
   "cell_type": "code",
   "execution_count": 18,
   "outputs": [
    {
     "name": "stdout",
     "output_type": "stream",
     "text": [
      "[10, 2, 3]\n",
      "[1, 20, 3]\n"
     ]
    }
   ],
   "source": [
    "a = [1, 2, 3]\n",
    "b = a.copy()\n",
    "\n",
    "a[0] = 10\n",
    "b[1] = 20\n",
    "print(a)\n",
    "print(b)"
   ],
   "metadata": {
    "collapsed": false
   }
  },
  {
   "cell_type": "code",
   "execution_count": 27,
   "outputs": [
    {
     "name": "stdout",
     "output_type": "stream",
     "text": [
      "[1, 2, 3, [5]]\n",
      "[1, 2, 3, [5]]\n",
      "[1, 2, 3, [20]]\n",
      "[1, 2, 3, [20]]\n"
     ]
    }
   ],
   "source": [
    "a1 = [5]\n",
    "a = [1, 2, 3, a1]\n",
    "b = a.copy()\n",
    "print(a)\n",
    "print(b)\n",
    "\n",
    "a[3][0] = 10\n",
    "b[3][0] = 20\n",
    "print(a)\n",
    "print(b)"
   ],
   "metadata": {
    "collapsed": false
   }
  },
  {
   "cell_type": "code",
   "execution_count": 31,
   "outputs": [
    {
     "name": "stdout",
     "output_type": "stream",
     "text": [
      "[1, 2, 3, [5]]\n",
      "[1, 2, 3, [5]]\n",
      "[1, 2, 3, [10]]\n",
      "[1, 2, 3, [20]]\n"
     ]
    }
   ],
   "source": [
    "import copy\n",
    "\n",
    "a1 = [5]\n",
    "a = [1, 2, 3, a1]\n",
    "b = copy.deepcopy(a)\n",
    "print(a)\n",
    "print(b)\n",
    "\n",
    "a[3][0] = 10\n",
    "b[3][0] = 20\n",
    "print(a)\n",
    "print(b)"
   ],
   "metadata": {
    "collapsed": false
   }
  },
  {
   "cell_type": "code",
   "execution_count": 32,
   "outputs": [
    {
     "name": "stdout",
     "output_type": "stream",
     "text": [
      "[10, 2, 3]\n",
      "[1, 20, 3]\n"
     ]
    }
   ],
   "source": [
    "# Make a copy by using a full slice\n",
    "a = [1, 2, 3]\n",
    "b = a[:]\n",
    "\n",
    "a[0] = 10\n",
    "b[1] = 20\n",
    "print(a)\n",
    "print(b)"
   ],
   "metadata": {
    "collapsed": false
   }
  }
 ],
 "metadata": {
  "kernelspec": {
   "display_name": "Python 3",
   "language": "python",
   "name": "python3"
  },
  "language_info": {
   "codemirror_mode": {
    "name": "ipython",
    "version": 2
   },
   "file_extension": ".py",
   "mimetype": "text/x-python",
   "name": "python",
   "nbconvert_exporter": "python",
   "pygments_lexer": "ipython2",
   "version": "2.7.6"
  }
 },
 "nbformat": 4,
 "nbformat_minor": 0
}
