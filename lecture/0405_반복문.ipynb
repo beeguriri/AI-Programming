{
  "nbformat": 4,
  "nbformat_minor": 0,
  "metadata": {
    "colab": {
      "provenance": []
    },
    "kernelspec": {
      "name": "python3",
      "display_name": "Python 3"
    },
    "language_info": {
      "name": "python"
    }
  },
  "cells": [
    {
      "cell_type": "markdown",
      "source": [
        "### 1. while문"
      ],
      "metadata": {
        "id": "Zr7ldoMD5Lhp"
      }
    },
    {
      "cell_type": "code",
      "execution_count": 1,
      "metadata": {
        "colab": {
          "base_uri": "https://localhost:8080/"
        },
        "id": "MJhBJm2w5ABC",
        "outputId": "ab370bc7-4f02-4caa-d10d-223240cf70aa"
      },
      "outputs": [
        {
          "output_type": "stream",
          "name": "stdout",
          "text": [
            "Enter an integer: 10\n",
            "더 큰 수를 입력하세요\n",
            "Enter an integer: 30\n",
            "더 작은 수를 입력하세요\n",
            "Enter an integer: 23\n",
            "정답!\n",
            "loop close\n",
            "Done\n"
          ]
        }
      ],
      "source": [
        "number = 23\n",
        "running = True\n",
        "\n",
        "while running:\n",
        "  guess = int(input('Enter an integer: '))\n",
        "  if guess == number:\n",
        "    print('정답!')\n",
        "    running = False\n",
        "  elif guess < number:\n",
        "    print('더 큰 수를 입력하세요')\n",
        "  else:\n",
        "    print('더 작은 수를 입력하세요')\n",
        "else:\n",
        "  print('loop close')\n",
        "\n",
        "print('Done')"
      ]
    },
    {
      "cell_type": "markdown",
      "source": [
        "## 2. for문"
      ],
      "metadata": {
        "id": "fgWq90kMGUY0"
      }
    },
    {
      "cell_type": "code",
      "source": [
        "s_lst = ['abc', 'def', 'hij']\n",
        "n_lst = [7, 8, 9]\n",
        "\n",
        "for i,s in zip(s_lst, n_lst):\n",
        "  print(i, s)"
      ],
      "metadata": {
        "colab": {
          "base_uri": "https://localhost:8080/"
        },
        "id": "WxhyHozdGWwA",
        "outputId": "387bcb1c-e0ad-47dd-b305-9c7eb355ea0f"
      },
      "execution_count": 4,
      "outputs": [
        {
          "output_type": "stream",
          "name": "stdout",
          "text": [
            "abc 7\n",
            "def 8\n",
            "hij 9\n"
          ]
        }
      ]
    },
    {
      "cell_type": "code",
      "source": [
        "dict = {'a':1, 'b':2, 'c':3}\n",
        "\n",
        "for k, v in dict.items():\n",
        "  print('k=', k, 'v=', v)"
      ],
      "metadata": {
        "colab": {
          "base_uri": "https://localhost:8080/"
        },
        "id": "E3VFTbmAHDre",
        "outputId": "6f336397-d6c4-49a9-bafe-62f7cb39876c"
      },
      "execution_count": 9,
      "outputs": [
        {
          "output_type": "stream",
          "name": "stdout",
          "text": [
            "k= a v= 1\n",
            "k= b v= 2\n",
            "k= c v= 3\n"
          ]
        }
      ]
    },
    {
      "cell_type": "code",
      "source": [
        "infile = open('abc.txt', 'r')\n",
        "\n",
        "for s in infile:\n",
        "   print(s, end='')\n",
        "\n",
        "infile.close()"
      ],
      "metadata": {
        "colab": {
          "base_uri": "https://localhost:8080/"
        },
        "id": "ZHI-uHNFJNzX",
        "outputId": "d6d1e02e-348f-4b03-db98-2914c306358b"
      },
      "execution_count": 12,
      "outputs": [
        {
          "output_type": "stream",
          "name": "stdout",
          "text": [
            "Sddafkjlkarjf;e\n",
            "adkfjakdjflkdajffadfadklf;\n",
            "3233jkajdsklfadl"
          ]
        }
      ]
    },
    {
      "cell_type": "markdown",
      "source": [
        "#### (참고) 경로 확인"
      ],
      "metadata": {
        "id": "U1JYbE3tMFGq"
      }
    },
    {
      "cell_type": "code",
      "source": [
        "!pwd"
      ],
      "metadata": {
        "colab": {
          "base_uri": "https://localhost:8080/"
        },
        "id": "Y9tKc_tSLKrd",
        "outputId": "0b9d444e-575f-472c-f245-e80d65a6837e"
      },
      "execution_count": 10,
      "outputs": [
        {
          "output_type": "stream",
          "name": "stdout",
          "text": [
            "/content\n"
          ]
        }
      ]
    },
    {
      "cell_type": "code",
      "source": [
        "!ls"
      ],
      "metadata": {
        "colab": {
          "base_uri": "https://localhost:8080/"
        },
        "id": "2SiWbQX4LQMo",
        "outputId": "f58e34f1-e144-4a05-f3bf-55df8690a26b"
      },
      "execution_count": 11,
      "outputs": [
        {
          "output_type": "stream",
          "name": "stdout",
          "text": [
            "sample_data\n"
          ]
        }
      ]
    }
  ]
}