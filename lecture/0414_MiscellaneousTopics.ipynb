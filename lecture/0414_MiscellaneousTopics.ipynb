{
 "cells": [
  {
   "cell_type": "markdown",
   "source": [
    "### Exception Handling"
   ],
   "metadata": {
    "collapsed": false
   }
  },
  {
   "cell_type": "code",
   "execution_count": 14,
   "metadata": {
    "collapsed": true
   },
   "outputs": [
    {
     "name": "stdout",
     "output_type": "stream",
     "text": [
      "3.14\n"
     ]
    },
    {
     "ename": "ValueError",
     "evalue": "invalid literal for int() with base 10: '3.140'",
     "output_type": "error",
     "traceback": [
      "\u001B[1;31m---------------------------------------------------------------------------\u001B[0m",
      "\u001B[1;31mValueError\u001B[0m                                Traceback (most recent call last)",
      "Cell \u001B[1;32mIn[14], line 5\u001B[0m\n\u001B[0;32m      2\u001B[0m \u001B[38;5;28mprint\u001B[39m(\u001B[38;5;28mfloat\u001B[39m(pi))\n\u001B[0;32m      4\u001B[0m d\u001B[38;5;241m=\u001B[39m \u001B[38;5;124m'\u001B[39m\u001B[38;5;124m3.140\u001B[39m\u001B[38;5;124m'\u001B[39m\n\u001B[1;32m----> 5\u001B[0m \u001B[38;5;28mprint\u001B[39m(\u001B[38;5;28;43mint\u001B[39;49m\u001B[43m(\u001B[49m\u001B[43md\u001B[49m\u001B[43m)\u001B[49m)\n",
      "\u001B[1;31mValueError\u001B[0m: invalid literal for int() with base 10: '3.140'"
     ]
    }
   ],
   "source": [
    "pi = '3.140'\n",
    "print(float(pi))\n",
    "\n",
    "# d= '3.140'\n",
    "# print(int(d))"
   ]
  },
  {
   "cell_type": "code",
   "execution_count": 15,
   "outputs": [
    {
     "ename": "IndexError",
     "evalue": "list index out of range",
     "output_type": "error",
     "traceback": [
      "\u001B[1;31m---------------------------------------------------------------------------\u001B[0m",
      "\u001B[1;31mIndexError\u001B[0m                                Traceback (most recent call last)",
      "Cell \u001B[1;32mIn[15], line 2\u001B[0m\n\u001B[0;32m      1\u001B[0m lst \u001B[38;5;241m=\u001B[39m [\u001B[38;5;124m'\u001B[39m\u001B[38;5;124m1\u001B[39m\u001B[38;5;124m'\u001B[39m, \u001B[38;5;124m'\u001B[39m\u001B[38;5;124m2\u001B[39m\u001B[38;5;124m'\u001B[39m, \u001B[38;5;124m'\u001B[39m\u001B[38;5;124mhi\u001B[39m\u001B[38;5;124m'\u001B[39m]\n\u001B[1;32m----> 2\u001B[0m \u001B[38;5;28mprint\u001B[39m(\u001B[43mlst\u001B[49m\u001B[43m[\u001B[49m\u001B[38;5;241;43m4\u001B[39;49m\u001B[43m]\u001B[49m)\n",
      "\u001B[1;31mIndexError\u001B[0m: list index out of range"
     ]
    }
   ],
   "source": [
    "lst = ['1', '2', 'hi']\n",
    "print(lst[4])"
   ],
   "metadata": {
    "collapsed": false
   }
  },
  {
   "cell_type": "code",
   "execution_count": 17,
   "outputs": [
    {
     "ename": "KeyError",
     "evalue": "'park'",
     "output_type": "error",
     "traceback": [
      "\u001B[1;31m---------------------------------------------------------------------------\u001B[0m",
      "\u001B[1;31mKeyError\u001B[0m                                  Traceback (most recent call last)",
      "Cell \u001B[1;32mIn[17], line 4\u001B[0m\n\u001B[0;32m      1\u001B[0m d \u001B[38;5;241m=\u001B[39m {\u001B[38;5;124m'\u001B[39m\u001B[38;5;124mkim\u001B[39m\u001B[38;5;124m'\u001B[39m:\u001B[38;5;124m'\u001B[39m\u001B[38;5;124mhello\u001B[39m\u001B[38;5;124m'\u001B[39m,\n\u001B[0;32m      2\u001B[0m         \u001B[38;5;124m'\u001B[39m\u001B[38;5;124mlee\u001B[39m\u001B[38;5;124m'\u001B[39m: \u001B[38;5;124m'\u001B[39m\u001B[38;5;124mhi\u001B[39m\u001B[38;5;124m'\u001B[39m}\n\u001B[1;32m----> 4\u001B[0m \u001B[38;5;28mprint\u001B[39m(\u001B[43md\u001B[49m\u001B[43m[\u001B[49m\u001B[38;5;124;43m'\u001B[39;49m\u001B[38;5;124;43mpark\u001B[39;49m\u001B[38;5;124;43m'\u001B[39;49m\u001B[43m]\u001B[49m)\n\u001B[0;32m      6\u001B[0m \u001B[38;5;28;01mif\u001B[39;00m \u001B[38;5;124m'\u001B[39m\u001B[38;5;124mpark\u001B[39m\u001B[38;5;124m'\u001B[39m \u001B[38;5;129;01min\u001B[39;00m d:\n\u001B[0;32m      7\u001B[0m     \u001B[38;5;28mprint\u001B[39m(d[\u001B[38;5;124m'\u001B[39m\u001B[38;5;124mpark\u001B[39m\u001B[38;5;124m'\u001B[39m])\n",
      "\u001B[1;31mKeyError\u001B[0m: 'park'"
     ]
    }
   ],
   "source": [
    "d = {'kim':'hello',\n",
    "        'lee': 'hi'}\n",
    "\n",
    "print(d['park'])\n",
    "\n",
    "# 개선 =>\n",
    "if 'park' in d:\n",
    "    print(d['park'])"
   ],
   "metadata": {
    "collapsed": false
   }
  },
  {
   "cell_type": "code",
   "execution_count": 18,
   "outputs": [
    {
     "ename": "UnboundLocalError",
     "evalue": "local variable 'a' referenced before assignment",
     "output_type": "error",
     "traceback": [
      "\u001B[1;31m---------------------------------------------------------------------------\u001B[0m",
      "\u001B[1;31mUnboundLocalError\u001B[0m                         Traceback (most recent call last)",
      "Cell \u001B[1;32mIn[18], line 6\u001B[0m\n\u001B[0;32m      3\u001B[0m         a \u001B[38;5;241m=\u001B[39m \u001B[38;5;241m3\u001B[39m;\n\u001B[0;32m      4\u001B[0m     \u001B[38;5;28;01mreturn\u001B[39;00m a;\n\u001B[1;32m----> 6\u001B[0m \u001B[38;5;28mprint\u001B[39m(\u001B[43mf\u001B[49m\u001B[43m(\u001B[49m\u001B[43m)\u001B[49m)\n",
      "Cell \u001B[1;32mIn[18], line 4\u001B[0m, in \u001B[0;36mf\u001B[1;34m()\u001B[0m\n\u001B[0;32m      2\u001B[0m \u001B[38;5;28;01mif\u001B[39;00m \u001B[38;5;241m5\u001B[39m\u001B[38;5;241m<\u001B[39m\u001B[38;5;241m3\u001B[39m:\n\u001B[0;32m      3\u001B[0m     a \u001B[38;5;241m=\u001B[39m \u001B[38;5;241m3\u001B[39m;\n\u001B[1;32m----> 4\u001B[0m \u001B[38;5;28;01mreturn\u001B[39;00m \u001B[43ma\u001B[49m\n",
      "\u001B[1;31mUnboundLocalError\u001B[0m: local variable 'a' referenced before assignment"
     ]
    }
   ],
   "source": [
    "def f():\n",
    "    if 5<3:\n",
    "        a = 3;\n",
    "    return a;\n",
    "\n",
    "print(f())"
   ],
   "metadata": {
    "collapsed": false
   }
  },
  {
   "cell_type": "code",
   "execution_count": 25,
   "outputs": [],
   "source": [
    "def main():\n",
    "    phoneticAlpha = {'a':'alpha', 'b':'bravo', 'c':'charlie'}\n",
    "\n",
    "    while True:\n",
    "        try:\n",
    "            letter = input(\"enter a, b or c: \")\n",
    "            print(phoneticAlpha[letter.lower()])\n",
    "            break\n",
    "        except KeyError:\n",
    "            print(\"unacceptable letter was entered\")"
   ],
   "metadata": {
    "collapsed": false
   }
  },
  {
   "cell_type": "code",
   "execution_count": 26,
   "outputs": [
    {
     "name": "stdout",
     "output_type": "stream",
     "text": [
      "unacceptable letter was entered\n",
      "alpha\n"
     ]
    }
   ],
   "source": [
    "main()"
   ],
   "metadata": {
    "collapsed": false
   }
  },
  {
   "cell_type": "code",
   "execution_count": 31,
   "outputs": [],
   "source": [
    "# raise 사용해서 error 던져주기\n",
    "\n",
    "def calcSum(fileName: str)->float:\n",
    "  '''\n",
    "  Calculate total of the numbers in a file.\n",
    "  '''\n",
    "  total, count = 0, 0\n",
    "  try:\n",
    "    with open(fileName, 'r') as infile:\n",
    "      for line in infile:\n",
    "        total += float(line)\n",
    "  except FileNotFoundError as e:\n",
    "    print(\"File not found.\")\n",
    "    raise\n",
    "  except ValueError as e:\n",
    "    print(\"Line\", count, \"could not be converted to a float\")\n",
    "    raise\n",
    "\n",
    "  return total"
   ],
   "metadata": {
    "collapsed": false
   }
  },
  {
   "cell_type": "code",
   "execution_count": 34,
   "outputs": [
    {
     "name": "stdout",
     "output_type": "stream",
     "text": [
      "File not found.\n"
     ]
    },
    {
     "ename": "FileNotFoundError",
     "evalue": "[Errno 2] No such file or directory: 'data'",
     "output_type": "error",
     "traceback": [
      "\u001B[1;31m---------------------------------------------------------------------------\u001B[0m",
      "\u001B[1;31mFileNotFoundError\u001B[0m                         Traceback (most recent call last)",
      "Cell \u001B[1;32mIn[34], line 1\u001B[0m\n\u001B[1;32m----> 1\u001B[0m \u001B[43mcalcSum\u001B[49m\u001B[43m(\u001B[49m\u001B[38;5;124;43m'\u001B[39;49m\u001B[38;5;124;43mdata\u001B[39;49m\u001B[38;5;124;43m'\u001B[39;49m\u001B[43m)\u001B[49m\n",
      "Cell \u001B[1;32mIn[31], line 9\u001B[0m, in \u001B[0;36mcalcSum\u001B[1;34m(fileName)\u001B[0m\n\u001B[0;32m      7\u001B[0m total, count \u001B[38;5;241m=\u001B[39m \u001B[38;5;241m0\u001B[39m, \u001B[38;5;241m0\u001B[39m\n\u001B[0;32m      8\u001B[0m \u001B[38;5;28;01mtry\u001B[39;00m:\n\u001B[1;32m----> 9\u001B[0m   \u001B[38;5;28;01mwith\u001B[39;00m \u001B[38;5;28;43mopen\u001B[39;49m\u001B[43m(\u001B[49m\u001B[43mfileName\u001B[49m\u001B[43m,\u001B[49m\u001B[43m \u001B[49m\u001B[38;5;124;43m'\u001B[39;49m\u001B[38;5;124;43mr\u001B[39;49m\u001B[38;5;124;43m'\u001B[39;49m\u001B[43m)\u001B[49m \u001B[38;5;28;01mas\u001B[39;00m infile:\n\u001B[0;32m     10\u001B[0m     \u001B[38;5;28;01mfor\u001B[39;00m line \u001B[38;5;129;01min\u001B[39;00m infile:\n\u001B[0;32m     11\u001B[0m       total \u001B[38;5;241m+\u001B[39m\u001B[38;5;241m=\u001B[39m \u001B[38;5;28mfloat\u001B[39m(line)\n",
      "File \u001B[1;32mD:\\HJ\\AI-Programming\\venv\\lib\\site-packages\\IPython\\core\\interactiveshell.py:284\u001B[0m, in \u001B[0;36m_modified_open\u001B[1;34m(file, *args, **kwargs)\u001B[0m\n\u001B[0;32m    277\u001B[0m \u001B[38;5;28;01mif\u001B[39;00m file \u001B[38;5;129;01min\u001B[39;00m {\u001B[38;5;241m0\u001B[39m, \u001B[38;5;241m1\u001B[39m, \u001B[38;5;241m2\u001B[39m}:\n\u001B[0;32m    278\u001B[0m     \u001B[38;5;28;01mraise\u001B[39;00m \u001B[38;5;167;01mValueError\u001B[39;00m(\n\u001B[0;32m    279\u001B[0m         \u001B[38;5;124mf\u001B[39m\u001B[38;5;124m\"\u001B[39m\u001B[38;5;124mIPython won\u001B[39m\u001B[38;5;124m'\u001B[39m\u001B[38;5;124mt let you open fd=\u001B[39m\u001B[38;5;132;01m{\u001B[39;00mfile\u001B[38;5;132;01m}\u001B[39;00m\u001B[38;5;124m by default \u001B[39m\u001B[38;5;124m\"\u001B[39m\n\u001B[0;32m    280\u001B[0m         \u001B[38;5;124m\"\u001B[39m\u001B[38;5;124mas it is likely to crash IPython. If you know what you are doing, \u001B[39m\u001B[38;5;124m\"\u001B[39m\n\u001B[0;32m    281\u001B[0m         \u001B[38;5;124m\"\u001B[39m\u001B[38;5;124myou can use builtins\u001B[39m\u001B[38;5;124m'\u001B[39m\u001B[38;5;124m open.\u001B[39m\u001B[38;5;124m\"\u001B[39m\n\u001B[0;32m    282\u001B[0m     )\n\u001B[1;32m--> 284\u001B[0m \u001B[38;5;28;01mreturn\u001B[39;00m io_open(file, \u001B[38;5;241m*\u001B[39margs, \u001B[38;5;241m*\u001B[39m\u001B[38;5;241m*\u001B[39mkwargs)\n",
      "\u001B[1;31mFileNotFoundError\u001B[0m: [Errno 2] No such file or directory: 'data'"
     ]
    }
   ],
   "source": [
    "calcSum('data')"
   ],
   "metadata": {
    "collapsed": false
   }
  },
  {
   "cell_type": "code",
   "execution_count": 33,
   "outputs": [
    {
     "name": "stdout",
     "output_type": "stream",
     "text": [
      "Line 0 could not be converted to a float\n"
     ]
    },
    {
     "ename": "ValueError",
     "evalue": "could not convert string to float: 'Name,Age,Salary\\n'",
     "output_type": "error",
     "traceback": [
      "\u001B[1;31m---------------------------------------------------------------------------\u001B[0m",
      "\u001B[1;31mValueError\u001B[0m                                Traceback (most recent call last)",
      "Cell \u001B[1;32mIn[33], line 1\u001B[0m\n\u001B[1;32m----> 1\u001B[0m \u001B[43mcalcSum\u001B[49m\u001B[43m(\u001B[49m\u001B[38;5;124;43m'\u001B[39;49m\u001B[38;5;124;43m../data/employee.csv\u001B[39;49m\u001B[38;5;124;43m'\u001B[39;49m\u001B[43m)\u001B[49m\n",
      "Cell \u001B[1;32mIn[31], line 11\u001B[0m, in \u001B[0;36mcalcSum\u001B[1;34m(fileName)\u001B[0m\n\u001B[0;32m      9\u001B[0m   \u001B[38;5;28;01mwith\u001B[39;00m \u001B[38;5;28mopen\u001B[39m(fileName, \u001B[38;5;124m'\u001B[39m\u001B[38;5;124mr\u001B[39m\u001B[38;5;124m'\u001B[39m) \u001B[38;5;28;01mas\u001B[39;00m infile:\n\u001B[0;32m     10\u001B[0m     \u001B[38;5;28;01mfor\u001B[39;00m line \u001B[38;5;129;01min\u001B[39;00m infile:\n\u001B[1;32m---> 11\u001B[0m       total \u001B[38;5;241m+\u001B[39m\u001B[38;5;241m=\u001B[39m \u001B[38;5;28;43mfloat\u001B[39;49m\u001B[43m(\u001B[49m\u001B[43mline\u001B[49m\u001B[43m)\u001B[49m\n\u001B[0;32m     12\u001B[0m \u001B[38;5;28;01mexcept\u001B[39;00m \u001B[38;5;167;01mFileNotFoundError\u001B[39;00m \u001B[38;5;28;01mas\u001B[39;00m e:\n\u001B[0;32m     13\u001B[0m   \u001B[38;5;28mprint\u001B[39m(\u001B[38;5;124m\"\u001B[39m\u001B[38;5;124mFile not found.\u001B[39m\u001B[38;5;124m\"\u001B[39m)\n",
      "\u001B[1;31mValueError\u001B[0m: could not convert string to float: 'Name,Age,Salary\\n'"
     ]
    }
   ],
   "source": [
    "calcSum('../data/employee.csv')"
   ],
   "metadata": {
    "collapsed": false
   }
  },
  {
   "cell_type": "markdown",
   "source": [
    "### Selecting Random Values"
   ],
   "metadata": {
    "collapsed": false
   }
  },
  {
   "cell_type": "code",
   "execution_count": 46,
   "outputs": [
    {
     "data": {
      "text/plain": "<Figure size 640x480 with 1 Axes>",
      "image/png": "[encoded data removed]"
     },
     "metadata": {},
     "output_type": "display_data"
    }
   ],
   "source": [
    "import random\n",
    "import numpy as np\n",
    "\n",
    "import matplotlib.pyplot as plt\n",
    "from typing import Any\n",
    "\n",
    "#random.seed(0)\n",
    "\n",
    "def showProbabilityAsHistogram(lst, title)->None:\n",
    "  counts, edges, bars = plt.hist(lst)\n",
    "  plt.bar_label(bars)\n",
    "  plt.title(title)\n",
    "  plt.show()\n",
    "\n",
    "elements = [\"earth\", \"air\", \"fire\", \"water\"]\n",
    "numbers = list(range(100))\n",
    "\n",
    "# generate numbers with equal probability for each number\n",
    "showProbabilityAsHistogram(random.choices(elements, k=1000), 'random.choices')\n",
    "\n",
    "# generate numbers with equal probability for each number\n",
    "# showProbabilityAsHistogram(random.choices(numbers, k=1000), 'random.choices')\n",
    "\n",
    "# generate numbers with equal probability for each number\n",
    "# showProbabilityAsHistogram([random.randint(1, 100) for _ in range(100)], 'random.randint')\n",
    "\n",
    "# generate numbers with equal probability for each number\n",
    "# showProbabilityAsHistogram([random.random() for _ in range(100)], 'random.random')\n",
    "\n",
    "# random samples from a normal (Gaussian) distribution\n",
    "# showProbabilityAsHistogram(np.random.normal(500, 100, 1000), 'np.random.normal')"
   ],
   "metadata": {
    "collapsed": false
   }
  },
  {
   "cell_type": "code",
   "execution_count": 52,
   "outputs": [
    {
     "name": "stdout",
     "output_type": "stream",
     "text": [
      "['2♠', '3♠', '4♠', '5♠', '6♠', '7♠', '8♠', '9♠', '10♠', 'J♠', 'K♠', 'Q♠', 'A♠', '2♥', '3♥', '4♥', '5♥', '6♥', '7♥', '8♥', '9♥', '10♥', 'J♥', 'K♥', 'Q♥', 'A♥', '2♣', '3♣', '4♣', '5♣', '6♣', '7♣', '8♣', '9♣', '10♣', 'J♣', 'K♣', 'Q♣', 'A♣', '2♦', '3♦', '4♦', '5♦', '6♦', '7♦', '8♦', '9♦', '10♦', 'J♦', 'K♦', 'Q♦', 'A♦']\n",
      "\n",
      "['7♠', '2♣', 'A♥', '9♦', 'Q♥']\n"
     ]
    }
   ],
   "source": [
    "import random\n",
    "import pickle\n",
    "\n",
    "fileName = '../data/DeckOfCardsList.dat'\n",
    "\n",
    "with open(fileName, 'rb') as infile:\n",
    "  deckOfCards = pickle.load(infile)\n",
    "\n",
    "print(deckOfCards)\n",
    "print()\n",
    "pokerHand = random.sample(deckOfCards, 5)\n",
    "print(pokerHand)"
   ],
   "metadata": {
    "collapsed": false
   }
  },
  {
   "cell_type": "markdown",
   "source": [
    "### Recursion"
   ],
   "metadata": {
    "collapsed": false
   }
  },
  {
   "cell_type": "code",
   "execution_count": 53,
   "outputs": [
    {
     "name": "stdout",
     "output_type": "stream",
     "text": [
      "2\n",
      "5\n",
      "5\n",
      "10\n",
      "1\n"
     ]
    }
   ],
   "source": [
    "def gcd(a, b):\n",
    "  if b == 0:\n",
    "    return a\n",
    "  return gcd(b, a%b)\n",
    "\n",
    "# def gcd2(a, b):\n",
    "#   while b!=0:\n",
    "#     a, b = b, a % b\n",
    "#   return a\n",
    "\n",
    "for a, b in [ (4, 6), (10, 15), (10, 35), (20, 30), (2, 31) ]:\n",
    "  # print(gcd(a, b), gcd2(a, b))\n",
    "  print(gcd(a, b))"
   ],
   "metadata": {
    "collapsed": false
   }
  },
  {
   "cell_type": "code",
   "execution_count": 54,
   "outputs": [
    {
     "name": "stdout",
     "output_type": "stream",
     "text": [
      "True True True\n",
      "True True True\n",
      "True True True\n",
      "True True True\n",
      "False False False\n",
      "True True True\n",
      "False False False\n",
      "True True True\n",
      "False False False\n"
     ]
    }
   ],
   "source": [
    "def isPalindrome(word :str) -> bool:\n",
    "  '''\n",
    "  Convert all letters to lowercase.\n",
    "  '''\n",
    "  word = word.lower()\n",
    "  # Words of zero or one letters are palindromes.\n",
    "  if len(word) <= 1:\n",
    "    return True\n",
    "  elif word[0] == word[-1]: # First and last letters match.\n",
    "    # Remove first and last letters.\n",
    "    word = word[1:-1]\n",
    "    return isPalindrome(word)\n",
    "  else:\n",
    "    return False\n",
    "\n",
    "def isPalindrome2(s: str):\n",
    "    # Implement your code\n",
    "    # Return true if s is palladium, false otherwise.\n",
    "    middle = len(s)//2\n",
    "    if len(s) % 2 == 0:\n",
    "      return s[:middle] == s[:middle-1:-1]\n",
    "    else:\n",
    "      return s[:middle] == s[:middle:-1]\n",
    "\n",
    "def isPalindrome3(word):\n",
    "    return word.lower() == word.lower()[::-1]\n",
    "\n",
    "input_strings = ['', 'a', 'abccba', 'racecar', 'hello', 'madam', 'python', 'level', 'world']\n",
    "\n",
    "for s in input_strings:\n",
    "  print(isPalindrome(s), isPalindrome2(s), isPalindrome3(s))"
   ],
   "metadata": {
    "collapsed": false
   }
  }
 ],
 "metadata": {
  "kernelspec": {
   "display_name": "Python 3",
   "language": "python",
   "name": "python3"
  },
  "language_info": {
   "codemirror_mode": {
    "name": "ipython",
    "version": 2
   },
   "file_extension": ".py",
   "mimetype": "text/x-python",
   "name": "python",
   "nbconvert_exporter": "python",
   "pygments_lexer": "ipython2",
   "version": "2.7.6"
  }
 },
 "nbformat": 4,
 "nbformat_minor": 0
}
