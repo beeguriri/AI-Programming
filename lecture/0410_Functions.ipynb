{
 "cells": [
  {
   "cell_type": "markdown",
   "source": [
    "## Functions"
   ],
   "metadata": {
    "collapsed": false
   }
  },
  {
   "cell_type": "markdown",
   "source": [
    "### 1. Function Definition\n",
    "   + 함수는 기능이 하나"
   ],
   "metadata": {
    "collapsed": false
   }
  },
  {
   "cell_type": "code",
   "execution_count": 5,
   "metadata": {
    "collapsed": true
   },
   "outputs": [
    {
     "name": "stdout",
     "output_type": "stream",
     "text": [
      "4  is maximum\n"
     ]
    }
   ],
   "source": [
    "def print_max(a, b):\n",
    "    if a>b:\n",
    "        print(a, ' is maximum')\n",
    "    elif a==b:\n",
    "        print(a, ' is equal to ', b)\n",
    "    else:\n",
    "        print(b, ' is maximum')\n",
    "\n",
    "print_max(3, 4)"
   ]
  },
  {
   "cell_type": "code",
   "execution_count": 9,
   "outputs": [
    {
     "name": "stdout",
     "output_type": "stream",
     "text": [
      "3\n",
      "7\n"
     ]
    }
   ],
   "source": [
    "# 매개변수 타입 지정 해주기\n",
    "def add(a: int,b: int):\n",
    "    return a+b\n",
    "\n",
    "print(add(1,2))\n",
    "print(add(3,4))"
   ],
   "metadata": {
    "collapsed": false
   }
  },
  {
   "cell_type": "code",
   "execution_count": 23,
   "outputs": [
    {
     "name": "stdout",
     "output_type": "stream",
     "text": [
      "5\n",
      "-1\n"
     ]
    }
   ],
   "source": [
    "# 함수 당 기능이 하나\n",
    "def max_num(a,b):\n",
    "    if a > b:\n",
    "        return a\n",
    "    elif a < b:\n",
    "        return b\n",
    "    else:\n",
    "        return -1\n",
    "\n",
    "def print_value(a):\n",
    "    print(a)\n",
    "\n",
    "print_value(max_num(3,5))\n",
    "print_value(max_num(1,1))"
   ],
   "metadata": {
    "collapsed": false,
    "pycharm": {
     "name": "#%%ㅔ\n"
    }
   }
  },
  {
   "cell_type": "code",
   "execution_count": 37,
   "outputs": [
    {
     "name": "stdout",
     "output_type": "stream",
     "text": [
      "$690.00\n"
     ]
    }
   ],
   "source": [
    "def main():\n",
    "    hourlyWage = float(input('enter the hourly wage: '))\n",
    "    hoursWorked = int(input('enter # hours worked: '))\n",
    "    earnings = pay(hourlyWage, hoursWorked)\n",
    "    print(\"${0:,.2f}\".format(earnings))\n",
    "\n",
    "def pay(wage, hours):\n",
    "    if hours<=40:\n",
    "        amount = wage * hours\n",
    "    else:\n",
    "        amount = (wage*40) + (1.5 * wage * (hours-40))\n",
    "    return amount\n",
    "\n",
    "main()"
   ],
   "metadata": {
    "collapsed": false
   }
  },
  {
   "cell_type": "code",
   "execution_count": 33,
   "outputs": [
    {
     "name": "stdout",
     "output_type": "stream",
     "text": [
      "['a', 'e']\n"
     ]
    }
   ],
   "source": [
    "def find_vowels(word):\n",
    "    word = word.lower()\n",
    "    vowels = ['a', 'e', 'i', 'o', 'u']\n",
    "    includeVowels = []\n",
    "    for v in vowels:\n",
    "        if(v in word) and (v not in includeVowels):\n",
    "            includeVowels.append(v)\n",
    "    return includeVowels\n",
    "\n",
    "print(find_vowels('apple'))"
   ],
   "metadata": {
    "collapsed": false
   }
  },
  {
   "cell_type": "code",
   "execution_count": 35,
   "outputs": [
    {
     "name": "stdout",
     "output_type": "stream",
     "text": [
      "['two', 'brrr', 'break', 'sequia', 'equals', 'democratic']\n",
      "['sequia', 'democratic', 'equals', 'break', 'two', 'brrr']\n"
     ]
    }
   ],
   "source": [
    "def main():\n",
    "    list1 = ['democratic', 'sequia', 'equals', 'brrr', 'break', 'two']\n",
    "    list1.sort(key=len)\n",
    "    print(list1)\n",
    "    list1.sort(key=numberOfVowels, reverse=True)\n",
    "    print(list1)\n",
    "\n",
    "def numberOfVowels(word):\n",
    "    vowels = ('a', 'e', 'i', 'o', 'u')\n",
    "    total = 0\n",
    "    for v in vowels:\n",
    "        total += word.count(v)\n",
    "    return total\n",
    "\n",
    "main()"
   ],
   "metadata": {
    "collapsed": false
   }
  },
  {
   "cell_type": "code",
   "execution_count": 89,
   "outputs": [
    {
     "name": "stdout",
     "output_type": "stream",
     "text": [
      "99\n",
      "58\n",
      "p\n"
     ]
    }
   ],
   "source": [
    "from random import randint, choice\n",
    "\n",
    "a = randint(1,100)\n",
    "print(a)\n",
    "\n",
    "x1 = choice(range(1,100))\n",
    "print(x1)\n",
    "\n",
    "x2 = choice('apple')\n",
    "print(x2)"
   ],
   "metadata": {
    "collapsed": false
   }
  },
  {
   "cell_type": "markdown",
   "source": [
    "### 2. List Comprehension"
   ],
   "metadata": {
    "collapsed": false
   }
  },
  {
   "cell_type": "code",
   "execution_count": 61,
   "outputs": [
    {
     "data": {
      "text/plain": "[4, 25, 36, 9]"
     },
     "execution_count": 61,
     "metadata": {},
     "output_type": "execute_result"
    }
   ],
   "source": [
    "list1 = ['2', '5', '6', '3']\n",
    "\n",
    "# [int(x) for x in list1]\n",
    "\n",
    "def g(x):\n",
    "    return(int(x)**2)\n",
    "\n",
    "[g(x) for x in list1]"
   ],
   "metadata": {
    "collapsed": false
   }
  },
  {
   "cell_type": "code",
   "execution_count": 63,
   "outputs": [
    {
     "name": "stdout",
     "output_type": "stream",
     "text": [
      "[1, 4, 9]\n",
      "[1, 16, 81]\n",
      "[1, 256, 6561]\n"
     ]
    }
   ],
   "source": [
    "data = tuple([1,2,3])\n",
    "\n",
    "a = [x*x for x in data]\n",
    "b = [x*x for x in a]\n",
    "c = [x*x for x in b]\n",
    "\n",
    "print(a)\n",
    "print(b)\n",
    "print(c)"
   ],
   "metadata": {
    "collapsed": false
   }
  },
  {
   "cell_type": "code",
   "execution_count": 66,
   "outputs": [
    {
     "name": "stdout",
     "output_type": "stream",
     "text": [
      "[256, 6561, 65536]\n"
     ]
    }
   ],
   "source": [
    "data = tuple([2,3,4])\n",
    "\n",
    "def fa(a):\n",
    "    return [x*x for x in a]\n",
    "\n",
    "def fb(b):\n",
    "    return [x*x for x in b]\n",
    "\n",
    "def fc(c):\n",
    "    return [x*x for x in c]\n",
    "\n",
    "print(fc(fb(fa(data))))"
   ],
   "metadata": {
    "collapsed": false
   }
  },
  {
   "cell_type": "code",
   "execution_count": 72,
   "outputs": [
    {
     "name": "stdout",
     "output_type": "stream",
     "text": [
      "<built-in function sum>\n"
     ]
    }
   ],
   "source": [
    "s = 0\n",
    "for i in range(1,11):\n",
    "    if i%2==0:\n",
    "        s+=i\n",
    "\n",
    "print(s)"
   ],
   "metadata": {
    "collapsed": false
   }
  },
  {
   "cell_type": "code",
   "execution_count": 74,
   "outputs": [
    {
     "data": {
      "text/plain": "30"
     },
     "execution_count": 74,
     "metadata": {},
     "output_type": "execute_result"
    }
   ],
   "source": [
    "sum([i for i in range(1,11) if i%2==0])"
   ],
   "metadata": {
    "collapsed": false
   }
  },
  {
   "cell_type": "code",
   "execution_count": 90,
   "outputs": [
    {
     "data": {
      "text/plain": "5"
     },
     "execution_count": 90,
     "metadata": {},
     "output_type": "execute_result"
    }
   ],
   "source": [
    "sum([i if i%2==0 else -i for i in range(1,11)])"
   ],
   "metadata": {
    "collapsed": false
   }
  },
  {
   "cell_type": "markdown",
   "source": [
    "### 3. Keyword Argument"
   ],
   "metadata": {
    "collapsed": false
   }
  },
  {
   "cell_type": "code",
   "execution_count": 97,
   "outputs": [
    {
     "name": "stdout",
     "output_type": "stream",
     "text": [
      "2\n",
      "1 2 3\n"
     ]
    }
   ],
   "source": [
    "def f(a, b, c):\n",
    "    return a + b - c\n",
    "\n",
    "def g():\n",
    "    return 1, 2, 3\n",
    "\n",
    "args = {'a':3, 'b':4, 'c':5}\n",
    "print(f(**args))\n",
    "print(*g())"
   ],
   "metadata": {
    "collapsed": false
   }
  },
  {
   "cell_type": "code",
   "execution_count": 105,
   "outputs": [
    {
     "name": "stdout",
     "output_type": "stream",
     "text": [
      "3\n",
      "9\n",
      "9\n"
     ]
    }
   ],
   "source": [
    "add = lambda a,b : a+b\n",
    "square = lambda a : a**2\n",
    "print(add(1,2))\n",
    "print(square(3))\n",
    "print(square(add(1,2)))"
   ],
   "metadata": {
    "collapsed": false
   }
  },
  {
   "cell_type": "code",
   "execution_count": 116,
   "outputs": [
    {
     "name": "stdout",
     "output_type": "stream",
     "text": [
      "[1, -2, 3]\n"
     ]
    }
   ],
   "source": [
    "square = lambda a : a**2\n",
    "\n",
    "lst = [3, -2, 1]\n",
    "lst.sort(key=square)\n",
    "print(lst)"
   ],
   "metadata": {
    "collapsed": false
   }
  },
  {
   "cell_type": "markdown",
   "source": [
    "### 4. Highe-Order Functions\n",
    "   + map(function, data) : parameter n개 -> n개\n",
    "   + filter(function, data) : parameter n개 -> filtering (n개이하)\n",
    "   + reduce(function, data) : parameter n개 -> 1개\n",
    "   + Itertools"
   ],
   "metadata": {
    "collapsed": false
   }
  },
  {
   "cell_type": "code",
   "execution_count": 127,
   "outputs": [
    {
     "name": "stdout",
     "output_type": "stream",
     "text": [
      "[1, 2, 3, 4, 5]\n"
     ]
    }
   ],
   "source": [
    "lst = [1.2, 2.5, 3.4, 4.7, 5]\n",
    "int_of_numbers = list(map(int, lst))\n",
    "print(int_of_numbers)"
   ],
   "metadata": {
    "collapsed": false
   }
  },
  {
   "cell_type": "code",
   "execution_count": 126,
   "outputs": [
    {
     "name": "stdout",
     "output_type": "stream",
     "text": [
      "[2, 4]\n"
     ]
    }
   ],
   "source": [
    "def is_even(x):\n",
    "    if x%2==0:\n",
    "        return x*x\n",
    "\n",
    "numbers = [1,2,3,4,5]\n",
    "even_number = list(filter(is_even, numbers))\n",
    "print(even_number)"
   ],
   "metadata": {
    "collapsed": false
   }
  },
  {
   "cell_type": "code",
   "execution_count": 125,
   "outputs": [
    {
     "name": "stdout",
     "output_type": "stream",
     "text": [
      "15\n"
     ]
    }
   ],
   "source": [
    "from functools import reduce\n",
    "\n",
    "\n",
    "def add(x,y):\n",
    "    return x+y\n",
    "\n",
    "numbers = [1,2,3,4,5]\n",
    "sum_of_numbers = reduce(add, numbers)\n",
    "print(sum_of_numbers)"
   ],
   "metadata": {
    "collapsed": false
   }
  },
  {
   "cell_type": "code",
   "execution_count": 3,
   "outputs": [
    {
     "name": "stdout",
     "output_type": "stream",
     "text": [
      "10\n",
      "11\n"
     ]
    }
   ],
   "source": [
    "import itertools\n",
    "\n",
    "counts = itertools.count(10,1)\n",
    "print(next(counts))\n",
    "print(next(counts))"
   ],
   "metadata": {
    "collapsed": false
   }
  },
  {
   "cell_type": "code",
   "execution_count": 6,
   "outputs": [
    {
     "name": "stdout",
     "output_type": "stream",
     "text": [
      "A [('A', 1), ('A', 2), ('A', 3)]\n",
      "B [('B', 1), ('B', 2)]\n"
     ]
    }
   ],
   "source": [
    "data = [('A',1),('A',2),('B',1),('B',2),('A',3)]\n",
    "first = lambda x:x[0]\n",
    "\n",
    "sorted_date = sorted(data, key=first)\n",
    "\n",
    "for key, group in itertools.groupby(sorted_date, key=first):\n",
    "    print(key, list(group))"
   ],
   "metadata": {
    "collapsed": false
   }
  },
  {
   "cell_type": "code",
   "execution_count": 8,
   "outputs": [
    {
     "name": "stdout",
     "output_type": "stream",
     "text": [
      "[(1, 'a'), (1, 'b'), (2, 'a'), (2, 'b'), (3, 'a'), (3, 'b')]\n"
     ]
    }
   ],
   "source": [
    "iterable1 = [1,2,3]\n",
    "iterable2 = ['a', 'b']\n",
    "\n",
    "cart_prod = itertools.product(iterable1, iterable2)\n",
    "print(list(cart_prod))"
   ],
   "metadata": {
    "collapsed": false
   }
  }
 ],
 "metadata": {
  "kernelspec": {
   "display_name": "Python 3",
   "language": "python",
   "name": "python3"
  },
  "language_info": {
   "codemirror_mode": {
    "name": "ipython",
    "version": 2
   },
   "file_extension": ".py",
   "mimetype": "text/x-python",
   "name": "python",
   "nbconvert_exporter": "python",
   "pygments_lexer": "ipython2",
   "version": "2.7.6"
  }
 },
 "nbformat": 4,
 "nbformat_minor": 0
}
