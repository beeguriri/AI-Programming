{
  "nbformat": 4,
  "nbformat_minor": 0,
  "metadata": {
    "colab": {
      "provenance": [],
      "toc_visible": true
    },
    "kernelspec": {
      "name": "python3",
      "display_name": "Python 3"
    },
    "language_info": {
      "name": "python"
    }
  },
  "cells": [
    {
      "cell_type": "markdown",
      "source": [
        "# Lab3"
      ],
      "metadata": {
        "id": "ZYJeA4fpcGNk"
      }
    },
    {
      "cell_type": "markdown",
      "source": [
        "1. Write a program that takes a number from the user and determines whether it's even or odd.\n",
        "\n",
        "\toutput: odd or even\n",
        "\n",
        "\n"
      ],
      "metadata": {
        "id": "0AZqhmeccW7p"
      }
    },
    {
      "cell_type": "code",
      "source": [
        "num = int(input('Enter an integer: '))\n",
        "\n",
        "if num % 2 ==0:\n",
        "  print('even')\n",
        "else:\n",
        "  print('odd')"
      ],
      "metadata": {
        "id": "SBUQ1WRTc1Nz",
        "colab": {
          "base_uri": "https://localhost:8080/"
        },
        "outputId": "26cb78e4-738d-4fbc-b074-b5a11b1c93d6"
      },
      "execution_count": 2,
      "outputs": [
        {
          "output_type": "stream",
          "name": "stdout",
          "text": [
            "Enter an integer: 5\n",
            "odd\n"
          ]
        }
      ]
    },
    {
      "cell_type": "markdown",
      "source": [
        "2. Write a program that takes three numbers from the user and determines the largest of the three.\n",
        "\n",
        "\n"
      ],
      "metadata": {
        "id": "mGbPfQJEc5pl"
      }
    },
    {
      "cell_type": "code",
      "source": [
        "num_list = list(map(int, input().split()))\n",
        "maxnum = 0;\n",
        "\n",
        "for i in num_list:\n",
        "  maxnum = max(maxnum, i)\n",
        "\n",
        "print(maxnum)"
      ],
      "metadata": {
        "id": "mGAC-9rSc7Qd",
        "colab": {
          "base_uri": "https://localhost:8080/"
        },
        "outputId": "22baf3d2-2105-4f12-9408-00f3d3346428"
      },
      "execution_count": 6,
      "outputs": [
        {
          "output_type": "stream",
          "name": "stdout",
          "text": [
            "3 1 8\n",
            "8\n"
          ]
        }
      ]
    },
    {
      "cell_type": "markdown",
      "source": [
        "\n",
        "3. Write a program that reads an integer as input and determines if it is a multiple of both 3 and 5.\n",
        "\n",
        "\toutput: multiple or not multiple\n",
        "\n"
      ],
      "metadata": {
        "id": "INqFk2K5c7ks"
      }
    },
    {
      "cell_type": "code",
      "source": [
        "num1 = int(input('enter an integer : '))\n",
        "if (num1 % 3==0) and (num1%5==0):\n",
        "  print('multiple')\n",
        "else:\n",
        "  print('not multiple')"
      ],
      "metadata": {
        "id": "B2c46qWfc8z0",
        "colab": {
          "base_uri": "https://localhost:8080/"
        },
        "outputId": "454078f1-3b28-4017-bcce-8a9ed9276c21"
      },
      "execution_count": 51,
      "outputs": [
        {
          "output_type": "stream",
          "name": "stdout",
          "text": [
            "enter an integer : 30\n",
            "multiple\n"
          ]
        }
      ]
    },
    {
      "cell_type": "markdown",
      "source": [
        "\n",
        "4. Write a Python program that takes three numbers as input and determines whether they form a Pythagorean triple.\n",
        "\n",
        "\toutput: pythagorean or not pythagorean"
      ],
      "metadata": {
        "id": "jAEoPcBXc9kM"
      }
    },
    {
      "cell_type": "code",
      "source": [
        "a, b, c = list(map(int, input().split()))\n",
        "maxlen = max(a,b,c)\n",
        "\n",
        "if maxlen==a:\n",
        "  if a**2 == b**2 + c**2:\n",
        "    print('Pythagorean')\n",
        "  else: \n",
        "    print('not Pythagorean')\n",
        "elif maxlen==b:\n",
        "  if b**2 == a**2 + c**2:\n",
        "    print('Pythagorean')\n",
        "  else: \n",
        "    print('not Pythagorean')\n",
        "else:\n",
        "  if c**2 == a**2 + b**2:\n",
        "    print('Pythagorean')\n",
        "  else: \n",
        "    print('not Pythagorean')"
      ],
      "metadata": {
        "id": "nJN7nZ1Nc-ad",
        "colab": {
          "base_uri": "https://localhost:8080/"
        },
        "outputId": "df205735-6f47-4d77-98e4-d516744981fd"
      },
      "execution_count": 11,
      "outputs": [
        {
          "output_type": "stream",
          "name": "stdout",
          "text": [
            "3 4 5\n",
            "Pythagorean\n"
          ]
        }
      ]
    },
    {
      "cell_type": "markdown",
      "source": [
        "5. Write a Python program that takes a user's weight and height as input and calculates their body mass index (BMI). \n",
        "\n",
        "\toutput: < 18.5 : underweight, 18.5 - 24.9 normal weight, <= 25.0 overweight\n",
        "\n",
        "\n",
        "\n",
        "\n"
      ],
      "metadata": {
        "id": "EkRNBCyLctUY"
      }
    },
    {
      "cell_type": "code",
      "source": [
        "#bmi = kg/m2\n",
        "\n",
        "weight = int(input('weight : '))\n",
        "height = int(input('height : '))\n",
        "\n",
        "bmi = weight / (height**2)\n",
        "\n",
        "if bmi<18.5:\n",
        "  print('underweight')\n",
        "elif bmi>=18.5 and bmi<24.9:\n",
        "  print('normal weight')\n",
        "elif bmi>=25.0:\n",
        "  print('overweight')"
      ],
      "metadata": {
        "id": "BxdeHEF_cB3C",
        "colab": {
          "base_uri": "https://localhost:8080/"
        },
        "outputId": "2bb7c539-20af-4e75-abf5-57024190586a"
      },
      "execution_count": 53,
      "outputs": [
        {
          "output_type": "stream",
          "name": "stdout",
          "text": [
            "weight : 46\n",
            "height : 162\n",
            "underweight\n"
          ]
        }
      ]
    },
    {
      "cell_type": "markdown",
      "source": [
        "6. Write a Python program that takes two strings as input and determines whether they are anagrams. If the two strings are anagrams (i.e., they have the same letters in a different order)\n",
        "\n",
        "  output: anagrams or not anagrams"
      ],
      "metadata": {
        "id": "tdJa-fe6Lu_N"
      }
    },
    {
      "cell_type": "code",
      "source": [
        "str1 = input('str1: ')\n",
        "str2 = input('str2: ')\n",
        "\n",
        "s1 = sorted(str1)\n",
        "s2 = sorted(str2)\n",
        "\n",
        "# print(s1)\n",
        "# print(s2)\n",
        "\n",
        "if len(s1)!=len(s2):\n",
        "  print('not anagrams')\n",
        "else:\n",
        "  s1_new =''\n",
        "  s2_new = ''  \n",
        "  for a, b in zip(s1, s2):\n",
        "    s1_new += a\n",
        "    s2_new += b\n",
        "  if s1_new==s2_new:\n",
        "    print('anagrams')\n",
        "  else:\n",
        "    print('not anagrams')"
      ],
      "metadata": {
        "id": "4CuQ-rftL-3y",
        "colab": {
          "base_uri": "https://localhost:8080/"
        },
        "outputId": "6e736482-6d79-4806-a181-be9a5735e220"
      },
      "execution_count": 29,
      "outputs": [
        {
          "output_type": "stream",
          "name": "stdout",
          "text": [
            "str1: abcde\n",
            "str2: acbed\n",
            "['a', 'b', 'c', 'd', 'e']\n",
            "['a', 'b', 'c', 'd', 'e']\n",
            "anagrams\n"
          ]
        }
      ]
    },
    {
      "cell_type": "markdown",
      "source": [
        "# Lab4"
      ],
      "metadata": {
        "id": "9fgcLU2reahl"
      }
    },
    {
      "cell_type": "markdown",
      "source": [
        "1. Write a program to find the sum of all numbers between 1 and 100 that are divisible by 7 using a while loop."
      ],
      "metadata": {
        "id": "dI9p5_rNec8G"
      }
    },
    {
      "cell_type": "code",
      "source": [
        "sum = 0\n",
        "i = 0\n",
        "while i<=100:\n",
        "  i = i+1\n",
        "  if i%7==0:\n",
        "    sum += i\n",
        "\n",
        "print(sum)"
      ],
      "metadata": {
        "id": "nvheaxJOedT9",
        "colab": {
          "base_uri": "https://localhost:8080/"
        },
        "outputId": "4c13fb78-c779-46c0-d62d-5d4a36b8a3ed"
      },
      "execution_count": 32,
      "outputs": [
        {
          "output_type": "stream",
          "name": "stdout",
          "text": [
            "735\n"
          ]
        }
      ]
    },
    {
      "cell_type": "markdown",
      "source": [
        "2. Write a program that prints the multiplication table for a given number using a for loop."
      ],
      "metadata": {
        "id": "wDOVnwLTee8p"
      }
    },
    {
      "cell_type": "code",
      "source": [
        "num = int(input('enter a number: '))\n",
        "\n",
        "for i in range(1,10):\n",
        "  print(num, ' * ', i, ' = ', num*i)"
      ],
      "metadata": {
        "id": "YeC_cgT3ee8q",
        "colab": {
          "base_uri": "https://localhost:8080/"
        },
        "outputId": "d6249026-bf13-4d1c-e66b-5ce16765d464"
      },
      "execution_count": 33,
      "outputs": [
        {
          "output_type": "stream",
          "name": "stdout",
          "text": [
            "enter a number: 3\n",
            "3  *  1  =  3\n",
            "3  *  2  =  6\n",
            "3  *  3  =  9\n",
            "3  *  4  =  12\n",
            "3  *  5  =  15\n",
            "3  *  6  =  18\n",
            "3  *  7  =  21\n",
            "3  *  8  =  24\n",
            "3  *  9  =  27\n"
          ]
        }
      ]
    },
    {
      "cell_type": "markdown",
      "source": [
        "3. Write a program that reads a positive integer and checks if it's a prime number using a for loop."
      ],
      "metadata": {
        "id": "J5zjEzX3efP0"
      }
    },
    {
      "cell_type": "code",
      "source": [
        "num = int(input('enter a number: '))\n",
        "\n",
        "cnt = 0\n",
        "for i in range(1, num+1):\n",
        "  if(num%i==0):\n",
        "    cnt = cnt+1\n",
        "\n",
        "if cnt>2:\n",
        "  print('not prime number')\n",
        "else:\n",
        "  print('prime number')"
      ],
      "metadata": {
        "id": "Q7DxZNeGefP0",
        "colab": {
          "base_uri": "https://localhost:8080/"
        },
        "outputId": "96fcda3e-9117-4ef0-d9d6-a9ba965c5428"
      },
      "execution_count": 38,
      "outputs": [
        {
          "output_type": "stream",
          "name": "stdout",
          "text": [
            "enter a number: 11\n",
            "prime number\n"
          ]
        }
      ]
    },
    {
      "cell_type": "markdown",
      "source": [
        "4. Write a program that reads a string and reverses it using a loop. The program should also count and display the number of vowels in the string.\n"
      ],
      "metadata": {
        "id": "P5k8YQd9dmUT"
      }
    },
    {
      "cell_type": "code",
      "source": [
        "str = input('str: ')\n",
        "str_reverse = ''\n",
        "\n",
        "for ch in str:\n",
        "  str_reverse = ch + str_reverse\n",
        "\n",
        "print(str_reverse)\n",
        "\n",
        "vowels = ['a', 'i', 'e', 'o', 'u']\n",
        "count = 0\n",
        "for ch in str:\n",
        "  for v in vowels:\n",
        "    if ch == v:\n",
        "      count += 1\n",
        "\n",
        "print(count)"
      ],
      "metadata": {
        "id": "EBIwt03Kdnpp",
        "colab": {
          "base_uri": "https://localhost:8080/"
        },
        "outputId": "7a3a9f3b-3d5b-47ba-c4f2-b21a7efd8961"
      },
      "execution_count": 42,
      "outputs": [
        {
          "output_type": "stream",
          "name": "stdout",
          "text": [
            "str: apple\n",
            "elppa\n",
            "2\n"
          ]
        }
      ]
    },
    {
      "cell_type": "markdown",
      "source": [
        "5. Write a program that prints the following patterns using loops:\n",
        "\n",
        "```\n",
        "*****\n",
        " ****\n",
        "  ***\n",
        "   **\n",
        "    *\n",
        "```"
      ],
      "metadata": {
        "id": "mPv8F8IDdsNB"
      }
    },
    {
      "cell_type": "code",
      "source": [
        "space = ' '\n",
        "star = '*'\n",
        "\n",
        "for i in range(0, 5):\n",
        "    print(space * i + star * (5 - i))"
      ],
      "metadata": {
        "id": "tXDgAKGadyDx",
        "colab": {
          "base_uri": "https://localhost:8080/"
        },
        "outputId": "ad8cbc78-808f-475e-9962-521a9dee1a3b"
      },
      "execution_count": 50,
      "outputs": [
        {
          "output_type": "stream",
          "name": "stdout",
          "text": [
            "*****\n",
            " ****\n",
            "  ***\n",
            "   **\n",
            "    *\n"
          ]
        }
      ]
    },
    {
      "cell_type": "markdown",
      "source": [
        "6. Create a shopping list program that allows the user to add item names to the list, remove items, and display the list using loops. The program should continuously ask the user for input until they choose to exit.\n",
        "\n",
        "\n",
        "```\n",
        "Choose an option:\n",
        "1. Add item name\n",
        "2. Remove item by name\n",
        "3. Display list\n",
        "4. Exit\n",
        "```\n"
      ],
      "metadata": {
        "id": "aTfwJbtWeNxR"
      }
    },
    {
      "cell_type": "code",
      "source": [
        "shopping_list = []\n",
        "\n",
        "while True:\n",
        "  sel = int(input('choose an option: 1:add, 2: remove, 3: display, 4: exit'))\n",
        "  if sel == 1:\n",
        "    item = input('add an item: ')\n",
        "    shopping_list.append(item)\n",
        "  elif sel == 2:\n",
        "    item = input('remove an item: ')\n",
        "    shopping_list.remove(item)\n",
        "  elif sel == 3:\n",
        "    for li in shopping_list:\n",
        "      print(li, ', ', end='')\n",
        "  elif sel == 4:\n",
        "    break"
      ],
      "metadata": {
        "id": "APNy8a6ZeO6l",
        "colab": {
          "base_uri": "https://localhost:8080/"
        },
        "outputId": "d2da4f9e-3f1d-49e3-bda6-20c59ef7f01c"
      },
      "execution_count": 54,
      "outputs": [
        {
          "name": "stdout",
          "output_type": "stream",
          "text": [
            "choose an option: 1:add, 2: remove, 3: display, 4: exit1\n",
            "add an item: apple\n",
            "choose an option: 1:add, 2: remove, 3: display, 4: exit3\n",
            "apple , choose an option: 1:add, 2: remove, 3: display, 4: exit1\n",
            "add an item: banana\n",
            "choose an option: 1:add, 2: remove, 3: display, 4: exit3\n",
            "apple , banana , choose an option: 1:add, 2: remove, 3: display, 4: exit2\n",
            "remove an item: apple\n",
            "choose an option: 1:add, 2: remove, 3: display, 4: exit3\n",
            "banana , choose an option: 1:add, 2: remove, 3: display, 4: exit4\n"
          ]
        }
      ]
    }
  ]
}