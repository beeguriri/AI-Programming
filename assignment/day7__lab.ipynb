{
 "nbformat": 4,
 "nbformat_minor": 0,
 "metadata": {
  "colab": {
   "provenance": []
  },
  "kernelspec": {
   "name": "python3",
   "display_name": "Python 3"
  },
  "language_info": {
   "name": "python"
  }
 },
 "cells": [
  {
   "cell_type": "markdown",
   "source": [
    "# Lab12"
   ],
   "metadata": {
    "id": "Q8GmLMjqs3Ek"
   }
  },
  {
   "cell_type": "markdown",
   "source": [
    "## 1. Create a class named \"ShoppingCart\" with the following methods and attributes:\n",
    "\n",
    "* add_item(item_name, price, quantity)\n",
    "* remove_item(item_name, quantity)\n",
    "* get_total_price()\n",
    "* items (dictionary, keys are item names and values are item price and quantities)"
   ],
   "metadata": {
    "id": "UlT2GU_N6Tl0"
   }
  },
  {
   "cell_type": "code",
   "source": [
    "first = lambda x: x[0]\n",
    "second = lambda x: x[1]\n",
    "\n",
    "class ShoppingCart:\n",
    "\n",
    "  # constructor\n",
    "  def __init__(self):\n",
    "    self.items = dict()\n",
    "\n",
    "  def add_item(self, name, price, quantity):\n",
    "    if name in self.items:\n",
    "      if price == first(self.items[name]):\n",
    "        self.items[name] = (first(self.items[name]), second(self.items[name]) + quantity)\n",
    "      else:\n",
    "        self.items[name] = (price, second(self.items[name]) + quantity)\n",
    "    else:\n",
    "      self.items[name] = (price, quantity)\n",
    "\n",
    "  def remove_item(self, name, quantity):\n",
    "    if name in self.items:\n",
    "      if quantity < second(self.items[name]):\n",
    "        self.items[name] = (first(self.items[name]), second(self.items[name]) - quantity)\n",
    "      elif second(self.items[name])==quantity:\n",
    "        del self.items[name]\n",
    "\n",
    "  def get_total_price(self):\n",
    "    return sum([first(v) * second(v) for k, v in self.items.items()])\n",
    "\n",
    "  def get_list(self):\n",
    "    return self.items"
   ],
   "metadata": {
    "id": "iqIe1ijPrx0z"
   },
   "execution_count": 78,
   "outputs": []
  },
  {
   "cell_type": "code",
   "execution_count": 79,
   "outputs": [
    {
     "name": "stdout",
     "output_type": "stream",
     "text": [
      "{'Apple': (2.1, 9), 'Banana': (0.9, 3), 'Orange': (2.9, 2)}\n",
      "{'Apple': (2.1, 7), 'Banana': (0.9, 3)}\n",
      "17.40\n"
     ]
    }
   ],
   "source": [
    "def main():\n",
    "  cart = ShoppingCart()\n",
    "  cart.add_item(\"Apple\", 1.9, 5)\n",
    "  cart.add_item(\"Apple\", 1.9, 2)\n",
    "  cart.add_item(\"Apple\", 2.1, 2)\n",
    "  cart.add_item(\"Banana\", 0.9, 3)\n",
    "  cart.add_item(\"Orange\", 2.9, 2)\n",
    "\n",
    "  print(cart.get_list())\n",
    "\n",
    "  cart.remove_item(\"Apple\", 2)\n",
    "  cart.remove_item(\"Orange\", 2)\n",
    "\n",
    "  print(cart.get_list())\n",
    "\n",
    "  print('{:.2f}'.format(cart.get_total_price()))\n",
    "\n",
    "main()"
   ],
   "metadata": {
    "collapsed": false
   }
  },
  {
   "cell_type": "markdown",
   "source": [
    "## 2. Create a class named \"TimeSeriesData\" with the following methods and attributes:\n",
    "\n",
    "* get_max_value()\n",
    "* get_min_value()\n",
    "* get_average_value()\n",
    "* data (list of tuples, each tuple contains a timestamp and a value)"
   ],
   "metadata": {
    "id": "mKgtxNrn8m_a"
   }
  },
  {
   "cell_type": "code",
   "source": [
    "second = lambda x: x[1]\n",
    "\n",
    "class TimeSeriesData():\n",
    "\n",
    "  def __init__(self, data):\n",
    "    self.__data = data\n",
    "\n",
    "  def get_max_value(self):\n",
    "    return max([second(v) for v in self.__data])\n",
    "\n",
    "  def get_min_value(self):\n",
    "    return min([second(v) for v in self.__data])\n",
    "\n",
    "  def get_average_value(self):\n",
    "    return sum([second(v) for v in self.__data]) / len(self.__data)"
   ],
   "metadata": {
    "id": "ioqrxwWI8nbq"
   },
   "execution_count": 86,
   "outputs": []
  },
  {
   "cell_type": "code",
   "execution_count": 87,
   "outputs": [
    {
     "name": "stdout",
     "output_type": "stream",
     "text": [
      "3.00\n",
      "1.00\n",
      "2.12\n"
     ]
    }
   ],
   "source": [
    "def main():\n",
    "  data = [(\"2023-01-01\", 1.0), (\"2023-01-02\", 2.0), (\"2023-01-03\", 3.0), (\"2023-01-04\", 2.5)]\n",
    "\n",
    "  time_series = TimeSeriesData(data)\n",
    "  print('{:.2f}'.format(time_series.get_max_value()))\n",
    "  print('{:.2f}'.format(time_series.get_min_value()))\n",
    "  print('{:.2f}'.format(time_series.get_average_value()))\n",
    "\n",
    "main()"
   ],
   "metadata": {
    "collapsed": false
   }
  },
  {
   "cell_type": "markdown",
   "source": [
    "## 3. Create a class named \"SimpleLinearRegression\" with the following methods and attributes:\n",
    "\n",
    "* get_slope()\n",
    "* get_intercept()\n",
    "* predict(x)\n",
    "* x (list of floats)\n",
    "* y (list of floats)"
   ],
   "metadata": {
    "id": "o205__Y09RrY"
   }
  },
  {
   "cell_type": "code",
   "source": [
    "# First, you can use the matplotlib, numpy, and sklearn modules\n",
    "import matplotlib.pyplot as plt\n",
    "import numpy as np\n",
    "from sklearn.linear_model import LinearRegression\n",
    "\n",
    "class SimpleLinearRegression:  # ax + b = 0\n",
    "  def __init__(self, x, y):\n",
    "    self.x = x\n",
    "    self.y = y\n",
    "\n",
    "  def __fit(self):\n",
    "    self.X_train = np.array(self.x).reshape(-1,1)\n",
    "    self.Ir = LinearRegression().fit(self, self.X_train, self.y)\n",
    "\n",
    "  def get_slope(self):\n",
    "    self.__fit()\n",
    "    return self.Ir.coif(0)\n",
    "\n",
    "  def get_intercept(self):\n",
    "    pass\n",
    "\n",
    "  def predict(self, n):\n",
    "    return self.get_slope()\n",
    "\n",
    "  def show_plot(self):\n",
    "    pass\n",
    "\n"
   ],
   "metadata": {
    "id": "_GMyehYz9Qv-"
   },
   "execution_count": 101,
   "outputs": []
  },
  {
   "cell_type": "code",
   "execution_count": 111,
   "outputs": [],
   "source": [
    "from numpy import mean\n",
    "\n",
    "\n",
    "# secondly, you can use the least-squares estimation method,\n",
    "# you can find the best-fitting line by calculating\n",
    "# the slope (a) and intercept (b) using these formulas:\n",
    "\n",
    "# Slope (a):\n",
    "# a = (Σ(x*y) - n * mean(x) * mean(y)) / (Σ(x^2) - n * mean(x)^2)\n",
    "\n",
    "# Intercept (b):\n",
    "# b = mean(y) - a * mean(x)\n",
    "\n",
    "class SimpleLinearRegression2:  # ax + b = 0\n",
    "  def __init__(self, x, y):\n",
    "    self.x = x\n",
    "    self.y = y\n",
    "\n",
    "  def get_slope(self):\n",
    "\n",
    "    n = len(self.x)\n",
    "    xy = sum([x*y for x, y in zip(self.x,self.y)])\n",
    "    x2 = sum([x**2 for x in self.x])\n",
    "    x_mean = mean([self.x])\n",
    "    y_mean = mean([self.y])\n",
    "\n",
    "    return (xy - n * x_mean * y_mean) / (x2 - n*x_mean**2)\n",
    "\n",
    "  def get_intercept(self):\n",
    "    return mean([self.y]) - mean([self.x]) * self.get_slope()\n",
    "\n",
    "  def predict(self, x):\n",
    "    return self.get_slope() * x + self.get_intercept()\n",
    "\n",
    "  def show_plot(self):\n",
    "    pass\n"
   ],
   "metadata": {
    "collapsed": false
   }
  },
  {
   "cell_type": "code",
   "execution_count": 112,
   "outputs": [
    {
     "name": "stdout",
     "output_type": "stream",
     "text": [
      "0.58\n",
      "2.25\n",
      "5.75\n"
     ]
    }
   ],
   "source": [
    "def main():\n",
    "  x = [1, 2, 3, 4, 5, 6, 7, 8]\n",
    "  y = [2, 4, 5, 4, 5, 5, 8, 6]\n",
    "\n",
    "  regression = SimpleLinearRegression2(x, y)\n",
    "  print('{:.2f}'.format(regression.get_slope()))          # a\n",
    "  print('{:.2f}'.format(regression.get_intercept()))      # b\n",
    "  print('{:.2f}'.format(regression.predict(6)))\n",
    "\n",
    "  # regression.show_plot()\n",
    "\n",
    "  # regression2 = SimpleLinearRegression2(x, y)\n",
    "  # print('{:.2f}'.format(regression2.get_slope()))          # a\n",
    "  # print('{:.2f}'.format(regression2.get_intercept()))      # b\n",
    "  # print('{:.2f}'.format(regression2.predict(6)))\n",
    "\n",
    "  # regression2.show_plot()\n",
    "\n",
    "main()"
   ],
   "metadata": {
    "collapsed": false
   }
  }
 ]
}
