{
 "nbformat": 4,
 "nbformat_minor": 0,
 "metadata": {
  "colab": {
   "provenance": [],
   "toc_visible": true
  },
  "kernelspec": {
   "name": "python3",
   "display_name": "Python 3"
  },
  "language_info": {
   "name": "python"
  }
 },
 "cells": [
  {
   "cell_type": "markdown",
   "source": [
    "# Lab13"
   ],
   "metadata": {
    "collapsed": false
   }
  },
  {
   "cell_type": "markdown",
   "source": [
    "* Create a DataFrame from a CSV file (UN.txt).\n",
    "* The UN.txt file contains columns: 'Country', 'Continent', 'Population', and 'Area'."
   ],
   "metadata": {
    "id": "1UG4Ucc2jfFB"
   }
  },
  {
   "cell_type": "code",
   "source": [
    "import pandas as pd\n",
    "\n",
    "df = pd.read_csv('../data/UN.txt', header=None, names=['Country', 'Continent', 'Population', 'Area'])\n",
    "df.head()"
   ],
   "metadata": {
    "colab": {
     "base_uri": "https://localhost:8080/",
     "height": 206
    },
    "id": "hX0B2nbLjccI",
    "outputId": "a2d36eb3-7d01-4a1b-d890-ebb3058ff512"
   },
   "execution_count": 53,
   "outputs": [
    {
     "data": {
      "text/plain": "       Country Continent  Population      Area\n0  Afghanistan      Asia      31.800  251772.0\n1      Albania    Europe       3.000   11100.0\n2      Algeria    Africa      38.300  919595.0\n3      Andorra    Europe       0.085     181.0\n4       Angola    Africa      19.100  481354.0",
      "text/html": "<div>\n<style scoped>\n    .dataframe tbody tr th:only-of-type {\n        vertical-align: middle;\n    }\n\n    .dataframe tbody tr th {\n        vertical-align: top;\n    }\n\n    .dataframe thead th {\n        text-align: right;\n    }\n</style>\n<table border=\"1\" class=\"dataframe\">\n  <thead>\n    <tr style=\"text-align: right;\">\n      <th></th>\n      <th>Country</th>\n      <th>Continent</th>\n      <th>Population</th>\n      <th>Area</th>\n    </tr>\n  </thead>\n  <tbody>\n    <tr>\n      <th>0</th>\n      <td>Afghanistan</td>\n      <td>Asia</td>\n      <td>31.800</td>\n      <td>251772.0</td>\n    </tr>\n    <tr>\n      <th>1</th>\n      <td>Albania</td>\n      <td>Europe</td>\n      <td>3.000</td>\n      <td>11100.0</td>\n    </tr>\n    <tr>\n      <th>2</th>\n      <td>Algeria</td>\n      <td>Africa</td>\n      <td>38.300</td>\n      <td>919595.0</td>\n    </tr>\n    <tr>\n      <th>3</th>\n      <td>Andorra</td>\n      <td>Europe</td>\n      <td>0.085</td>\n      <td>181.0</td>\n    </tr>\n    <tr>\n      <th>4</th>\n      <td>Angola</td>\n      <td>Africa</td>\n      <td>19.100</td>\n      <td>481354.0</td>\n    </tr>\n  </tbody>\n</table>\n</div>"
     },
     "execution_count": 53,
     "metadata": {},
     "output_type": "execute_result"
    }
   ]
  },
  {
   "cell_type": "code",
   "execution_count": 28,
   "outputs": [
    {
     "name": "stdout",
     "output_type": "stream",
     "text": [
      "<class 'pandas.core.frame.DataFrame'>\n",
      "RangeIndex: 193 entries, 0 to 192\n",
      "Data columns (total 4 columns):\n",
      " #   Column      Non-Null Count  Dtype  \n",
      "---  ------      --------------  -----  \n",
      " 0   Country     193 non-null    object \n",
      " 1   Continent   193 non-null    object \n",
      " 2   Population  193 non-null    float64\n",
      " 3   Area        193 non-null    float64\n",
      "dtypes: float64(2), object(2)\n",
      "memory usage: 6.2+ KB\n"
     ]
    }
   ],
   "source": [
    "df.info()"
   ],
   "metadata": {
    "collapsed": false
   }
  },
  {
   "cell_type": "markdown",
   "source": [
    "* Given a DataFrame, filter rows in a DataFrame based on a specific area\n",
    "* Sort the output by area size in descending order"
   ],
   "metadata": {
    "id": "b2kOY08fldb4"
   }
  },
  {
   "cell_type": "code",
   "source": [
    "def filter_area(df, area):\n",
    "    filterd_df = df[df['Area']>area]\n",
    "    return filterd_df\n",
    "\n",
    "filter_df = filter_area(df, 1000)\n",
    "filter_df"
   ],
   "metadata": {
    "colab": {
     "base_uri": "https://localhost:8080/",
     "height": 423
    },
    "id": "mW3jv_WNjzG4",
    "outputId": "42cf65fd-f91d-4f97-a926-1c24cefddae8"
   },
   "execution_count": 57,
   "outputs": [
    {
     "data": {
      "text/plain": "         Country      Continent  Population       Area\n0    Afghanistan           Asia        31.8   251772.0\n1        Albania         Europe         3.0    11100.0\n2        Algeria         Africa        38.3   919595.0\n4         Angola         Africa        19.1   481354.0\n6      Argentina  South America        44.0  1068302.0\n..           ...            ...         ...        ...\n188    Venezuela  South America        28.9   353841.0\n189      Vietnam           Asia        93.4   128527.0\n190        Yemen           Asia        26.1   203849.0\n191       Zambia         Africa        14.7   290587.0\n192     Zimbabwe         Africa        13.8   150871.0\n\n[164 rows x 4 columns]",
      "text/html": "<div>\n<style scoped>\n    .dataframe tbody tr th:only-of-type {\n        vertical-align: middle;\n    }\n\n    .dataframe tbody tr th {\n        vertical-align: top;\n    }\n\n    .dataframe thead th {\n        text-align: right;\n    }\n</style>\n<table border=\"1\" class=\"dataframe\">\n  <thead>\n    <tr style=\"text-align: right;\">\n      <th></th>\n      <th>Country</th>\n      <th>Continent</th>\n      <th>Population</th>\n      <th>Area</th>\n    </tr>\n  </thead>\n  <tbody>\n    <tr>\n      <th>0</th>\n      <td>Afghanistan</td>\n      <td>Asia</td>\n      <td>31.8</td>\n      <td>251772.0</td>\n    </tr>\n    <tr>\n      <th>1</th>\n      <td>Albania</td>\n      <td>Europe</td>\n      <td>3.0</td>\n      <td>11100.0</td>\n    </tr>\n    <tr>\n      <th>2</th>\n      <td>Algeria</td>\n      <td>Africa</td>\n      <td>38.3</td>\n      <td>919595.0</td>\n    </tr>\n    <tr>\n      <th>4</th>\n      <td>Angola</td>\n      <td>Africa</td>\n      <td>19.1</td>\n      <td>481354.0</td>\n    </tr>\n    <tr>\n      <th>6</th>\n      <td>Argentina</td>\n      <td>South America</td>\n      <td>44.0</td>\n      <td>1068302.0</td>\n    </tr>\n    <tr>\n      <th>...</th>\n      <td>...</td>\n      <td>...</td>\n      <td>...</td>\n      <td>...</td>\n    </tr>\n    <tr>\n      <th>188</th>\n      <td>Venezuela</td>\n      <td>South America</td>\n      <td>28.9</td>\n      <td>353841.0</td>\n    </tr>\n    <tr>\n      <th>189</th>\n      <td>Vietnam</td>\n      <td>Asia</td>\n      <td>93.4</td>\n      <td>128527.0</td>\n    </tr>\n    <tr>\n      <th>190</th>\n      <td>Yemen</td>\n      <td>Asia</td>\n      <td>26.1</td>\n      <td>203849.0</td>\n    </tr>\n    <tr>\n      <th>191</th>\n      <td>Zambia</td>\n      <td>Africa</td>\n      <td>14.7</td>\n      <td>290587.0</td>\n    </tr>\n    <tr>\n      <th>192</th>\n      <td>Zimbabwe</td>\n      <td>Africa</td>\n      <td>13.8</td>\n      <td>150871.0</td>\n    </tr>\n  </tbody>\n</table>\n<p>164 rows × 4 columns</p>\n</div>"
     },
     "execution_count": 57,
     "metadata": {},
     "output_type": "execute_result"
    }
   ]
  },
  {
   "cell_type": "markdown",
   "source": [
    "* Calculate the average population and area of UN member states."
   ],
   "metadata": {
    "id": "5-4MzONkmf_m"
   }
  },
  {
   "cell_type": "code",
   "source": [],
   "metadata": {
    "colab": {
     "base_uri": "https://localhost:8080/"
    },
    "id": "wjBGEp0llTHd",
    "outputId": "7d1672e0-184d-435e-eafa-e2822f1ef3f5"
   },
   "execution_count": 34,
   "outputs": [
    {
     "ename": "SyntaxError",
     "evalue": "invalid syntax (83806951.py, line 4)",
     "output_type": "error",
     "traceback": [
      "\u001B[1;36m  Cell \u001B[1;32mIn[34], line 4\u001B[1;36m\u001B[0m\n\u001B[1;33m    return df[cols].\u001B[0m\n\u001B[1;37m                    ^\u001B[0m\n\u001B[1;31mSyntaxError\u001B[0m\u001B[1;31m:\u001B[0m invalid syntax\n"
     ]
    }
   ]
  },
  {
   "cell_type": "markdown",
   "source": [
    "* Group the DataFrame by 'Continent' and calculate the average population and area for each continent."
   ],
   "metadata": {
    "id": "myLGdVn8nZGj"
   }
  },
  {
   "cell_type": "code",
   "source": [
    "grouped_df = df.groupby('Continent')"
   ],
   "metadata": {
    "colab": {
     "base_uri": "https://localhost:8080/",
     "height": 268
    },
    "id": "zjj7cwoKmvuw",
    "outputId": "7c88ad06-3aa0-4db8-af05-b5beb0ce467f"
   },
   "execution_count": 58,
   "outputs": []
  },
  {
   "cell_type": "code",
   "execution_count": 60,
   "outputs": [
    {
     "data": {
      "text/plain": "                   Population         Area\nContinent                                 \nAfrica              1124.1220  11840863.00\nAsia                4270.5400  12306588.20\nAustralia/Oceania     35.9125   3264352.00\nEurope               744.5760   8887808.26\nNorth America        555.2360   8697251.00\nSouth America        405.2100   6833472.00",
      "text/html": "<div>\n<style scoped>\n    .dataframe tbody tr th:only-of-type {\n        vertical-align: middle;\n    }\n\n    .dataframe tbody tr th {\n        vertical-align: top;\n    }\n\n    .dataframe thead th {\n        text-align: right;\n    }\n</style>\n<table border=\"1\" class=\"dataframe\">\n  <thead>\n    <tr style=\"text-align: right;\">\n      <th></th>\n      <th>Population</th>\n      <th>Area</th>\n    </tr>\n    <tr>\n      <th>Continent</th>\n      <th></th>\n      <th></th>\n    </tr>\n  </thead>\n  <tbody>\n    <tr>\n      <th>Africa</th>\n      <td>1124.1220</td>\n      <td>11840863.00</td>\n    </tr>\n    <tr>\n      <th>Asia</th>\n      <td>4270.5400</td>\n      <td>12306588.20</td>\n    </tr>\n    <tr>\n      <th>Australia/Oceania</th>\n      <td>35.9125</td>\n      <td>3264352.00</td>\n    </tr>\n    <tr>\n      <th>Europe</th>\n      <td>744.5760</td>\n      <td>8887808.26</td>\n    </tr>\n    <tr>\n      <th>North America</th>\n      <td>555.2360</td>\n      <td>8697251.00</td>\n    </tr>\n    <tr>\n      <th>South America</th>\n      <td>405.2100</td>\n      <td>6833472.00</td>\n    </tr>\n  </tbody>\n</table>\n</div>"
     },
     "execution_count": 60,
     "metadata": {},
     "output_type": "execute_result"
    }
   ],
   "source": [
    "grouped_df.agg({'Population': 'sum', 'Area': 'sum'})"
   ],
   "metadata": {
    "collapsed": false
   }
  },
  {
   "cell_type": "markdown",
   "source": [
    "* Find the top N countries with the highest one from the given DataFrame."
   ],
   "metadata": {
    "id": "bjn0HLF9xVzQ"
   }
  },
  {
   "cell_type": "code",
   "source": [
    "df.nlargest(5, ['Population'])"
   ],
   "metadata": {
    "colab": {
     "base_uri": "https://localhost:8080/",
     "height": 206
    },
    "id": "8hZMhanino17",
    "outputId": "6b1e6b97-01cb-49a7-c00b-266793d46407"
   },
   "execution_count": 7,
   "outputs": [
    {
     "data": {
      "text/plain": "           Country      Continent  Population       Area\n35           China           Asia      1355.7  3696100.0\n75           India           Asia      1236.3  1269210.0\n184  United States  North America       318.9  3794066.0\n76       Indonesia           Asia       253.6   735355.0\n23          Brazil  South America       202.7  3287597.0",
      "text/html": "<div>\n<style scoped>\n    .dataframe tbody tr th:only-of-type {\n        vertical-align: middle;\n    }\n\n    .dataframe tbody tr th {\n        vertical-align: top;\n    }\n\n    .dataframe thead th {\n        text-align: right;\n    }\n</style>\n<table border=\"1\" class=\"dataframe\">\n  <thead>\n    <tr style=\"text-align: right;\">\n      <th></th>\n      <th>Country</th>\n      <th>Continent</th>\n      <th>Population</th>\n      <th>Area</th>\n    </tr>\n  </thead>\n  <tbody>\n    <tr>\n      <th>35</th>\n      <td>China</td>\n      <td>Asia</td>\n      <td>1355.7</td>\n      <td>3696100.0</td>\n    </tr>\n    <tr>\n      <th>75</th>\n      <td>India</td>\n      <td>Asia</td>\n      <td>1236.3</td>\n      <td>1269210.0</td>\n    </tr>\n    <tr>\n      <th>184</th>\n      <td>United States</td>\n      <td>North America</td>\n      <td>318.9</td>\n      <td>3794066.0</td>\n    </tr>\n    <tr>\n      <th>76</th>\n      <td>Indonesia</td>\n      <td>Asia</td>\n      <td>253.6</td>\n      <td>735355.0</td>\n    </tr>\n    <tr>\n      <th>23</th>\n      <td>Brazil</td>\n      <td>South America</td>\n      <td>202.7</td>\n      <td>3287597.0</td>\n    </tr>\n  </tbody>\n</table>\n</div>"
     },
     "execution_count": 7,
     "metadata": {},
     "output_type": "execute_result"
    }
   ]
  },
  {
   "cell_type": "code",
   "source": [
    "df.nlargest(5, ['Area'])"
   ],
   "metadata": {
    "colab": {
     "base_uri": "https://localhost:8080/",
     "height": 206
    },
    "id": "oepnGPTPpqCF",
    "outputId": "b9f14e32-9696-4370-b414-491e7e84f148"
   },
   "execution_count": 8,
   "outputs": [
    {
     "data": {
      "text/plain": "                Country      Continent  Population       Area\n140  Russian Federation         Europe       142.5  6592800.0\n30               Canada  North America        34.8  3855000.0\n184       United States  North America       318.9  3794066.0\n35                China           Asia      1355.7  3696100.0\n23               Brazil  South America       202.7  3287597.0",
      "text/html": "<div>\n<style scoped>\n    .dataframe tbody tr th:only-of-type {\n        vertical-align: middle;\n    }\n\n    .dataframe tbody tr th {\n        vertical-align: top;\n    }\n\n    .dataframe thead th {\n        text-align: right;\n    }\n</style>\n<table border=\"1\" class=\"dataframe\">\n  <thead>\n    <tr style=\"text-align: right;\">\n      <th></th>\n      <th>Country</th>\n      <th>Continent</th>\n      <th>Population</th>\n      <th>Area</th>\n    </tr>\n  </thead>\n  <tbody>\n    <tr>\n      <th>140</th>\n      <td>Russian Federation</td>\n      <td>Europe</td>\n      <td>142.5</td>\n      <td>6592800.0</td>\n    </tr>\n    <tr>\n      <th>30</th>\n      <td>Canada</td>\n      <td>North America</td>\n      <td>34.8</td>\n      <td>3855000.0</td>\n    </tr>\n    <tr>\n      <th>184</th>\n      <td>United States</td>\n      <td>North America</td>\n      <td>318.9</td>\n      <td>3794066.0</td>\n    </tr>\n    <tr>\n      <th>35</th>\n      <td>China</td>\n      <td>Asia</td>\n      <td>1355.7</td>\n      <td>3696100.0</td>\n    </tr>\n    <tr>\n      <th>23</th>\n      <td>Brazil</td>\n      <td>South America</td>\n      <td>202.7</td>\n      <td>3287597.0</td>\n    </tr>\n  </tbody>\n</table>\n</div>"
     },
     "execution_count": 8,
     "metadata": {},
     "output_type": "execute_result"
    }
   ]
  },
  {
   "cell_type": "markdown",
   "source": [
    "* Merge two DataFrames on a common column 'Name'"
   ],
   "metadata": {
    "id": "ICpYYEBexmNp"
   }
  },
  {
   "cell_type": "code",
   "source": [
    "df1 = pd.read_csv('../data/employee.csv')\n",
    "df1"
   ],
   "metadata": {
    "colab": {
     "base_uri": "https://localhost:8080/",
     "height": 362
    },
    "id": "d9ezkQtaqAwb",
    "outputId": "604e7e87-ee79-4c76-85ff-da00a2ab7f5a"
   },
   "execution_count": 40,
   "outputs": [
    {
     "data": {
      "text/plain": "    Name  Age  Salary\n0  Alice   30   50000\n1    Bob   25   55000\n2  Carol   35   60000\n3  David   22   45000\n4    Eva   28   65000\n5  Frank   32   52000\n6  Grace   26   58000\n7  Helen   29   62000\n8   Ivan   24   48000\n9   Jack   34   70000",
      "text/html": "<div>\n<style scoped>\n    .dataframe tbody tr th:only-of-type {\n        vertical-align: middle;\n    }\n\n    .dataframe tbody tr th {\n        vertical-align: top;\n    }\n\n    .dataframe thead th {\n        text-align: right;\n    }\n</style>\n<table border=\"1\" class=\"dataframe\">\n  <thead>\n    <tr style=\"text-align: right;\">\n      <th></th>\n      <th>Name</th>\n      <th>Age</th>\n      <th>Salary</th>\n    </tr>\n  </thead>\n  <tbody>\n    <tr>\n      <th>0</th>\n      <td>Alice</td>\n      <td>30</td>\n      <td>50000</td>\n    </tr>\n    <tr>\n      <th>1</th>\n      <td>Bob</td>\n      <td>25</td>\n      <td>55000</td>\n    </tr>\n    <tr>\n      <th>2</th>\n      <td>Carol</td>\n      <td>35</td>\n      <td>60000</td>\n    </tr>\n    <tr>\n      <th>3</th>\n      <td>David</td>\n      <td>22</td>\n      <td>45000</td>\n    </tr>\n    <tr>\n      <th>4</th>\n      <td>Eva</td>\n      <td>28</td>\n      <td>65000</td>\n    </tr>\n    <tr>\n      <th>5</th>\n      <td>Frank</td>\n      <td>32</td>\n      <td>52000</td>\n    </tr>\n    <tr>\n      <th>6</th>\n      <td>Grace</td>\n      <td>26</td>\n      <td>58000</td>\n    </tr>\n    <tr>\n      <th>7</th>\n      <td>Helen</td>\n      <td>29</td>\n      <td>62000</td>\n    </tr>\n    <tr>\n      <th>8</th>\n      <td>Ivan</td>\n      <td>24</td>\n      <td>48000</td>\n    </tr>\n    <tr>\n      <th>9</th>\n      <td>Jack</td>\n      <td>34</td>\n      <td>70000</td>\n    </tr>\n  </tbody>\n</table>\n</div>"
     },
     "execution_count": 40,
     "metadata": {},
     "output_type": "execute_result"
    }
   ]
  },
  {
   "cell_type": "code",
   "execution_count": 41,
   "outputs": [
    {
     "data": {
      "text/plain": "   ID   Name Department\n0   1  Alice         HR\n1   2    Bob    Finance\n2   3  Carol         IT\n3   4  David         HR\n4   5    Eva    Finance\n5   6  Frank         IT\n6   7  Grace         HR\n7   8  Helen    Finance\n8   9   Ivan         IT\n9  10   Jack         HR",
      "text/html": "<div>\n<style scoped>\n    .dataframe tbody tr th:only-of-type {\n        vertical-align: middle;\n    }\n\n    .dataframe tbody tr th {\n        vertical-align: top;\n    }\n\n    .dataframe thead th {\n        text-align: right;\n    }\n</style>\n<table border=\"1\" class=\"dataframe\">\n  <thead>\n    <tr style=\"text-align: right;\">\n      <th></th>\n      <th>ID</th>\n      <th>Name</th>\n      <th>Department</th>\n    </tr>\n  </thead>\n  <tbody>\n    <tr>\n      <th>0</th>\n      <td>1</td>\n      <td>Alice</td>\n      <td>HR</td>\n    </tr>\n    <tr>\n      <th>1</th>\n      <td>2</td>\n      <td>Bob</td>\n      <td>Finance</td>\n    </tr>\n    <tr>\n      <th>2</th>\n      <td>3</td>\n      <td>Carol</td>\n      <td>IT</td>\n    </tr>\n    <tr>\n      <th>3</th>\n      <td>4</td>\n      <td>David</td>\n      <td>HR</td>\n    </tr>\n    <tr>\n      <th>4</th>\n      <td>5</td>\n      <td>Eva</td>\n      <td>Finance</td>\n    </tr>\n    <tr>\n      <th>5</th>\n      <td>6</td>\n      <td>Frank</td>\n      <td>IT</td>\n    </tr>\n    <tr>\n      <th>6</th>\n      <td>7</td>\n      <td>Grace</td>\n      <td>HR</td>\n    </tr>\n    <tr>\n      <th>7</th>\n      <td>8</td>\n      <td>Helen</td>\n      <td>Finance</td>\n    </tr>\n    <tr>\n      <th>8</th>\n      <td>9</td>\n      <td>Ivan</td>\n      <td>IT</td>\n    </tr>\n    <tr>\n      <th>9</th>\n      <td>10</td>\n      <td>Jack</td>\n      <td>HR</td>\n    </tr>\n  </tbody>\n</table>\n</div>"
     },
     "execution_count": 41,
     "metadata": {},
     "output_type": "execute_result"
    }
   ],
   "source": [
    "df2 = pd.read_csv('../data/dept.csv')\n",
    "df2"
   ],
   "metadata": {
    "collapsed": false
   }
  },
  {
   "cell_type": "code",
   "execution_count": 42,
   "outputs": [
    {
     "data": {
      "text/plain": "    Name  Age  Salary  ID Department\n0  Alice   30   50000   1         HR\n1    Bob   25   55000   2    Finance\n2  Carol   35   60000   3         IT\n3  David   22   45000   4         HR\n4    Eva   28   65000   5    Finance\n5  Frank   32   52000   6         IT\n6  Grace   26   58000   7         HR\n7  Helen   29   62000   8    Finance\n8   Ivan   24   48000   9         IT\n9   Jack   34   70000  10         HR",
      "text/html": "<div>\n<style scoped>\n    .dataframe tbody tr th:only-of-type {\n        vertical-align: middle;\n    }\n\n    .dataframe tbody tr th {\n        vertical-align: top;\n    }\n\n    .dataframe thead th {\n        text-align: right;\n    }\n</style>\n<table border=\"1\" class=\"dataframe\">\n  <thead>\n    <tr style=\"text-align: right;\">\n      <th></th>\n      <th>Name</th>\n      <th>Age</th>\n      <th>Salary</th>\n      <th>ID</th>\n      <th>Department</th>\n    </tr>\n  </thead>\n  <tbody>\n    <tr>\n      <th>0</th>\n      <td>Alice</td>\n      <td>30</td>\n      <td>50000</td>\n      <td>1</td>\n      <td>HR</td>\n    </tr>\n    <tr>\n      <th>1</th>\n      <td>Bob</td>\n      <td>25</td>\n      <td>55000</td>\n      <td>2</td>\n      <td>Finance</td>\n    </tr>\n    <tr>\n      <th>2</th>\n      <td>Carol</td>\n      <td>35</td>\n      <td>60000</td>\n      <td>3</td>\n      <td>IT</td>\n    </tr>\n    <tr>\n      <th>3</th>\n      <td>David</td>\n      <td>22</td>\n      <td>45000</td>\n      <td>4</td>\n      <td>HR</td>\n    </tr>\n    <tr>\n      <th>4</th>\n      <td>Eva</td>\n      <td>28</td>\n      <td>65000</td>\n      <td>5</td>\n      <td>Finance</td>\n    </tr>\n    <tr>\n      <th>5</th>\n      <td>Frank</td>\n      <td>32</td>\n      <td>52000</td>\n      <td>6</td>\n      <td>IT</td>\n    </tr>\n    <tr>\n      <th>6</th>\n      <td>Grace</td>\n      <td>26</td>\n      <td>58000</td>\n      <td>7</td>\n      <td>HR</td>\n    </tr>\n    <tr>\n      <th>7</th>\n      <td>Helen</td>\n      <td>29</td>\n      <td>62000</td>\n      <td>8</td>\n      <td>Finance</td>\n    </tr>\n    <tr>\n      <th>8</th>\n      <td>Ivan</td>\n      <td>24</td>\n      <td>48000</td>\n      <td>9</td>\n      <td>IT</td>\n    </tr>\n    <tr>\n      <th>9</th>\n      <td>Jack</td>\n      <td>34</td>\n      <td>70000</td>\n      <td>10</td>\n      <td>HR</td>\n    </tr>\n  </tbody>\n</table>\n</div>"
     },
     "execution_count": 42,
     "metadata": {},
     "output_type": "execute_result"
    }
   ],
   "source": [
    "df3 = df1.merge(df2, on='Name')\n",
    "df3"
   ],
   "metadata": {
    "collapsed": false
   }
  },
  {
   "cell_type": "markdown",
   "source": [
    "* Fill missing values in the given csv  - 'https://raw.githubusercontent.com/agconti/kaggle-titanic/master/data/train.csv' \n",
    "\n",
    "* Replace missing values in the 'Age' column with the mean age.\n",
    "* Replace missing values in the 'Cabin' column with the mode value.\n",
    "* Replace missing values in the 'Embarked' column with the mode value."
   ],
   "metadata": {
    "id": "tkg4BPb-rytm"
   }
  },
  {
   "cell_type": "code",
   "source": [
    "df_missing = pd.read_csv('https://raw.githubusercontent.com/agconti/kaggle-titanic/master/data/train.csv')\n",
    "df_missing.info()"
   ],
   "metadata": {
    "id": "zUMP_DBRrh2A"
   },
   "execution_count": 43,
   "outputs": [
    {
     "name": "stdout",
     "output_type": "stream",
     "text": [
      "<class 'pandas.core.frame.DataFrame'>\n",
      "RangeIndex: 891 entries, 0 to 890\n",
      "Data columns (total 12 columns):\n",
      " #   Column       Non-Null Count  Dtype  \n",
      "---  ------       --------------  -----  \n",
      " 0   PassengerId  891 non-null    int64  \n",
      " 1   Survived     891 non-null    int64  \n",
      " 2   Pclass       891 non-null    int64  \n",
      " 3   Name         891 non-null    object \n",
      " 4   Sex          891 non-null    object \n",
      " 5   Age          714 non-null    float64\n",
      " 6   SibSp        891 non-null    int64  \n",
      " 7   Parch        891 non-null    int64  \n",
      " 8   Ticket       891 non-null    object \n",
      " 9   Fare         891 non-null    float64\n",
      " 10  Cabin        204 non-null    object \n",
      " 11  Embarked     889 non-null    object \n",
      "dtypes: float64(2), int64(5), object(5)\n",
      "memory usage: 83.7+ KB\n"
     ]
    }
   ]
  },
  {
   "cell_type": "code",
   "execution_count": 46,
   "outputs": [
    {
     "name": "stdout",
     "output_type": "stream",
     "text": [
      "<class 'pandas.core.series.Series'>\n",
      "RangeIndex: 891 entries, 0 to 890\n",
      "Series name: Age\n",
      "Non-Null Count  Dtype  \n",
      "--------------  -----  \n",
      "891 non-null    float64\n",
      "dtypes: float64(1)\n",
      "memory usage: 7.1 KB\n"
     ]
    }
   ],
   "source": [
    "# * Replace missing values in the 'Age' column with the mean age.\n",
    "\n",
    "df_age = df_missing['Age'].fillna(df_missing['Age'].mean())\n",
    "df_age.info()"
   ],
   "metadata": {
    "collapsed": false
   }
  },
  {
   "cell_type": "code",
   "execution_count": 47,
   "outputs": [
    {
     "name": "stdout",
     "output_type": "stream",
     "text": [
      "<class 'pandas.core.series.Series'>\n",
      "RangeIndex: 891 entries, 0 to 890\n",
      "Series name: Cabin\n",
      "Non-Null Count  Dtype \n",
      "--------------  ----- \n",
      "891 non-null    object\n",
      "dtypes: object(1)\n",
      "memory usage: 7.1+ KB\n"
     ]
    }
   ],
   "source": [
    "# * Replace missing values in the 'Cabin' column with the mode value.\n",
    "\n",
    "df_cabin = df_missing['Cabin'].fillna(df_missing['Cabin'].mode()[0])\n",
    "df_cabin.info()"
   ],
   "metadata": {
    "collapsed": false
   }
  },
  {
   "cell_type": "code",
   "execution_count": 48,
   "outputs": [
    {
     "name": "stdout",
     "output_type": "stream",
     "text": [
      "<class 'pandas.core.series.Series'>\n",
      "RangeIndex: 891 entries, 0 to 890\n",
      "Series name: Embarked\n",
      "Non-Null Count  Dtype \n",
      "--------------  ----- \n",
      "891 non-null    object\n",
      "dtypes: object(1)\n",
      "memory usage: 7.1+ KB\n"
     ]
    }
   ],
   "source": [
    "# * Replace missing values in the 'Embarked' column with the mode value.\n",
    "\n",
    "df_embarked = df_missing['Embarked'].fillna(df_missing['Embarked'].mode()[0])\n",
    "df_embarked.info()"
   ],
   "metadata": {
    "collapsed": false
   }
  },
  {
   "cell_type": "markdown",
   "source": [
    "* Calculate the total fare for each passenger in the given DataFrame."
   ],
   "metadata": {
    "id": "7jl_6T_xvFWB"
   }
  },
  {
   "cell_type": "code",
   "source": [
    "df_missing.values"
   ],
   "metadata": {
    "colab": {
     "base_uri": "https://localhost:8080/",
     "height": 956
    },
    "id": "c7p0ANH4vXyA",
    "outputId": "00a78f39-3749-4118-c442-3699517d6157"
   },
   "execution_count": 52,
   "outputs": [
    {
     "data": {
      "text/plain": "array([[1, 0, 3, ..., 7.25, nan, 'S'],\n       [2, 1, 1, ..., 71.2833, 'C85', 'C'],\n       [3, 1, 3, ..., 7.925, nan, 'S'],\n       ...,\n       [889, 0, 3, ..., 23.45, nan, 'S'],\n       [890, 1, 1, ..., 30.0, 'C148', 'C'],\n       [891, 0, 3, ..., 7.75, nan, 'Q']], dtype=object)"
     },
     "execution_count": 52,
     "metadata": {},
     "output_type": "execute_result"
    }
   ]
  }
 ]
}
