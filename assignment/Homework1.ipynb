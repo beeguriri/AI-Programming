{
  "nbformat": 4,
  "nbformat_minor": 0,
  "metadata": {
    "colab": {
      "provenance": []
    },
    "kernelspec": {
      "name": "python3",
      "display_name": "Python 3"
    },
    "language_info": {
      "name": "python"
    }
  },
  "cells": [
    {
      "cell_type": "markdown",
      "source": [
        "# Homework 1"
      ],
      "metadata": {
        "collapsed": false,
        "id": "35M_IL4m1yG_"
      }
    },
    {
      "cell_type": "markdown",
      "source": [
        "Note: For the following exercises, write a program to solve the problem and\n",
        "display the answer. A possible output is shown in a shaded box and responses\n",
        "to input statements appear underlined."
      ],
      "metadata": {
        "id": "1EhEQC6IClgZ"
      }
    },
    {
      "cell_type": "markdown",
      "source": [
        "## 1. Word Replacement \n",
        "\n",
        "Write a program that requests a sentence, a word in\n",
        "the sentence, and another word and then displays the sentence with the first\n",
        "word replaced by the second. \n",
        "\n",
        "Do not use the format method.\n",
        "\n",
        "Output:\n",
        "```\n",
        "Enter a sentence: What you don't know won't hurt you.\n",
        "Enter word to replace: know\n",
        "Enter replacement word: owe\n",
        "What you don't owe won't hurt you.\n",
        "```"
      ],
      "metadata": {
        "id": "A4Ks_D_PCrrI"
      }
    },
    {
      "cell_type": "code",
      "execution_count": null,
      "metadata": {
        "id": "3w453RjhCh5y",
        "pycharm": {
          "is_executing": true
        }
      },
      "outputs": [],
      "source": [
        "sentence = input('Enter a sentence: ')\n",
        "word = input('Enter a word to replace: ')\n",
        "replace_word = input('Enter a replacement word: ')\n",
        "print(sentence.replace(word, replace_word))"
      ]
    },
    {
      "cell_type": "markdown",
      "source": [
        "## 2. Present Value \n",
        "\n",
        "The present value of f dollars at interest rate r% compounded\n",
        "annually for n years is the amount of money that must be invested now in\n",
        "order to grow to f dollars (called the future value) in n years where the\n",
        "interest rate is r% per year. The formula for present value is\n",
        "\n",
        "$$ present\\ value = \\frac{f}{{(1+\\frac{r}{100})}^n} $$\n",
        "\n",
        "Calculate the present value of an investment after the user enters the future\n",
        "value, interest rate, and number of years. The following figure shows that at\n",
        "4% interest per year, \\\\$7,903.15 must be invested now in order to have \\\\$10,000 after 6 years. \n",
        "\n",
        "The program should use the format method to display\n",
        "the outputs.\n",
        "\n",
        "```\n",
        "Enter future value: 10000\n",
        "Enter interest rate (as %): 4\n",
        "Enter number of years: 6\n",
        "Present value: $7,903.15\n",
        "```\n",
        " "
      ],
      "metadata": {
        "id": "VZ_vsZP6C-Xk"
      }
    },
    {
      "cell_type": "code",
      "source": [
        "value = int(input('Enter future value: '))\n",
        "rate = int(input('Enter interest rate (as %): '))\n",
        "years = int(input('Enter number of years: '))\n",
        "present_value = value / (1+rate/100)**years\n",
        "\n",
        "print('${:0,.2f}'.format(present_value))"
      ],
      "metadata": {
        "id": "iorxrNcFDCUt",
        "colab": {
          "base_uri": "https://localhost:8080/"
        },
        "outputId": "45c29cc0-9dc9-49b9-9e25-578168e8c118"
      },
      "execution_count": null,
      "outputs": [
        {
          "output_type": "stream",
          "name": "stdout",
          "text": [
            "Enter future value: 10000\n",
            "Enter interest rate (as %): 4\n",
            "Enter number of years: 6\n",
            "$7,903.15\n"
          ]
        }
      ]
    },
    {
      "cell_type": "markdown",
      "source": [
        "## 3. Pig Latin\n",
        "\n",
        "Write a program that requests a word (in lowercase letters) as\n",
        "input and translates the word into Pig Latin. The rules for translating a word\n",
        "into Pig Latin are as follows:\n",
        "\n",
        "(a) If the word begins with a group of consonants(자음), move them to the end of\n",
        "the word and add `ay`. For instance, *chip* becomes *ipchay*.\n",
        "\n",
        "(b) If the word begins with a vowel(모음), add `way` to the end of the word. For\n",
        "instance, *else* becomes *elseway*.\n",
        "\n",
        "```\n",
        "Enter word to translate: chip\n",
        "The word in Pig Latin is ipchay.\n",
        "```"
      ],
      "metadata": {
        "id": "V-bzj3X5DBzN"
      }
    },
    {
      "cell_type": "code",
      "source": [
        "import string\n",
        "\n",
        "text = input(\"Enter a text passage: \")\n",
        "\n",
        "# Remove white spaces from a given string\n",
        "# Count the number of characters\n",
        "characters = len(text.translate(str.maketrans('', '', string.punctuation)))\n",
        "\n",
        "# Split the text into words and count the number of words\n",
        "words = text.split()\n",
        "word_count = len(words)\n",
        "\n",
        "# Split the text into sentences and count the number of sentences\n",
        "sentences = text.split(\".\")\n",
        "sentences = [sentence for sentence in sentences if sentence]\n",
        "sentence_count = len(sentences)\n",
        "\n",
        "# Calculate the average word length\n",
        "total_word_length = 0\n",
        "for word in words:\n",
        "    total_word_length += len(word)\n",
        "average_word_length = total_word_length / word_count\n",
        "\n",
        "# Calculate the average sentence length\n",
        "average_sentence_length = word_count / sentence_count\n",
        "\n",
        "vowels = \"aeiou\"\n",
        "vowel_count = {vowel: text.lower().count(vowel) for vowel in vowels}\n",
        "total_vowel_count = sum(vowel_count.values())\n",
        "vowel_percentage = total_vowel_count / characters * 100\n",
        "\n",
        "word_frequency = {}\n",
        "for word in words:\n",
        "    word = word.lower()\n",
        "    word_frequency[word] = word_frequency.get(word, 0) + 1\n",
        "\n",
        "print(f\"Total characters: {characters}\")\n",
        "print(f\"Total words: {word_count}\")\n",
        "print(f\"Total sentences: {sentence_count}\")\n",
        "print(f\"Average word length: {average_word_length:.2f}\")\n",
        "print(f\"Average sentence length: {average_sentence_length:.2f}\")\n",
        "print(\"\\nVowel frequencies and percentages:\")\n",
        "\n",
        "for vowel, count in vowel_count.items():\n",
        "    print(f\"{vowel}: {count} ({count/characters * 100:.2f}%)\")\n",
        "print(\"\\nWord frequencies:\")\n",
        "for word, count in word_frequency.items():\n",
        "    print(f\"{word}: {count}\")"
      ],
      "metadata": {
        "id": "pLTYxtZKEnP4",
        "colab": {
          "base_uri": "https://localhost:8080/"
        },
        "outputId": "679082cb-4a18-4bd8-fb64-0978c6104b9d"
      },
      "execution_count": 1,
      "outputs": [
        {
          "output_type": "stream",
          "name": "stdout",
          "text": [
            "Enter a text passage: deq\n",
            "Total characters: 3\n",
            "Total words: 1\n",
            "Total sentences: 1\n",
            "Average word length: 3.00\n",
            "Average sentence length: 1.00\n",
            "\n",
            "Vowel frequencies and percentages:\n",
            "a: 0 (0.00%)\n",
            "e: 1 (33.33%)\n",
            "i: 0 (0.00%)\n",
            "o: 0 (0.00%)\n",
            "u: 0 (0.00%)\n",
            "\n",
            "Word frequencies:\n",
            "deq: 1\n"
          ]
        }
      ]
    },
    {
      "cell_type": "markdown",
      "source": [
        "# 4. Bouncing Ball\n",
        "\n",
        "The coefficient of restitution of a ball (공의 반발 계수), a number between 0 and 1, specifies how much energy is conserved when the ball hits a rigid surface. A coefficient of .9, for instance, means a bouncing ball will rise to 90% of its previous height after each bounce. Write a program to input a coefficient of restitution and an initial height in meters, and report how many times a ball bounces when dropped from its initial height before it rises to a height of less than 10 centimeters. Also report the total distance traveled by the ball before this point. The coefficients of restitution of a tennis ball, basketball, super ball, and softball are .7, .75,  .9, and .3, respectively.\n",
        "\n",
        "```\n",
        "Enter coefficient of restitution: .7\n",
        "Enter initial height in meters: 8\n",
        "Number of bounces: 13\n",
        "Meters traveled: 44.82\n",
        "```"
      ],
      "metadata": {
        "id": "JeTmpMPeFivF"
      }
    },
    {
      "cell_type": "code",
      "source": [
        "coeff = float(input('Enter coefficient of restitution: '))\n",
        "height = int(input('Enter initial height in meters: '))\n",
        "bounce = 1\n",
        "meters = height\n",
        "\n",
        "while True:\n",
        "  height = height * coeff\n",
        "  if height < 0.1:\n",
        "    break\n",
        "  meters += height*2\n",
        "  bounce +=1\n",
        "\n",
        "print(bounce)\n",
        "print('{:.2f}'.format(meters))"
      ],
      "metadata": {
        "id": "gqi8rgstFx3l",
        "colab": {
          "base_uri": "https://localhost:8080/"
        },
        "outputId": "26c84664-8ba3-42a2-e545-d4db96c26e47"
      },
      "execution_count": 4,
      "outputs": [
        {
          "output_type": "stream",
          "name": "stdout",
          "text": [
            "Enter coefficient of restitution: 0.7\n",
            "Enter initial height in meters: 8\n",
            "13\n",
            "44.82\n"
          ]
        }
      ]
    },
    {
      "cell_type": "markdown",
      "source": [
        "## 5. Digit Sum\n",
        "\n",
        "Write a program to calculate the total sum of the digits in the integers from 1 to a million.\n",
        "\n",
        "```\n",
        "The sum of the digits in the numbers\n",
        "from 1 to one million is 27,000,001.\n",
        "```"
      ],
      "metadata": {
        "id": "0EcXiSICGkXm"
      }
    },
    {
      "cell_type": "code",
      "source": [
        "def sumOfDigits(x) :\n",
        "    sum = 0\n",
        "    while (x != 0) :\n",
        "        sum = sum + x % 10\n",
        "        x   = x // 10\n",
        "    return sum\n",
        "\n",
        "result = 0\n",
        "for i in range(1, 1000001):\n",
        "  result = result + sumOfDigits(i)\n",
        "\n",
        "print(result)"
      ],
      "metadata": {
        "id": "c-mMlmy2GruK",
        "colab": {
          "base_uri": "https://localhost:8080/"
        },
        "outputId": "736e164f-f0f2-4527-a9fb-9718668da62a"
      },
      "execution_count": null,
      "outputs": [
        {
          "output_type": "stream",
          "name": "stdout",
          "text": [
            "27000001\n"
          ]
        }
      ]
    }
  ]
}