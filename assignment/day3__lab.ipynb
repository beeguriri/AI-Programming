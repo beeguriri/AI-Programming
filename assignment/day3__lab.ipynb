{
 "nbformat": 4,
 "nbformat_minor": 0,
 "metadata": {
  "colab": {
   "provenance": [],
   "toc_visible": true
  },
  "kernelspec": {
   "name": "python3",
   "display_name": "Python 3"
  },
  "language_info": {
   "name": "python"
  }
 },
 "cells": [
  {
   "cell_type": "markdown",
   "source": [
    "# Lab5"
   ],
   "metadata": {
    "id": "ZYJeA4fpcGNk"
   }
  },
  {
   "cell_type": "markdown",
   "source": [
    "\n",
    "\n",
    "## 1. Write your code according to the following instructions:\n",
    "\n",
    "* Create a list of integers and find the sum of all even numbers.\n",
    "* Add a new element to the end of the list.\n",
    "* Remove the first element from the list.\n",
    "* Sort the list in ascending order.\n",
    "\n",
    "\n",
    "\n",
    "\n",
    "\n",
    "\n"
   ],
   "metadata": {
    "id": "0AZqhmeccW7p"
   }
  },
  {
   "cell_type": "code",
   "source": [
    "# Create a list of integers\n",
    "int_list = list(range(1, 100))\n",
    "print(sum([i for i in int_list if i % 2==0]))\n",
    "\n",
    "int_list.append(100)\n",
    "int_list.remove(int_list[0])\n",
    "print(int_list)\n",
    "\n",
    "int_list_sort = sorted(int_list)\n",
    "print(int_list_sort)"
   ],
   "metadata": {
    "id": "SBUQ1WRTc1Nz"
   },
   "execution_count": 51,
   "outputs": [
    {
     "name": "stdout",
     "output_type": "stream",
     "text": [
      "2450\n",
      "[2, 3, 4, 5, 6, 7, 8, 9, 10, 11, 12, 13, 14, 15, 16, 17, 18, 19, 20, 21, 22, 23, 24, 25, 26, 27, 28, 29, 30, 31, 32, 33, 34, 35, 36, 37, 38, 39, 40, 41, 42, 43, 44, 45, 46, 47, 48, 49, 50, 51, 52, 53, 54, 55, 56, 57, 58, 59, 60, 61, 62, 63, 64, 65, 66, 67, 68, 69, 70, 71, 72, 73, 74, 75, 76, 77, 78, 79, 80, 81, 82, 83, 84, 85, 86, 87, 88, 89, 90, 91, 92, 93, 94, 95, 96, 97, 98, 99, 100]\n",
      "[2, 3, 4, 5, 6, 7, 8, 9, 10, 11, 12, 13, 14, 15, 16, 17, 18, 19, 20, 21, 22, 23, 24, 25, 26, 27, 28, 29, 30, 31, 32, 33, 34, 35, 36, 37, 38, 39, 40, 41, 42, 43, 44, 45, 46, 47, 48, 49, 50, 51, 52, 53, 54, 55, 56, 57, 58, 59, 60, 61, 62, 63, 64, 65, 66, 67, 68, 69, 70, 71, 72, 73, 74, 75, 76, 77, 78, 79, 80, 81, 82, 83, 84, 85, 86, 87, 88, 89, 90, 91, 92, 93, 94, 95, 96, 97, 98, 99, 100]\n"
     ]
    }
   ]
  },
  {
   "cell_type": "markdown",
   "source": [
    "## 2. Write your code according to the following instructions:\n",
    "\n",
    "* Create a tuple containing names of your three favorite fruits.\n",
    "* Use tuple unpacking to assign each fruit to a separate variable.\n",
    "* Create a new tuple by concatenating your favorite fruits with a tuple of your favorite vegetables."
   ],
   "metadata": {
    "id": "mGbPfQJEc5pl"
   }
  },
  {
   "cell_type": "code",
   "source": [
    "# Create a tuple containing names of your three favorite fruits.\n",
    "fruits = (\"apple\", \"banana\", \"cherry\")\n",
    "vegetables = (\"carrot\", \"spinach\", \"cabbage\")\n",
    "tup = fruits + vegetables\n",
    "print(tup)"
   ],
   "metadata": {
    "id": "mGAC-9rSc7Qd"
   },
   "execution_count": 116,
   "outputs": [
    {
     "name": "stdout",
     "output_type": "stream",
     "text": [
      "('apple', 'banana', 'cherry', 'carrot', 'spinach', 'cabbage')\n"
     ]
    }
   ]
  },
  {
   "cell_type": "markdown",
   "source": [
    "## 3. Write your code according to the following instructions:\n",
    "\n",
    "* Create a list of strings and find the longest string.\n",
    "* Calculate the sum of a range of numbers from 1 to 100.\n",
    "* Using a list comprehension, create a list containing the squares of the numbers from 1 to 10.\n",
    "\n"
   ],
   "metadata": {
    "id": "INqFk2K5c7ks"
   }
  },
  {
   "cell_type": "code",
   "source": [
    "# Create a list of strings\n",
    "strings = [\"apple\", \"banana\", \"A\", \"Hello\", \"Python is fun!\", \"pineapple\", \"blueberry\", ]\n",
    "print(max(strings, key=len))\n",
    "\n",
    "print(sum(range(1,101)))\n",
    "\n",
    "sq_list = [i**2 for i in range(1,11)]\n",
    "print(sq_list)"
   ],
   "metadata": {
    "id": "B2c46qWfc8z0"
   },
   "execution_count": 118,
   "outputs": [
    {
     "name": "stdout",
     "output_type": "stream",
     "text": [
      "Python is fun!\n",
      "5050\n",
      "[1, 4, 9, 16, 25, 36, 49, 64, 81, 100]\n"
     ]
    }
   ]
  },
  {
   "cell_type": "markdown",
   "source": [
    "\n",
    "## 4. Write your code according to the following instructions:\n",
    "\n",
    "* Create two lists, a and b, where b is a shallow copy of a.\n",
    "* Modify an element in a and observe the effect on b.\n",
    "* Repeat the process using a deep copy instead of a shallow copy."
   ],
   "metadata": {
    "id": "jAEoPcBXc9kM"
   }
  },
  {
   "cell_type": "code",
   "source": [
    "import copy\n",
    "\n",
    "# Create a list with variable name a\n",
    "a = [1, 2, [3, 4]]\n",
    "b = a\n",
    "\n",
    "a.append([5,6])\n",
    "print(a)\n",
    "print(b)\n",
    "\n",
    "b = copy.deepcopy(a)\n",
    "a.append([7,8])\n",
    "print(a)\n",
    "print(b)"
   ],
   "metadata": {
    "id": "nJN7nZ1Nc-ad"
   },
   "execution_count": 57,
   "outputs": [
    {
     "name": "stdout",
     "output_type": "stream",
     "text": [
      "[1, 2, [3, 4], [5, 6]]\n",
      "[1, 2, [3, 4], [5, 6]]\n",
      "[1, 2, [3, 4], [5, 6], [7, 8]]\n",
      "[1, 2, [3, 4], [5, 6]]\n"
     ]
    }
   ]
  },
  {
   "cell_type": "markdown",
   "source": [
    "## 5 Write your code according to the following instructions:\n",
    "\n",
    "* Create a string containing a sentence.\n",
    "* Reverse the order of the words in the sentence.\n",
    "* Convert the sentence to uppercase.\n",
    "Replace a word in the sentence with another word.\n",
    "\n",
    "\n",
    "\n"
   ],
   "metadata": {
    "id": "EkRNBCyLctUY"
   }
  },
  {
   "cell_type": "code",
   "source": [
    "# Create a string containing a sentence.\n",
    "sentence = \"This is a sample sentence\"\n",
    "print(\" \".join(sentence.split()[::-1]))\n",
    "print(sentence.upper())\n",
    "print(sentence.replace(\"sample\", \"simple\"))\n",
    "print(sentence) #string 불변"
   ],
   "metadata": {
    "id": "BxdeHEF_cB3C"
   },
   "execution_count": 120,
   "outputs": [
    {
     "name": "stdout",
     "output_type": "stream",
     "text": [
      "sentence sample a is This\n",
      "THIS IS A SAMPLE SENTENCE\n",
      "This is a simple sentence\n",
      "This is a sample sentence\n"
     ]
    }
   ]
  },
  {
   "cell_type": "markdown",
   "source": [
    "# 6. Palindrome Check\n",
    "\n",
    "A palindrome is a word, phrase, number, or other sequences of characters that reads the same forward and backward, ignoring spaces, punctuation, and capitalization. Write a function that checks if a given string is a palindrome."
   ],
   "metadata": {
    "id": "tdJa-fe6Lu_N"
   }
  },
  {
   "cell_type": "code",
   "source": [
    "def is_palindrome(s: str):\n",
    "    if len(s)>=2:\n",
    "        str_rev = s[::-1]\n",
    "        if s==str_rev:\n",
    "            return True\n",
    "        else:\n",
    "            return False\n",
    "    else:\n",
    "        return False\n",
    "\n",
    "input_strings = ['', 'a', 'bb', 'racecar', 'hello', 'madam', 'python', 'level', 'world']\n",
    "for s in input_strings:\n",
    "    print(is_palindrome(s))\n",
    "\n",
    "check_str = [b for b in input_strings if is_palindrome(b)]\n",
    "print(check_str)"
   ],
   "metadata": {
    "id": "rBaG-0MTRktW"
   },
   "execution_count": 125,
   "outputs": [
    {
     "name": "stdout",
     "output_type": "stream",
     "text": [
      "False\n",
      "False\n",
      "True\n",
      "True\n",
      "False\n",
      "True\n",
      "False\n",
      "True\n",
      "False\n",
      "['bb', 'racecar', 'madam', 'level']\n"
     ]
    }
   ]
  },
  {
   "cell_type": "markdown",
   "source": [
    "# Lab6"
   ],
   "metadata": {
    "id": "9fgcLU2reahl"
   }
  },
  {
   "cell_type": "markdown",
   "source": [
    "## 1. Write your code according to the following instructions:\n",
    "\n",
    "* Create a list of numbers from 1 to 50.\n",
    "* Filter out all the numbers that are divisible by 3 and store them in a new list.\n",
    "* Calculate the sum of the remaining numbers in the original list.\n",
    "* Reverse the order of the elements in the original list."
   ],
   "metadata": {
    "id": "dI9p5_rNec8G"
   }
  },
  {
   "cell_type": "code",
   "source": [
    "# Create a list of numbers from 1 to 50\n",
    "numbers = list(range(1, 51))\n",
    "num_new = [i for i in numbers if i%3==0]\n",
    "print(num_new)\n",
    "\n",
    "print([i for i in numbers if i not in num_new])\n",
    "print(sorted(numbers, reverse=True))"
   ],
   "metadata": {
    "id": "nvheaxJOedT9"
   },
   "execution_count": 126,
   "outputs": [
    {
     "name": "stdout",
     "output_type": "stream",
     "text": [
      "[3, 6, 9, 12, 15, 18, 21, 24, 27, 30, 33, 36, 39, 42, 45, 48]\n",
      "[1, 2, 4, 5, 7, 8, 10, 11, 13, 14, 16, 17, 19, 20, 22, 23, 25, 26, 28, 29, 31, 32, 34, 35, 37, 38, 40, 41, 43, 44, 46, 47, 49, 50]\n",
      "[50, 49, 48, 47, 46, 45, 44, 43, 42, 41, 40, 39, 38, 37, 36, 35, 34, 33, 32, 31, 30, 29, 28, 27, 26, 25, 24, 23, 22, 21, 20, 19, 18, 17, 16, 15, 14, 13, 12, 11, 10, 9, 8, 7, 6, 5, 4, 3, 2, 1]\n"
     ]
    }
   ]
  },
  {
   "cell_type": "markdown",
   "source": [
    "## 2. Write your code according to the following instructions:\n",
    "\n",
    "* Create a tuple containing 5 numbers.\n",
    "* Calculate the minimum, maximum, and average of the numbers in the tuple.\n",
    "* Create a new tuple by appending the calculated minimum, maximum, and average to the original tuple.\n",
    "* Use tuple unpacking to store the first three elements of the new tuple in separate variables."
   ],
   "metadata": {
    "id": "wDOVnwLTee8p"
   }
  },
  {
   "cell_type": "code",
   "source": [
    "# Create a tuple containing 5 numbers\n",
    "numbers = (3, 7, 2, 9, 5)\n",
    "print(min(numbers))\n",
    "print(max(numbers))\n",
    "print(sum(numbers)/len(numbers))\n",
    "\n",
    "# Create new tuple\n",
    "new_num = (min(numbers), max(numbers), sum(numbers)/len(numbers))\n",
    "print(new_num)\n",
    "\n",
    "#unpacking\n",
    "min_num, max_num, avg_num = (min(numbers), max(numbers), sum(numbers)/len(numbers))\n",
    "print(min_num)\n",
    "print(max_num)\n",
    "print(avg_num)"
   ],
   "metadata": {
    "id": "YeC_cgT3ee8q"
   },
   "execution_count": 85,
   "outputs": [
    {
     "name": "stdout",
     "output_type": "stream",
     "text": [
      "2\n",
      "9\n",
      "5.2\n",
      "(2, 9, 5.2)\n",
      "2\n",
      "9\n",
      "5.2\n"
     ]
    }
   ]
  },
  {
   "cell_type": "code",
   "source": [
    "# Given a list of strings\n",
    "strings = [\"apple\", \"banana\", \"pineapple\", \"blueberry\", \"kiwi\"]\n",
    "\n"
   ],
   "metadata": {
    "id": "Q7DxZNeGefP0"
   },
   "execution_count": null,
   "outputs": []
  },
  {
   "cell_type": "markdown",
   "source": [
    "## 3. Write your code according to the following instructions:\n",
    "\n",
    "* Write a function that takes a string as input and returns the string with all vowels removed.\n",
    "* Create a list of strings and use the function to filter the vowels from each string.\n",
    "* Sort the filtered strings based on the number of consonants.\n",
    "* Write a function that takes a string as input and returns the string with words in reverse order. Use this function on each string in the list of filtered strings."
   ],
   "metadata": {
    "id": "P5k8YQd9dmUT"
   }
  },
  {
   "cell_type": "code",
   "source": [
    "def remove_vowels(s):\n",
    "  # implement your code\n",
    "  vowels = ['a', 'e', 'i', 'o', 'u']\n",
    "  for v in vowels:\n",
    "      s = s.replace(v,'')\n",
    "\n",
    "  return s\n",
    "\n",
    "def reverse_word(s):\n",
    "    return sorted(s, reverse=True)\n",
    "\n",
    "# Create a list of strings\n",
    "strings = [\"apple\", \"banana\", \"cherry\", \"kiwi\", \"mango\", \"orange\", \"strawberry\", \"avocado\", \"zucchini\", \"grape\", \"blueberry\"]\n",
    "\n",
    "filtered_strings = []\n",
    "for s in strings:\n",
    "    filtered_strings.append(remove_vowels(s))\n",
    "print(filtered_strings)\n",
    "\n",
    "filtered_strings.sort(key=len)\n",
    "print(filtered_strings)\n",
    "\n",
    "for s in filtered_strings:\n",
    "    print(\"\".join(reverse_word(s)))"
   ],
   "metadata": {
    "id": "EBIwt03Kdnpp"
   },
   "execution_count": 128,
   "outputs": [
    {
     "name": "stdout",
     "output_type": "stream",
     "text": [
      "['ppl', 'bnn', 'chrry', 'kw', 'mng', 'rng', 'strwbrry', 'vcd', 'zcchn', 'grp', 'blbrry']\n",
      "['kw', 'ppl', 'bnn', 'mng', 'rng', 'vcd', 'grp', 'chrry', 'zcchn', 'blbrry', 'strwbrry']\n",
      "wk\n",
      "ppl\n",
      "nnb\n",
      "nmg\n",
      "rng\n",
      "vdc\n",
      "rpg\n",
      "yrrhc\n",
      "znhcc\n",
      "yrrlbb\n",
      "ywtsrrrb\n"
     ]
    }
   ]
  },
  {
   "cell_type": "markdown",
   "source": [
    "## 4. Two Sum\n",
    "\n",
    "Given a list of integers and a target integer, find two integers in the list that sum up to the target. Return their indices as a tuple. Assume there is exactly one solution and you may not use the same element twice.\n",
    "\n",
    "\n",
    "```\n",
    "# input data 1\n",
    "numbers = [3, 2, 4]\n",
    "target = 6\n",
    "\n",
    "# output data 1\n",
    "(1, 2)\n",
    "\n",
    "# input data 2\n",
    "numbers = [8, 5, 6, 1, 2, 9]\n",
    "target = 9\n",
    "\n",
    "# output data 2\n",
    "(0, 3)\n",
    "\n",
    "# input data 3\n",
    "numbers = [1, 3, 6, 9, 2, 4, 8]\n",
    "target = 14\n",
    "\n",
    "# output data 3\n",
    "(2, 6)\n",
    "```"
   ],
   "metadata": {
    "id": "mPv8F8IDdsNB"
   }
  },
  {
   "cell_type": "code",
   "source": [
    "def two_sum(nums, target):\n",
    "    # Implement your code\n",
    "    # Return two integers in the list that sum up to the target\n",
    "    for i in range(len(nums)):\n",
    "        for j in range(i+1, len(nums)):\n",
    "            if nums[i] + nums[j] == target:\n",
    "                return (i,j)\n",
    "\n",
    "print(two_sum([3,2,4], 6))\n",
    "print(two_sum([8, 5, 6, 1, 2, 9], 9))\n",
    "print(two_sum([1, 3, 6, 9, 2, 4, 8], 14))"
   ],
   "metadata": {
    "id": "tXDgAKGadyDx"
   },
   "execution_count": 90,
   "outputs": [
    {
     "name": "stdout",
     "output_type": "stream",
     "text": [
      "(1, 2)\n",
      "(0, 3)\n",
      "(2, 6)\n"
     ]
    }
   ]
  }
 ]
}
